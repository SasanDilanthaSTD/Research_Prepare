{
 "cells": [
  {
   "cell_type": "markdown",
   "metadata": {},
   "source": [
    "#### import packages"
   ]
  },
  {
   "cell_type": "code",
   "execution_count": 1,
   "metadata": {},
   "outputs": [],
   "source": [
    "import os\n",
    "import numpy as np\n",
    "import rasterio\n",
    "import joblib \n",
    "from pathlib import Path\n",
    "import matplotlib.pyplot as plt"
   ]
  },
  {
   "cell_type": "markdown",
   "metadata": {},
   "source": [
    ">- Define functions"
   ]
  },
  {
   "cell_type": "code",
   "execution_count": null,
   "metadata": {},
   "outputs": [],
   "source": [
    "def calculate_ndvi(nir, red):\n",
    "    return (nir - red) / (nir + red + 1e-10)\n",
    "\n",
    "def calculate_ndwi(nir, swir):\n",
    "    return (nir - swir) / (nir + swir + 1e-10)\n",
    "\n",
    "def extract_features_for_v1(image_path):\n",
    "    with rasterio.open(image_path) as src:\n",
    "        bands = src.read()\n",
    "        nir, red, swir = bands[3], bands[2], bands[4]\n",
    "        \n",
    "        ndvi = calculate_ndvi(nir, red)\n",
    "        ndwi = calculate_ndwi(nir, swir)\n",
    "\n",
    "        return [np.mean(ndvi), np.mean(ndwi)]\n",
    "\n",
    "def extract_features(image_path):\n",
    "    with rasterio.open(image_path) as src:\n",
    "        bands = src.read()\n",
    "        nir, red, swir = bands[3], bands[2], bands[4]\n",
    "        \n",
    "        # Existing features\n",
    "        ndvi = calculate_ndvi(nir, red)\n",
    "        ndwi = calculate_ndwi(nir, swir)\n",
    "        \n",
    "        # New features\n",
    "        return [\n",
    "            np.mean(ndvi), np.std(ndvi),\n",
    "            np.mean(ndwi), np.std(ndwi),\n",
    "        ]\n",
    "\n",
    "def display_stage_image(image_path):\n",
    "    if not os.path.exists(image_path) or not os.path.isfile(image_path):\n",
    "        print(f\"No file found at: {image_path}\")\n",
    "        return\n",
    "    \n",
    "    with rasterio.open(image_path) as src:\n",
    "        image = src.read()\n",
    "        \n",
    "        # Assuming bands are ordered as Red, NIR, SWIR\n",
    "        red_band = image[0].astype(float)\n",
    "        nir_band = image[1].astype(float)\n",
    "        swir_band = image[2].astype(float)\n",
    "        \n",
    "        ndvi_image = calculate_ndvi(nir_band, red_band)\n",
    "        ndwi_image = calculate_ndwi(nir_band, swir_band)\n",
    "    \n",
    "    plt.figure(figsize=(15, 5))\n",
    "    \n",
    "    plt.subplot(1, 3, 1)\n",
    "    plt.imshow(red_band, cmap='gray')  # Show raw image as grayscale\n",
    "    plt.title(\"Raw Image (Red Band)\")\n",
    "    plt.axis(\"off\")\n",
    "    \n",
    "    plt.subplot(1, 3, 2)\n",
    "    plt.imshow(ndvi_image, cmap='RdYlGn')\n",
    "    plt.title(\"NDVI Image\")\n",
    "    plt.axis(\"off\")\n",
    "    \n",
    "    plt.subplot(1, 3, 3)\n",
    "    plt.imshow(ndwi_image, cmap='Blues')\n",
    "    plt.title(\"NDWI Image\")\n",
    "    plt.axis(\"off\")\n",
    "    \n",
    "    plt.tight_layout()\n",
    "    plt.show()"
   ]
  },
  {
   "cell_type": "markdown",
   "metadata": {},
   "source": [
    ">- Define classes & file paths"
   ]
  },
  {
   "cell_type": "code",
   "execution_count": null,
   "metadata": {},
   "outputs": [],
   "source": [
    "growth_stages = [\"germination\", \"tillering\", \"grand_growth\", \"ripening\"]\n",
    "\n",
    "germination_img = Path('../../data/model/Patches/Test/germination/patch_50.tif')\n",
    "tillering_img = Path('../../data/model/Patches/Test/tillering/patch_199.tif')\n",
    "grand_growth_img = Path('../../data/model/Patches/Test/grand_growth/patch_132.tif')\n",
    "ripening_img = Path('../../data/model/Patches/Test/ripening/patch_1344.tif')"
   ]
  },
  {
   "cell_type": "markdown",
   "metadata": {},
   "source": [
    ">- View images"
   ]
  },
  {
   "cell_type": "code",
   "execution_count": null,
   "metadata": {},
   "outputs": [],
   "source": [
    "# germination\n",
    "display_stage_image(germination_img)"
   ]
  },
  {
   "cell_type": "code",
   "execution_count": null,
   "metadata": {},
   "outputs": [],
   "source": [
    "# tillering\n",
    "display_stage_image(tillering_img)"
   ]
  },
  {
   "cell_type": "code",
   "execution_count": null,
   "metadata": {},
   "outputs": [],
   "source": [
    "# grand growth\n",
    "display_stage_image(grand_growth_img)"
   ]
  },
  {
   "cell_type": "code",
   "execution_count": null,
   "metadata": {},
   "outputs": [],
   "source": [
    "# ripening\n",
    "display_stage_image(ripening_img)"
   ]
  },
  {
   "cell_type": "markdown",
   "metadata": {},
   "source": [
    "### load modeland predict"
   ]
  },
  {
   "cell_type": "code",
   "execution_count": null,
   "metadata": {},
   "outputs": [],
   "source": [
    "def predict_growth_stage(image_path, model):\n",
    "    features = extract_features(image_path)\n",
    "    predicted_label = model.predict([features])[0]\n",
    "    return growth_stages[predicted_label]\n",
    "\n",
    "\n",
    "def predict_growth_stage_for_v1(image_path, model):\n",
    "    features = extract_features_for_v1(image_path)\n",
    "    predicted_label = model.predict([features])[0]\n",
    "    return growth_stages[predicted_label]\n",
    "\n",
    "SVM_model_v1 = joblib.load(Path(\"../../models/Map/svm_model_v1.joblib\"))\n",
    "SVM_model_v2 = joblib.load(Path(\"../../models/Map/svm_model_v2.joblib\"))\n",
    "SVM_model_v3 = joblib.load(Path(\"../../models/Map/svm_model_v3.joblib\"))\n",
    "\n"
   ]
  },
  {
   "cell_type": "code",
   "execution_count": null,
   "metadata": {},
   "outputs": [],
   "source": [
    "# germination predict\n",
    "predicted_stage = predict_growth_stage(germination_img, SVM_model_v2)\n",
    "print(f\"Predicted Growth Stage: {predicted_stage}\")\n",
    "print()\n",
    "\n"
   ]
  },
  {
   "cell_type": "code",
   "execution_count": null,
   "metadata": {},
   "outputs": [],
   "source": [
    "# tillering predict\n",
    "predicted_stage = predict_growth_stage(tillering_img, SVM_model_v2)\n",
    "print(f\"Predicted Growth Stage: {predicted_stage}\")\n",
    "print()"
   ]
  },
  {
   "cell_type": "markdown",
   "metadata": {},
   "source": []
  },
  {
   "cell_type": "code",
   "execution_count": null,
   "metadata": {},
   "outputs": [],
   "source": [
    "# grand growth predict\n",
    "predicted_stage = predict_growth_stage(grand_growth_img, SVM_model_v2)\n",
    "print(f\"Predicted Growth Stage: {predicted_stage}\")\n",
    "print()"
   ]
  },
  {
   "cell_type": "code",
   "execution_count": null,
   "metadata": {},
   "outputs": [],
   "source": [
    "# ripening predict\n",
    "predicted_stage = predict_growth_stage(ripening_img, SVM_model_v2)\n",
    "print(f\"Predicted Growth Stage: {predicted_stage}\")\n",
    "print()"
   ]
  }
 ],
 "metadata": {
  "kernelspec": {
   "display_name": "research_env",
   "language": "python",
   "name": "python3"
  },
  "language_info": {
   "codemirror_mode": {
    "name": "ipython",
    "version": 3
   },
   "file_extension": ".py",
   "mimetype": "text/x-python",
   "name": "python",
   "nbconvert_exporter": "python",
   "pygments_lexer": "ipython3",
   "version": "3.10.16"
  }
 },
 "nbformat": 4,
 "nbformat_minor": 2
}
