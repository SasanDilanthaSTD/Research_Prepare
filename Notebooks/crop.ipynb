{
 "cells": [
  {
   "cell_type": "code",
   "execution_count": 8,
   "metadata": {},
   "outputs": [],
   "source": [
    "import rasterio\n",
    "from rasterio.mask import mask\n",
    "import geopandas as gpd\n",
    "from shapely.geometry import mapping\n",
    "from pathlib import Path"
   ]
  },
  {
   "cell_type": "code",
   "execution_count": 9,
   "metadata": {},
   "outputs": [],
   "source": [
    "# File paths\n",
    "input_tiff = Path('../data/MULTISPECTRAL/germination/main/germination_main.tif')   # Path to the input GeoTIFF file\n",
    "shapefile_mask = Path('../data/Shape/ge.shp') # Path to the shapefile mask\n",
    "output_tiff = Path('../data/MULTISPECTRAL/germination/main/germination_main_cropped.tif') # Path to save the cropped GeoTIFF"
   ]
  },
  {
   "cell_type": "code",
   "execution_count": 13,
   "metadata": {},
   "outputs": [
    {
     "name": "stdout",
     "output_type": "stream",
     "text": [
      "No CRS found. Assigning CRS: EPSG:4326 - WGS 84\n",
      "Reprojecting shapefile from EPSG:4326 to EPSG:4326 - WGS 84\n"
     ]
    },
    {
     "name": "stderr",
     "output_type": "stream",
     "text": [
      "c:\\Users\\user\\anaconda3\\envs\\research_env\\lib\\site-packages\\rasterio\\__init__.py:368: NotGeoreferencedWarning: Dataset has no geotransform, gcps, or rpcs. The identity matrix will be returned.\n",
      "  dataset = DatasetReader(path, driver=driver, sharing=sharing, **kwargs)\n"
     ]
    },
    {
     "ename": "CRSError",
     "evalue": "Invalid projection: EPSG:4326 - WGS 84: (Internal Proj Error: proj_create: crs not found: EPSG:4326 - WGS 84)",
     "output_type": "error",
     "traceback": [
      "\u001b[1;31m---------------------------------------------------------------------------\u001b[0m",
      "\u001b[1;31mCRSError\u001b[0m                                  Traceback (most recent call last)",
      "Cell \u001b[1;32mIn[13], line 18\u001b[0m\n\u001b[0;32m     16\u001b[0m \u001b[38;5;28;01mif\u001b[39;00m gdf\u001b[38;5;241m.\u001b[39mcrs \u001b[38;5;241m!=\u001b[39m src_crs:\n\u001b[0;32m     17\u001b[0m     \u001b[38;5;28mprint\u001b[39m(\u001b[38;5;124mf\u001b[39m\u001b[38;5;124m\"\u001b[39m\u001b[38;5;124mReprojecting shapefile from \u001b[39m\u001b[38;5;132;01m{\u001b[39;00mgdf\u001b[38;5;241m.\u001b[39mcrs\u001b[38;5;132;01m}\u001b[39;00m\u001b[38;5;124m to \u001b[39m\u001b[38;5;132;01m{\u001b[39;00msrc_crs\u001b[38;5;132;01m}\u001b[39;00m\u001b[38;5;124m\"\u001b[39m)\n\u001b[1;32m---> 18\u001b[0m     gdf \u001b[38;5;241m=\u001b[39m \u001b[43mgdf\u001b[49m\u001b[38;5;241;43m.\u001b[39;49m\u001b[43mto_crs\u001b[49m\u001b[43m(\u001b[49m\u001b[43msrc_crs\u001b[49m\u001b[43m)\u001b[49m\n\u001b[0;32m     20\u001b[0m \u001b[38;5;66;03m# Step 3: Extract the geometry of the shapefile as GeoJSON format\u001b[39;00m\n\u001b[0;32m     21\u001b[0m shapefile_geom \u001b[38;5;241m=\u001b[39m [mapping(geom) \u001b[38;5;28;01mfor\u001b[39;00m geom \u001b[38;5;129;01min\u001b[39;00m gdf\u001b[38;5;241m.\u001b[39mgeometry]\n",
      "File \u001b[1;32mc:\\Users\\user\\anaconda3\\envs\\research_env\\lib\\site-packages\\geopandas\\geodataframe.py:1701\u001b[0m, in \u001b[0;36mGeoDataFrame.to_crs\u001b[1;34m(self, crs, epsg, inplace)\u001b[0m\n\u001b[0;32m   1699\u001b[0m \u001b[38;5;28;01melse\u001b[39;00m:\n\u001b[0;32m   1700\u001b[0m     df \u001b[38;5;241m=\u001b[39m \u001b[38;5;28mself\u001b[39m\u001b[38;5;241m.\u001b[39mcopy()\n\u001b[1;32m-> 1701\u001b[0m geom \u001b[38;5;241m=\u001b[39m \u001b[43mdf\u001b[49m\u001b[38;5;241;43m.\u001b[39;49m\u001b[43mgeometry\u001b[49m\u001b[38;5;241;43m.\u001b[39;49m\u001b[43mto_crs\u001b[49m\u001b[43m(\u001b[49m\u001b[43mcrs\u001b[49m\u001b[38;5;241;43m=\u001b[39;49m\u001b[43mcrs\u001b[49m\u001b[43m,\u001b[49m\u001b[43m \u001b[49m\u001b[43mepsg\u001b[49m\u001b[38;5;241;43m=\u001b[39;49m\u001b[43mepsg\u001b[49m\u001b[43m)\u001b[49m\n\u001b[0;32m   1702\u001b[0m df\u001b[38;5;241m.\u001b[39mgeometry \u001b[38;5;241m=\u001b[39m geom\n\u001b[0;32m   1703\u001b[0m \u001b[38;5;28;01mif\u001b[39;00m \u001b[38;5;129;01mnot\u001b[39;00m inplace:\n",
      "File \u001b[1;32mc:\\Users\\user\\anaconda3\\envs\\research_env\\lib\\site-packages\\geopandas\\geoseries.py:1207\u001b[0m, in \u001b[0;36mGeoSeries.to_crs\u001b[1;34m(self, crs, epsg)\u001b[0m\n\u001b[0;32m   1128\u001b[0m \u001b[38;5;28;01mdef\u001b[39;00m\u001b[38;5;250m \u001b[39m\u001b[38;5;21mto_crs\u001b[39m(\n\u001b[0;32m   1129\u001b[0m     \u001b[38;5;28mself\u001b[39m, crs: Optional[Any] \u001b[38;5;241m=\u001b[39m \u001b[38;5;28;01mNone\u001b[39;00m, epsg: Optional[\u001b[38;5;28mint\u001b[39m] \u001b[38;5;241m=\u001b[39m \u001b[38;5;28;01mNone\u001b[39;00m\n\u001b[0;32m   1130\u001b[0m ) \u001b[38;5;241m-\u001b[39m\u001b[38;5;241m>\u001b[39m GeoSeries:\n\u001b[0;32m   1131\u001b[0m \u001b[38;5;250m    \u001b[39m\u001b[38;5;124;03m\"\"\"Returns a ``GeoSeries`` with all geometries transformed to a new\u001b[39;00m\n\u001b[0;32m   1132\u001b[0m \u001b[38;5;124;03m    coordinate reference system.\u001b[39;00m\n\u001b[0;32m   1133\u001b[0m \n\u001b[1;32m   (...)\u001b[0m\n\u001b[0;32m   1204\u001b[0m \n\u001b[0;32m   1205\u001b[0m \u001b[38;5;124;03m    \"\"\"\u001b[39;00m\n\u001b[0;32m   1206\u001b[0m     \u001b[38;5;28;01mreturn\u001b[39;00m GeoSeries(\n\u001b[1;32m-> 1207\u001b[0m         \u001b[38;5;28;43mself\u001b[39;49m\u001b[38;5;241;43m.\u001b[39;49m\u001b[43mvalues\u001b[49m\u001b[38;5;241;43m.\u001b[39;49m\u001b[43mto_crs\u001b[49m\u001b[43m(\u001b[49m\u001b[43mcrs\u001b[49m\u001b[38;5;241;43m=\u001b[39;49m\u001b[43mcrs\u001b[49m\u001b[43m,\u001b[49m\u001b[43m \u001b[49m\u001b[43mepsg\u001b[49m\u001b[38;5;241;43m=\u001b[39;49m\u001b[43mepsg\u001b[49m\u001b[43m)\u001b[49m, index\u001b[38;5;241m=\u001b[39m\u001b[38;5;28mself\u001b[39m\u001b[38;5;241m.\u001b[39mindex, name\u001b[38;5;241m=\u001b[39m\u001b[38;5;28mself\u001b[39m\u001b[38;5;241m.\u001b[39mname\n\u001b[0;32m   1208\u001b[0m     )\n",
      "File \u001b[1;32mc:\\Users\\user\\anaconda3\\envs\\research_env\\lib\\site-packages\\geopandas\\_compat.py:90\u001b[0m, in \u001b[0;36mrequires_pyproj.<locals>.wrapper\u001b[1;34m(*args, **kwargs)\u001b[0m\n\u001b[0;32m     84\u001b[0m \u001b[38;5;28;01mif\u001b[39;00m \u001b[38;5;129;01mnot\u001b[39;00m HAS_PYPROJ:\n\u001b[0;32m     85\u001b[0m     \u001b[38;5;28;01mraise\u001b[39;00m \u001b[38;5;167;01mImportError\u001b[39;00m(\n\u001b[0;32m     86\u001b[0m         \u001b[38;5;124mf\u001b[39m\u001b[38;5;124m\"\u001b[39m\u001b[38;5;124mThe \u001b[39m\u001b[38;5;124m'\u001b[39m\u001b[38;5;124mpyproj\u001b[39m\u001b[38;5;124m'\u001b[39m\u001b[38;5;124m package is required for \u001b[39m\u001b[38;5;132;01m{\u001b[39;00mfunc\u001b[38;5;241m.\u001b[39m\u001b[38;5;18m__name__\u001b[39m\u001b[38;5;132;01m}\u001b[39;00m\u001b[38;5;124m to work. \u001b[39m\u001b[38;5;124m\"\u001b[39m\n\u001b[0;32m     87\u001b[0m         \u001b[38;5;124m\"\u001b[39m\u001b[38;5;124mInstall it and initialize the object with a CRS before using it.\u001b[39m\u001b[38;5;124m\"\u001b[39m\n\u001b[0;32m     88\u001b[0m         \u001b[38;5;124mf\u001b[39m\u001b[38;5;124m\"\u001b[39m\u001b[38;5;130;01m\\n\u001b[39;00m\u001b[38;5;124mImporting pyproj resulted in: \u001b[39m\u001b[38;5;132;01m{\u001b[39;00mpyproj_import_error\u001b[38;5;132;01m}\u001b[39;00m\u001b[38;5;124m\"\u001b[39m\n\u001b[0;32m     89\u001b[0m     )\n\u001b[1;32m---> 90\u001b[0m \u001b[38;5;28;01mreturn\u001b[39;00m func(\u001b[38;5;241m*\u001b[39margs, \u001b[38;5;241m*\u001b[39m\u001b[38;5;241m*\u001b[39mkwargs)\n",
      "File \u001b[1;32mc:\\Users\\user\\anaconda3\\envs\\research_env\\lib\\site-packages\\geopandas\\array.py:1007\u001b[0m, in \u001b[0;36mGeometryArray.to_crs\u001b[1;34m(self, crs, epsg)\u001b[0m\n\u001b[0;32m   1002\u001b[0m     \u001b[38;5;28;01mraise\u001b[39;00m \u001b[38;5;167;01mValueError\u001b[39;00m(\n\u001b[0;32m   1003\u001b[0m         \u001b[38;5;124m\"\u001b[39m\u001b[38;5;124mCannot transform naive geometries.  \u001b[39m\u001b[38;5;124m\"\u001b[39m\n\u001b[0;32m   1004\u001b[0m         \u001b[38;5;124m\"\u001b[39m\u001b[38;5;124mPlease set a crs on the object first.\u001b[39m\u001b[38;5;124m\"\u001b[39m\n\u001b[0;32m   1005\u001b[0m     )\n\u001b[0;32m   1006\u001b[0m \u001b[38;5;28;01mif\u001b[39;00m crs \u001b[38;5;129;01mis\u001b[39;00m \u001b[38;5;129;01mnot\u001b[39;00m \u001b[38;5;28;01mNone\u001b[39;00m:\n\u001b[1;32m-> 1007\u001b[0m     crs \u001b[38;5;241m=\u001b[39m \u001b[43mCRS\u001b[49m\u001b[38;5;241;43m.\u001b[39;49m\u001b[43mfrom_user_input\u001b[49m\u001b[43m(\u001b[49m\u001b[43mcrs\u001b[49m\u001b[43m)\u001b[49m\n\u001b[0;32m   1008\u001b[0m \u001b[38;5;28;01melif\u001b[39;00m epsg \u001b[38;5;129;01mis\u001b[39;00m \u001b[38;5;129;01mnot\u001b[39;00m \u001b[38;5;28;01mNone\u001b[39;00m:\n\u001b[0;32m   1009\u001b[0m     crs \u001b[38;5;241m=\u001b[39m CRS\u001b[38;5;241m.\u001b[39mfrom_epsg(epsg)\n",
      "File \u001b[1;32mc:\\Users\\user\\anaconda3\\envs\\research_env\\lib\\site-packages\\pyproj\\crs\\crs.py:503\u001b[0m, in \u001b[0;36mCRS.from_user_input\u001b[1;34m(cls, value, **kwargs)\u001b[0m\n\u001b[0;32m    501\u001b[0m \u001b[38;5;28;01mif\u001b[39;00m \u001b[38;5;28misinstance\u001b[39m(value, \u001b[38;5;28mcls\u001b[39m):\n\u001b[0;32m    502\u001b[0m     \u001b[38;5;28;01mreturn\u001b[39;00m value\n\u001b[1;32m--> 503\u001b[0m \u001b[38;5;28;01mreturn\u001b[39;00m \u001b[38;5;28mcls\u001b[39m(value, \u001b[38;5;241m*\u001b[39m\u001b[38;5;241m*\u001b[39mkwargs)\n",
      "File \u001b[1;32mc:\\Users\\user\\anaconda3\\envs\\research_env\\lib\\site-packages\\pyproj\\crs\\crs.py:350\u001b[0m, in \u001b[0;36mCRS.__init__\u001b[1;34m(self, projparams, **kwargs)\u001b[0m\n\u001b[0;32m    348\u001b[0m     \u001b[38;5;28mself\u001b[39m\u001b[38;5;241m.\u001b[39m_local\u001b[38;5;241m.\u001b[39mcrs \u001b[38;5;241m=\u001b[39m projparams\n\u001b[0;32m    349\u001b[0m \u001b[38;5;28;01melse\u001b[39;00m:\n\u001b[1;32m--> 350\u001b[0m     \u001b[38;5;28mself\u001b[39m\u001b[38;5;241m.\u001b[39m_local\u001b[38;5;241m.\u001b[39mcrs \u001b[38;5;241m=\u001b[39m \u001b[43m_CRS\u001b[49m\u001b[43m(\u001b[49m\u001b[38;5;28;43mself\u001b[39;49m\u001b[38;5;241;43m.\u001b[39;49m\u001b[43msrs\u001b[49m\u001b[43m)\u001b[49m\n",
      "File \u001b[1;32mc:\\Users\\user\\anaconda3\\envs\\research_env\\lib\\site-packages\\pyproj\\_crs.pyx:2364\u001b[0m, in \u001b[0;36mpyproj._crs._CRS.__init__\u001b[1;34m()\u001b[0m\n",
      "\u001b[1;31mCRSError\u001b[0m: Invalid projection: EPSG:4326 - WGS 84: (Internal Proj Error: proj_create: crs not found: EPSG:4326 - WGS 84)"
     ]
    }
   ],
   "source": [
    "# Step 1: Load the shapefile using GeoPandas\n",
    "gdf = gpd.read_file(shapefile_mask)\n",
    "\n",
    "# Step 2: Open the GeoTIFF file with Rasterio\n",
    "with rasterio.open(input_tiff) as src:\n",
    "    # Check if the GeoTIFF has a valid CRS\n",
    "    if src.crs is None:\n",
    "        # Manually assign the CRS if it's missing (you need to know the correct CRS)\n",
    "        manual_crs = 'EPSG:4326 - WGS 84'  # Example CRS, replace with the actual CRS\n",
    "        print(f\"No CRS found. Assigning CRS: {manual_crs}\")\n",
    "        src_crs = manual_crs\n",
    "    else:\n",
    "        src_crs = src.crs\n",
    "\n",
    "    # If the shapefile's CRS doesn't match the GeoTIFF's CRS, reproject it\n",
    "    if gdf.crs != src_crs:\n",
    "        print(f\"Reprojecting shapefile from {gdf.crs} to {src_crs}\")\n",
    "        gdf = gdf.to_crs(src_crs)\n",
    "\n",
    "    # Step 3: Extract the geometry of the shapefile as GeoJSON format\n",
    "    shapefile_geom = [mapping(geom) for geom in gdf.geometry]\n",
    "\n",
    "    # Step 4: Crop the GeoTIFF using the shapefile geometry\n",
    "    cropped_image, cropped_transform = mask(src, shapefile_geom, crop=True)\n",
    "    \n",
    "    # Update metadata to reflect the new dimensions of the cropped image\n",
    "    cropped_meta = src.meta.copy()\n",
    "    cropped_meta.update({\n",
    "        \"driver\": \"GTiff\",\n",
    "        \"height\": cropped_image.shape[1],\n",
    "        \"width\": cropped_image.shape[2],\n",
    "        \"transform\": cropped_transform,\n",
    "        \"crs\": src_crs  # Ensure the CRS is included in the output\n",
    "    })\n",
    "\n",
    "    # Step 5: Write the cropped image to a new file\n",
    "    with rasterio.open(output_tiff, 'w', **cropped_meta) as dest:\n",
    "        dest.write(cropped_image)\n",
    "\n",
    "print(f\"Cropped GeoTIFF saved to {output_tiff}\")"
   ]
  }
 ],
 "metadata": {
  "kernelspec": {
   "display_name": "research_env",
   "language": "python",
   "name": "python3"
  },
  "language_info": {
   "codemirror_mode": {
    "name": "ipython",
    "version": 3
   },
   "file_extension": ".py",
   "mimetype": "text/x-python",
   "name": "python",
   "nbconvert_exporter": "python",
   "pygments_lexer": "ipython3",
   "version": "3.10.16"
  }
 },
 "nbformat": 4,
 "nbformat_minor": 2
}
