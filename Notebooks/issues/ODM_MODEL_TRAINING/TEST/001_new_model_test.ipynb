{
 "cells": [
  {
   "cell_type": "code",
   "execution_count": 2,
   "id": "9d1638ef",
   "metadata": {},
   "outputs": [],
   "source": [
    "import os\n",
    "import numpy as np\n",
    "import rasterio\n",
    "import joblib \n",
    "from pathlib import Path\n",
    "\n",
    "# Define functions to calculate NDVI and NDWI\n",
    "def calculate_ndvi(nir, red):\n",
    "    return (nir - red) / (nir + red + 1e-10)\n",
    "\n",
    "def calculate_ndwi(nir, green):\n",
    "    return (nir - green) / (nir + green + 1e-10)\n",
    "\n",
    "'''\n",
    "    Enhanced Feature Engineering:\n",
    "        -  Current features (mean NDVI/NDWI) might be insufficient. Add:\n",
    "\n",
    "'''\n",
    "def extract_features(image_path):\n",
    "    with rasterio.open(image_path) as src:\n",
    "        bands = src.read()\n",
    "        nir, red, green = bands[4], bands[2], bands[1]\n",
    "        \n",
    "        # Existing features\n",
    "        ndvi = calculate_ndvi(nir, red)\n",
    "        ndwi = calculate_ndwi(nir, green)\n",
    "        \n",
    "        # New features\n",
    "        return [\n",
    "            np.mean(ndvi), np.std(ndvi),  # Add standard deviation\n",
    "            np.mean(ndwi), np.std(ndwi),\n",
    "            np.percentile(nir, 75),  # Texture features\n",
    "            np.mean(green > np.quantile(green, 0.75))  # Threshold features\n",
    "        ]\n",
    "        \n",
    "growth_stages = [\"germination\", \"tillering\", \"grand_growth\", \"ripening\"]"
   ]
  },
  {
   "cell_type": "code",
   "execution_count": 4,
   "id": "6467dd6c",
   "metadata": {},
   "outputs": [
    {
     "name": "stdout",
     "output_type": "stream",
     "text": [
      "Predicted Growth Stage: grand_growth\n",
      "\n"
     ]
    }
   ],
   "source": [
    "# Load the best model\n",
    "model = joblib.load(Path(\"../../../../New_Model/XGB_model_v31.joblib\"))\n",
    "\n",
    "def predict_growth_stage(image_path, model):\n",
    "    features = extract_features(image_path)\n",
    "    predicted_label = model.predict([features])[0]\n",
    "    return growth_stages[predicted_label]\n",
    "\n",
    "new_image = Path('../../../../data/new_odm_patches/test001/patches/patch_157.tif')\n",
    "predicted_stage = predict_growth_stage(new_image, model)\n",
    "print(f\"Predicted Growth Stage: {predicted_stage}\")\n",
    "print()"
   ]
  },
  {
   "cell_type": "code",
   "execution_count": null,
   "id": "367121e5",
   "metadata": {},
   "outputs": [],
   "source": []
  }
 ],
 "metadata": {
  "kernelspec": {
   "display_name": "research_env",
   "language": "python",
   "name": "python3"
  },
  "language_info": {
   "codemirror_mode": {
    "name": "ipython",
    "version": 3
   },
   "file_extension": ".py",
   "mimetype": "text/x-python",
   "name": "python",
   "nbconvert_exporter": "python",
   "pygments_lexer": "ipython3",
   "version": "3.10.16"
  }
 },
 "nbformat": 4,
 "nbformat_minor": 5
}
