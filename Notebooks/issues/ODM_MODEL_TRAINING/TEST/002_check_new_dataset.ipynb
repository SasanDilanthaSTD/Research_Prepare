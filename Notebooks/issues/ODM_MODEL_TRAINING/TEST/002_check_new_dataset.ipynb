{
 "cells": [
  {
   "cell_type": "code",
   "execution_count": null,
   "id": "e7796530",
   "metadata": {},
   "outputs": [],
   "source": [
    "\n",
    "import rasterio\n",
    "from pathlib import Path\n",
    "import os"
   ]
  },
  {
   "cell_type": "code",
   "execution_count": 4,
   "id": "072d6cc7",
   "metadata": {},
   "outputs": [
    {
     "name": "stdout",
     "output_type": "stream",
     "text": [
      "Number of bands: 6\n",
      "Image dimensions: 64 x 64\n",
      "Image CRS: EPSG:32644\n",
      "Image transform: | 0.05, 0.00, 575875.17|\n",
      "| 0.00,-0.05, 804188.89|\n",
      "| 0.00, 0.00, 1.00|\n",
      "Band 1 description: None\n",
      "++++++++++++++++++++++++++++++++++++++++++++++\n",
      "Band 2 description: None\n",
      "++++++++++++++++++++++++++++++++++++++++++++++\n",
      "Band 3 description: None\n",
      "++++++++++++++++++++++++++++++++++++++++++++++\n",
      "Band 4 description: None\n",
      "++++++++++++++++++++++++++++++++++++++++++++++\n",
      "Band 5 description: None\n",
      "++++++++++++++++++++++++++++++++++++++++++++++\n",
      "Band 6 description: None\n",
      "++++++++++++++++++++++++++++++++++++++++++++++\n"
     ]
    }
   ],
   "source": [
    "#check bands\n",
    "imger_path = Path(\"../../../../data/odm_dataset/Patches/Test/grand_growth/patch_38.tif\")\n",
    "with rasterio.open(imger_path) as src:\n",
    "    print(f\"Number of bands: {src.count}\")\n",
    "    print(f\"Image dimensions: {src.width} x {src.height}\")\n",
    "    print(f\"Image CRS: {src.crs}\")\n",
    "    print(f\"Image transform: {src.transform}\")\n",
    "    for i in range(1, src.count + 1):\n",
    "        band = src.read(i)\n",
    "        desc = src.descriptions[i - 1]  # descriptions is a tuple, zero-indexed\n",
    "        print(f\"Band {i} description: {desc}\")\n",
    "        # print(f\"Band {i} shape: {band.shape}\")\n",
    "        # print(f\"Band {i} data type: {band.dtype}\")\n",
    "        # print(f\"Band {i} min value: {band.min()}\")\n",
    "        # print(f\"Band {i} max value: {band.max()}\")\n",
    "        print(\"++++++++++++++++++++++++++++++++++++++++++++++\")"
   ]
  },
  {
   "cell_type": "code",
   "execution_count": null,
   "id": "d3e45629",
   "metadata": {},
   "outputs": [],
   "source": []
  }
 ],
 "metadata": {
  "kernelspec": {
   "display_name": "research_env",
   "language": "python",
   "name": "python3"
  },
  "language_info": {
   "codemirror_mode": {
    "name": "ipython",
    "version": 3
   },
   "file_extension": ".py",
   "mimetype": "text/x-python",
   "name": "python",
   "nbconvert_exporter": "python",
   "pygments_lexer": "ipython3",
   "version": "3.10.16"
  }
 },
 "nbformat": 4,
 "nbformat_minor": 5
}
