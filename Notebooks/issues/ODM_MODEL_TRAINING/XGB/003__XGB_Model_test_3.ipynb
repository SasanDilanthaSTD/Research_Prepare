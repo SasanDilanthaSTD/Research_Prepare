{
 "cells": [
  {
   "cell_type": "markdown",
   "metadata": {},
   "source": [
    "## XGBoost modifications\n",
    " - V1 : Use SMOTE"
   ]
  },
  {
   "cell_type": "markdown",
   "metadata": {},
   "source": [
    ">- import packages"
   ]
  },
  {
   "cell_type": "code",
   "execution_count": 1,
   "metadata": {},
   "outputs": [],
   "source": [
    "import os\n",
    "import numpy as np\n",
    "import matplotlib.pyplot as plt\n",
    "import seaborn as sns\n",
    "import rasterio\n",
    "from sklearn.model_selection import KFold, GridSearchCV\n",
    "from xgboost import XGBClassifier\n",
    "from sklearn.metrics import accuracy_score, classification_report, f1_score, precision_score, recall_score, confusion_matrix\n",
    "import joblib \n",
    "from pathlib import Path\n",
    "\n",
    "# for data leveling\n",
    "from imblearn.over_sampling import SMOTE\n",
    "from imblearn.pipeline import Pipeline"
   ]
  },
  {
   "cell_type": "markdown",
   "metadata": {},
   "source": [
    ">- Define function & modify"
   ]
  },
  {
   "cell_type": "code",
   "execution_count": 2,
   "metadata": {},
   "outputs": [],
   "source": [
    "# define ouput dir\n",
    "output_dir = Path(\"../output/XGBoost\")\n",
    "output_dir.mkdir(parents=True, exist_ok=True)\n",
    "\n",
    "output_img_dir = output_dir / \"IMG\"\n",
    "output_img_dir.mkdir(parents=True, exist_ok=True)\n",
    "\n",
    "output_model_dir = output_dir / \"model\"\n",
    "output_model_dir.mkdir(parents=True, exist_ok=True)"
   ]
  },
  {
   "cell_type": "code",
   "execution_count": 3,
   "metadata": {},
   "outputs": [],
   "source": [
    "# Define functions to calculate NDVI and NDWI\n",
    "def calculate_ndvi(nir, red):\n",
    "    return (nir - red) / (nir + red + 1e-10)\n",
    "\n",
    "def calculate_ndwi(nir, green):\n",
    "    return (nir - green) / (nir + green + 1e-10)\n",
    "\n",
    "'''\n",
    "    Enhanced Feature Engineering:\n",
    "        -  Current features (mean NDVI/NDWI) might be insufficient. Add:\n",
    "\n",
    "'''\n",
    "def extract_features(image_path):\n",
    "    with rasterio.open(image_path) as src:\n",
    "        bands = src.read()\n",
    "        nir, red, green = bands[3], bands[0], bands[1]\n",
    "        \n",
    "        # Existing features\n",
    "        ndvi = calculate_ndvi(nir, red)\n",
    "        ndwi = calculate_ndwi(nir, green)\n",
    "        \n",
    "        # New features\n",
    "        return [\n",
    "            np.mean(ndvi), np.std(ndvi),  # Add standard deviation\n",
    "            np.mean(ndwi), np.std(ndwi),\n",
    "            np.percentile(nir, 75),  # Texture features\n",
    "            np.mean(green > np.quantile(green, 0.75))  # Threshold features\n",
    "        ]\n"
   ]
  },
  {
   "cell_type": "markdown",
   "metadata": {},
   "source": [
    ">- load dataset with SMOTE"
   ]
  },
  {
   "cell_type": "code",
   "execution_count": 4,
   "metadata": {},
   "outputs": [],
   "source": [
    "# Load dataset efficiently\n",
    "train_dataset_path = Path('../../../../data/odm_dataset/Patches/Train')\n",
    "test_dataset_path = Path('../../../../data/odm_dataset/Patches/Test/')\n",
    "growth_stages = [\"germination\", \"tillering\", \"grand_growth\", \"ripening\"]\n",
    "X, X_test, y, y_test = [], [], [], []\n",
    "\n",
    "for idx, stage in enumerate(growth_stages):\n",
    "    stage_path = train_dataset_path / stage\n",
    "    for img_file in os.listdir(stage_path):\n",
    "        img_path = stage_path / img_file\n",
    "        X.append(extract_features(img_path))\n",
    "        y.append(idx)\n",
    "\n",
    "X = np.array(X)\n",
    "y = np.array(y)\n",
    "\n",
    "# ADD SMOTE\n",
    "smote = SMOTE(random_state=42)\n",
    "X_res, y_res = smote.fit_resample(X, y)\n",
    "\n",
    "for idx, stage in enumerate(growth_stages):\n",
    "    stage_path = test_dataset_path / stage\n",
    "    for img_file in os.listdir(stage_path):\n",
    "        img_path = stage_path / img_file\n",
    "        X_test.append(extract_features(img_path))\n",
    "        y_test.append(idx)\n",
    "\n",
    "X_test = np.array(X_test)\n",
    "y_test = np.array(y_test)"
   ]
  },
  {
   "cell_type": "markdown",
   "metadata": {},
   "source": [
    ">- setup model"
   ]
  },
  {
   "cell_type": "code",
   "execution_count": 5,
   "metadata": {},
   "outputs": [
    {
     "name": "stdout",
     "output_type": "stream",
     "text": [
      "Fitting 5 folds for each of 108 candidates, totalling 540 fits\n"
     ]
    },
    {
     "name": "stderr",
     "output_type": "stream",
     "text": [
      "c:\\Users\\user\\anaconda3\\envs\\research_env\\lib\\site-packages\\xgboost\\core.py:158: UserWarning: [17:11:57] WARNING: C:\\buildkite-agent\\builds\\buildkite-windows-cpu-autoscaling-group-i-08cbc0333d8d4aae1-1\\xgboost\\xgboost-ci-windows\\src\\learner.cc:740: \n",
      "Parameters: { \"use_label_encoder\" } are not used.\n",
      "\n",
      "  warnings.warn(smsg, UserWarning)\n"
     ]
    },
    {
     "name": "stdout",
     "output_type": "stream",
     "text": [
      "Best Parameters: {'colsample_bytree': 1.0, 'learning_rate': 0.1, 'max_depth': 6, 'n_estimators': 100, 'subsample': 0.8}\n",
      "[0]\tvalidation_0-mlogloss:1.27496\tvalidation_1-mlogloss:1.30362\n",
      "[1]\tvalidation_0-mlogloss:1.18231\tvalidation_1-mlogloss:1.23395\n",
      "[2]\tvalidation_0-mlogloss:1.10162\tvalidation_1-mlogloss:1.17231\n",
      "[3]\tvalidation_0-mlogloss:1.03065\tvalidation_1-mlogloss:1.12196\n",
      "[4]\tvalidation_0-mlogloss:0.96710\tvalidation_1-mlogloss:1.07350\n",
      "[5]\tvalidation_0-mlogloss:0.91240\tvalidation_1-mlogloss:1.03266\n",
      "[6]\tvalidation_0-mlogloss:0.86428\tvalidation_1-mlogloss:1.00153\n",
      "[7]\tvalidation_0-mlogloss:0.81984\tvalidation_1-mlogloss:0.97051\n",
      "[8]\tvalidation_0-mlogloss:0.77975\tvalidation_1-mlogloss:0.94375\n",
      "[9]\tvalidation_0-mlogloss:0.74210\tvalidation_1-mlogloss:0.91625\n",
      "[10]\tvalidation_0-mlogloss:0.70697\tvalidation_1-mlogloss:0.89531\n",
      "[11]\tvalidation_0-mlogloss:0.67487\tvalidation_1-mlogloss:0.87719\n",
      "[12]\tvalidation_0-mlogloss:0.64671\tvalidation_1-mlogloss:0.85897\n",
      "[13]\tvalidation_0-mlogloss:0.62091\tvalidation_1-mlogloss:0.84272\n",
      "[14]\tvalidation_0-mlogloss:0.59790\tvalidation_1-mlogloss:0.82839\n",
      "[15]\tvalidation_0-mlogloss:0.57608\tvalidation_1-mlogloss:0.81569\n",
      "[16]\tvalidation_0-mlogloss:0.55553\tvalidation_1-mlogloss:0.80237\n",
      "[17]\tvalidation_0-mlogloss:0.53685\tvalidation_1-mlogloss:0.79561\n",
      "[18]\tvalidation_0-mlogloss:0.51915\tvalidation_1-mlogloss:0.78615\n",
      "[19]\tvalidation_0-mlogloss:0.50316\tvalidation_1-mlogloss:0.77726\n",
      "[20]\tvalidation_0-mlogloss:0.48896\tvalidation_1-mlogloss:0.77011\n",
      "[21]\tvalidation_0-mlogloss:0.47534\tvalidation_1-mlogloss:0.76308\n",
      "[22]\tvalidation_0-mlogloss:0.46231\tvalidation_1-mlogloss:0.75672\n",
      "[23]\tvalidation_0-mlogloss:0.44998\tvalidation_1-mlogloss:0.75062\n",
      "[24]\tvalidation_0-mlogloss:0.43810\tvalidation_1-mlogloss:0.74271\n",
      "[25]\tvalidation_0-mlogloss:0.42713\tvalidation_1-mlogloss:0.74260\n",
      "[26]\tvalidation_0-mlogloss:0.41671\tvalidation_1-mlogloss:0.73959\n",
      "[27]\tvalidation_0-mlogloss:0.40666\tvalidation_1-mlogloss:0.73304\n",
      "[28]\tvalidation_0-mlogloss:0.39739\tvalidation_1-mlogloss:0.72857\n",
      "[29]\tvalidation_0-mlogloss:0.38867\tvalidation_1-mlogloss:0.72615\n",
      "[30]\tvalidation_0-mlogloss:0.38087\tvalidation_1-mlogloss:0.72278\n",
      "[31]\tvalidation_0-mlogloss:0.37171\tvalidation_1-mlogloss:0.71917\n",
      "[32]\tvalidation_0-mlogloss:0.36427\tvalidation_1-mlogloss:0.71511\n",
      "[33]\tvalidation_0-mlogloss:0.35695\tvalidation_1-mlogloss:0.71121\n",
      "[34]\tvalidation_0-mlogloss:0.35033\tvalidation_1-mlogloss:0.71143\n",
      "[35]\tvalidation_0-mlogloss:0.34376\tvalidation_1-mlogloss:0.71094\n",
      "[36]\tvalidation_0-mlogloss:0.33763\tvalidation_1-mlogloss:0.71125\n",
      "[37]\tvalidation_0-mlogloss:0.33010\tvalidation_1-mlogloss:0.70897\n",
      "[38]\tvalidation_0-mlogloss:0.32421\tvalidation_1-mlogloss:0.70827\n",
      "[39]\tvalidation_0-mlogloss:0.31802\tvalidation_1-mlogloss:0.70695\n",
      "[40]\tvalidation_0-mlogloss:0.31120\tvalidation_1-mlogloss:0.70688\n",
      "[41]\tvalidation_0-mlogloss:0.30571\tvalidation_1-mlogloss:0.70773\n",
      "[42]\tvalidation_0-mlogloss:0.30130\tvalidation_1-mlogloss:0.70777\n",
      "[43]\tvalidation_0-mlogloss:0.29673\tvalidation_1-mlogloss:0.70733\n",
      "[44]\tvalidation_0-mlogloss:0.29136\tvalidation_1-mlogloss:0.70651\n",
      "[45]\tvalidation_0-mlogloss:0.28705\tvalidation_1-mlogloss:0.70504\n",
      "[46]\tvalidation_0-mlogloss:0.28231\tvalidation_1-mlogloss:0.70513\n",
      "[47]\tvalidation_0-mlogloss:0.27890\tvalidation_1-mlogloss:0.70396\n",
      "[48]\tvalidation_0-mlogloss:0.27528\tvalidation_1-mlogloss:0.70126\n",
      "[49]\tvalidation_0-mlogloss:0.27144\tvalidation_1-mlogloss:0.70120\n",
      "[50]\tvalidation_0-mlogloss:0.26742\tvalidation_1-mlogloss:0.70057\n",
      "[51]\tvalidation_0-mlogloss:0.26402\tvalidation_1-mlogloss:0.70094\n",
      "[52]\tvalidation_0-mlogloss:0.26063\tvalidation_1-mlogloss:0.69911\n",
      "[53]\tvalidation_0-mlogloss:0.25713\tvalidation_1-mlogloss:0.69771\n",
      "[54]\tvalidation_0-mlogloss:0.25377\tvalidation_1-mlogloss:0.69910\n",
      "[55]\tvalidation_0-mlogloss:0.24988\tvalidation_1-mlogloss:0.69744\n",
      "[56]\tvalidation_0-mlogloss:0.24722\tvalidation_1-mlogloss:0.69813\n",
      "[57]\tvalidation_0-mlogloss:0.24468\tvalidation_1-mlogloss:0.69762\n",
      "[58]\tvalidation_0-mlogloss:0.24180\tvalidation_1-mlogloss:0.69859\n",
      "[59]\tvalidation_0-mlogloss:0.23883\tvalidation_1-mlogloss:0.69942\n",
      "[60]\tvalidation_0-mlogloss:0.23576\tvalidation_1-mlogloss:0.69857\n",
      "[61]\tvalidation_0-mlogloss:0.23267\tvalidation_1-mlogloss:0.69836\n",
      "[62]\tvalidation_0-mlogloss:0.23044\tvalidation_1-mlogloss:0.69961\n",
      "[63]\tvalidation_0-mlogloss:0.22741\tvalidation_1-mlogloss:0.70129\n",
      "[64]\tvalidation_0-mlogloss:0.22459\tvalidation_1-mlogloss:0.70193\n",
      "[65]\tvalidation_0-mlogloss:0.22249\tvalidation_1-mlogloss:0.70178\n",
      "[66]\tvalidation_0-mlogloss:0.21993\tvalidation_1-mlogloss:0.70240\n",
      "[67]\tvalidation_0-mlogloss:0.21732\tvalidation_1-mlogloss:0.70299\n",
      "[68]\tvalidation_0-mlogloss:0.21391\tvalidation_1-mlogloss:0.70413\n",
      "[69]\tvalidation_0-mlogloss:0.21019\tvalidation_1-mlogloss:0.70378\n",
      "[70]\tvalidation_0-mlogloss:0.20883\tvalidation_1-mlogloss:0.70540\n",
      "[71]\tvalidation_0-mlogloss:0.20664\tvalidation_1-mlogloss:0.70539\n",
      "[72]\tvalidation_0-mlogloss:0.20434\tvalidation_1-mlogloss:0.70560\n",
      "[73]\tvalidation_0-mlogloss:0.20231\tvalidation_1-mlogloss:0.70544\n",
      "[74]\tvalidation_0-mlogloss:0.19973\tvalidation_1-mlogloss:0.70598\n",
      "[75]\tvalidation_0-mlogloss:0.19805\tvalidation_1-mlogloss:0.70717\n",
      "[76]\tvalidation_0-mlogloss:0.19535\tvalidation_1-mlogloss:0.70755\n",
      "[77]\tvalidation_0-mlogloss:0.19256\tvalidation_1-mlogloss:0.70780\n",
      "[78]\tvalidation_0-mlogloss:0.19102\tvalidation_1-mlogloss:0.70779\n",
      "[79]\tvalidation_0-mlogloss:0.18878\tvalidation_1-mlogloss:0.71054\n",
      "[80]\tvalidation_0-mlogloss:0.18665\tvalidation_1-mlogloss:0.71074\n",
      "[81]\tvalidation_0-mlogloss:0.18430\tvalidation_1-mlogloss:0.71057\n",
      "[82]\tvalidation_0-mlogloss:0.18240\tvalidation_1-mlogloss:0.71222\n",
      "[83]\tvalidation_0-mlogloss:0.17964\tvalidation_1-mlogloss:0.71180\n",
      "[84]\tvalidation_0-mlogloss:0.17777\tvalidation_1-mlogloss:0.71248\n",
      "[85]\tvalidation_0-mlogloss:0.17625\tvalidation_1-mlogloss:0.71357\n",
      "[86]\tvalidation_0-mlogloss:0.17387\tvalidation_1-mlogloss:0.71471\n",
      "[87]\tvalidation_0-mlogloss:0.17249\tvalidation_1-mlogloss:0.71674\n",
      "[88]\tvalidation_0-mlogloss:0.17108\tvalidation_1-mlogloss:0.71621\n",
      "[89]\tvalidation_0-mlogloss:0.16994\tvalidation_1-mlogloss:0.71658\n",
      "[90]\tvalidation_0-mlogloss:0.16780\tvalidation_1-mlogloss:0.71998\n",
      "[91]\tvalidation_0-mlogloss:0.16560\tvalidation_1-mlogloss:0.72028\n",
      "[92]\tvalidation_0-mlogloss:0.16401\tvalidation_1-mlogloss:0.72138\n",
      "[93]\tvalidation_0-mlogloss:0.16234\tvalidation_1-mlogloss:0.72132\n",
      "[94]\tvalidation_0-mlogloss:0.16001\tvalidation_1-mlogloss:0.72256\n",
      "[95]\tvalidation_0-mlogloss:0.15847\tvalidation_1-mlogloss:0.72361\n",
      "[96]\tvalidation_0-mlogloss:0.15692\tvalidation_1-mlogloss:0.72436\n",
      "[97]\tvalidation_0-mlogloss:0.15569\tvalidation_1-mlogloss:0.72551\n",
      "[98]\tvalidation_0-mlogloss:0.15400\tvalidation_1-mlogloss:0.72700\n",
      "[99]\tvalidation_0-mlogloss:0.15291\tvalidation_1-mlogloss:0.72757\n"
     ]
    },
    {
     "data": {
      "image/png": "[encoded data removed]",
      "text/plain": [
       "<Figure size 800x600 with 1 Axes>"
      ]
     },
     "metadata": {},
     "output_type": "display_data"
    }
   ],
   "source": [
    "# Define parameter grid for XGBoost\n",
    "param_grid = {\n",
    "    \"n_estimators\": [50, 100, 200],\n",
    "    \"max_depth\": [3, 6, 10],\n",
    "    \"learning_rate\": [0.01, 0.1, 0.2],\n",
    "    \"subsample\": [0.8, 1.0],\n",
    "    \"colsample_bytree\": [0.8, 1.0]\n",
    "}\n",
    "\n",
    "# Initialize XGBoost and GridSearchCV\n",
    "xgb_model = XGBClassifier(\n",
    "    objective='multi:softmax',\n",
    "    num_class=4,\n",
    "    use_label_encoder=False, \n",
    "    eval_metric='mlogloss', \n",
    "    random_state=42\n",
    "    )\n",
    "\n",
    "kf = KFold(n_splits=5, shuffle=True, random_state=42)\n",
    "\n",
    "grid_search = GridSearchCV(xgb_model, param_grid, cv=kf, n_jobs=-1, verbose=2, return_train_score=True)\n",
    "\n",
    "# Train model with cross-validation\n",
    "# grid_search.fit(X, y)\n",
    "grid_search.fit(X_res, y_res)\n",
    "\n",
    "# Get the best model from Grid Search\n",
    "best_model = grid_search.best_estimator_\n",
    "\n",
    "# Best parameters\n",
    "print(f\"Best Parameters: {grid_search.best_params_}\")\n",
    "\n",
    "# Train the model on the entire training dataset\n",
    "history = best_model.fit(X_res, y_res, eval_set=[(X_res, y_res), (X_test, y_test)], verbose=True)\n",
    "\n",
    "# Plot training and test accuracy\n",
    "eval_results = best_model.evals_result()\n",
    "train_accuracy = eval_results['validation_0']['mlogloss']\n",
    "test_accuracy = eval_results['validation_1']['mlogloss']\n",
    "\n",
    "plt.figure(figsize=(8, 6))\n",
    "plt.plot(train_accuracy, label='Train Accuracy')\n",
    "plt.plot(test_accuracy, label='Test Accuracy')\n",
    "plt.xlabel('Epochs')\n",
    "plt.ylabel('Log Loss')\n",
    "plt.title('Training vs Test Accuracy')\n",
    "plt.legend()\n",
    "plt.savefig(Path(os.path.join(output_img_dir, \"ODM_XGB_V3_accuracy_plot.png\")))\n",
    "plt.show()"
   ]
  },
  {
   "cell_type": "markdown",
   "metadata": {},
   "source": [
    ">- evaluate model"
   ]
  },
  {
   "cell_type": "code",
   "execution_count": 6,
   "metadata": {},
   "outputs": [
    {
     "name": "stdout",
     "output_type": "stream",
     "text": [
      "Test Accuracy: 0.6821192052980133\n",
      "Test Precision: 0.6860307740119881\n",
      "Test Recall: 0.6821192052980133\n",
      "Test F1 Score: 0.6821674297898447\n",
      "Classification Report:\n",
      "              precision    recall  f1-score   support\n",
      "\n",
      "           0       0.70      0.63      0.66        97\n",
      "           1       0.62      0.61      0.61        77\n",
      "           2       0.60      0.75      0.67        51\n",
      "           3       0.79      0.78      0.78        77\n",
      "\n",
      "    accuracy                           0.68       302\n",
      "   macro avg       0.68      0.69      0.68       302\n",
      "weighted avg       0.69      0.68      0.68       302\n",
      "\n",
      "Saved model to: ..\\output\\XGBoost\\model\\XGB_model_v3.joblib\n",
      "Best Cross-Validation Accuracy: 79.06%\n"
     ]
    },
    {
     "data": {
      "image/png": "[encoded data removed]",
      "text/plain": [
       "<Figure size 800x600 with 2 Axes>"
      ]
     },
     "metadata": {},
     "output_type": "display_data"
    }
   ],
   "source": [
    "# Evaluate the model on the test set\n",
    "y_test_pred = best_model.predict(X_test)\n",
    "test_accuracy = accuracy_score(y_test, y_test_pred)\n",
    "test_report = classification_report(y_test, y_test_pred)\n",
    "\n",
    "# Calculate additional metrics\n",
    "test_precision = precision_score(y_test, y_test_pred, average='weighted')\n",
    "test_recall = recall_score(y_test, y_test_pred, average='weighted')\n",
    "test_f1 = f1_score(y_test, y_test_pred, average='weighted')\n",
    "confusion = confusion_matrix(y_test, y_test_pred)\n",
    "\n",
    "# Log confusion matrix as an image\n",
    "plt.figure(figsize=(8, 6))\n",
    "sns.heatmap(confusion, annot=True, fmt='d', cmap='Blues')\n",
    "plt.title('Confusion Matrix')\n",
    "plt.xlabel('Predicted Label')\n",
    "plt.ylabel('True Label')\n",
    "plt.savefig(Path(os.path.join(output_img_dir, \"ODM_XGB_V3_confusion_matrix.png\"))) # Save confusion matrix\n",
    "\n",
    "# Print results\n",
    "print(f\"Test Accuracy: {test_accuracy}\")\n",
    "print(f\"Test Precision: {test_precision}\")\n",
    "print(f\"Test Recall: {test_recall}\")\n",
    "print(f\"Test F1 Score: {test_f1}\")\n",
    "print(f\"Classification Report:\\n{test_report}\")\n",
    "\n",
    "# Save the best model to disk\n",
    "XGB_model_v3 = Path(os.path.join(output_model_dir, \"XGB_model_v3.joblib\"))\n",
    "joblib.dump(best_model, XGB_model_v3)\n",
    "print(f\"Saved model to: {XGB_model_v3}\")\n",
    "\n",
    "# Evaluate using cross-validation accuracy\n",
    "print(f\"Best Cross-Validation Accuracy: {grid_search.best_score_ * 100:.2f}%\")"
   ]
  },
  {
   "cell_type": "markdown",
   "metadata": {},
   "source": [
    ">- predict"
   ]
  },
  {
   "cell_type": "code",
   "execution_count": 7,
   "metadata": {},
   "outputs": [
    {
     "name": "stdout",
     "output_type": "stream",
     "text": [
      "Predicted Growth Stage: tillering\n",
      "\n"
     ]
    }
   ],
   "source": [
    "# Load the best model\n",
    "model = joblib.load(Path(XGB_model_v3))\n",
    "\n",
    "def predict_growth_stage(image_path, model):\n",
    "    features = extract_features(image_path)\n",
    "    predicted_label = model.predict([features])[0]\n",
    "    return growth_stages[predicted_label]\n",
    "\n",
    "new_image = Path('../../../../data/odm_dataset/Patches/Train/tillering/patch_92.tif')\n",
    "predicted_stage = predict_growth_stage(new_image, model)\n",
    "print(f\"Predicted Growth Stage: {predicted_stage}\")\n",
    "print()"
   ]
  },
  {
   "cell_type": "code",
   "execution_count": null,
   "metadata": {},
   "outputs": [],
   "source": []
  }
 ],
 "metadata": {
  "kernelspec": {
   "display_name": "research_env",
   "language": "python",
   "name": "python3"
  },
  "language_info": {
   "codemirror_mode": {
    "name": "ipython",
    "version": 3
   },
   "file_extension": ".py",
   "mimetype": "text/x-python",
   "name": "python",
   "nbconvert_exporter": "python",
   "pygments_lexer": "ipython3",
   "version": "3.10.16"
  }
 },
 "nbformat": 4,
 "nbformat_minor": 2
}
