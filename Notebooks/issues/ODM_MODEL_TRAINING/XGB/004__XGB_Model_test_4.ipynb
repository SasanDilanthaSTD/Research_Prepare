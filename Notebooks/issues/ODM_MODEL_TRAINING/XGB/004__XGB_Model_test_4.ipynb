{
 "cells": [
  {
   "cell_type": "markdown",
   "metadata": {},
   "source": [
    "## XGBoost modifications\n",
    " - V2 : Use class weight"
   ]
  },
  {
   "cell_type": "markdown",
   "metadata": {},
   "source": [
    ">- import packages"
   ]
  },
  {
   "cell_type": "code",
   "execution_count": 1,
   "metadata": {},
   "outputs": [],
   "source": [
    "import os\n",
    "import numpy as np\n",
    "import matplotlib.pyplot as plt\n",
    "import seaborn as sns\n",
    "import rasterio\n",
    "from sklearn.model_selection import KFold, GridSearchCV\n",
    "from xgboost import XGBClassifier\n",
    "from sklearn.metrics import accuracy_score, classification_report, f1_score, precision_score, recall_score, confusion_matrix\n",
    "import joblib \n",
    "from pathlib import Path\n",
    "\n",
    "from sklearn.utils.class_weight import compute_class_weight\n"
   ]
  },
  {
   "cell_type": "markdown",
   "metadata": {},
   "source": [
    ">- Define function & modify"
   ]
  },
  {
   "cell_type": "code",
   "execution_count": 2,
   "metadata": {},
   "outputs": [],
   "source": [
    "# Define functions to calculate NDVI and NDWI\n",
    "def calculate_ndvi(nir, red):\n",
    "    return (nir - red) / (nir + red + 1e-10)\n",
    "\n",
    "def calculate_ndwi(nir, green):\n",
    "    return (nir - green) / (nir + green + 1e-10)\n",
    "\n",
    "'''\n",
    "    Enhanced Feature Engineering:\n",
    "        -  Current features (mean NDVI/NDWI) might be insufficient. Add:\n",
    "\n",
    "'''\n",
    "def extract_features(image_path):\n",
    "    with rasterio.open(image_path) as src:\n",
    "        bands = src.read()\n",
    "        nir, red, green = bands[4], bands[2], bands[1]\n",
    "        \n",
    "        # Existing features\n",
    "        ndvi = calculate_ndvi(nir, red)\n",
    "        ndwi = calculate_ndwi(nir, green)\n",
    "        \n",
    "        # New features\n",
    "        return [\n",
    "            np.mean(ndvi), np.std(ndvi),  # Add standard deviation\n",
    "            np.mean(ndwi), np.std(ndwi),\n",
    "            np.percentile(nir, 75),  # Texture features\n",
    "            np.mean(green > np.quantile(green, 0.75))  # Threshold features\n",
    "        ]\n",
    "\n",
    "\n",
    "def calculate_class_weights(y):\n",
    "    \"\"\"Calculate class weights for imbalanced datasets\"\"\"\n",
    "    classes = np.unique(y)\n",
    "    weights = compute_class_weight('balanced', classes=classes, y=y)\n",
    "    return {i: w for i, w in enumerate(weights)}"
   ]
  },
  {
   "cell_type": "markdown",
   "metadata": {},
   "source": [
    ">- load dataset"
   ]
  },
  {
   "cell_type": "code",
   "execution_count": 3,
   "metadata": {},
   "outputs": [],
   "source": [
    "# Load dataset efficiently\n",
    "train_dataset_path = Path('../../../../data/model/Patches/Train/')\n",
    "test_dataset_path = Path('../../../../data/model/Patches/Test/')\n",
    "growth_stages = [\"germination\", \"tillering\", \"grand_growth\", \"ripening\"]\n",
    "X, X_test, y, y_test = [], [], [], []\n",
    "\n",
    "for idx, stage in enumerate(growth_stages):\n",
    "    stage_path = train_dataset_path / stage\n",
    "    for img_file in os.listdir(stage_path):\n",
    "        img_path = stage_path / img_file\n",
    "        X.append(extract_features(img_path))\n",
    "        y.append(idx)\n",
    "\n",
    "X = np.array(X)\n",
    "y = np.array(y)\n",
    "\n",
    "for idx, stage in enumerate(growth_stages):\n",
    "    stage_path = test_dataset_path / stage\n",
    "    for img_file in os.listdir(stage_path):\n",
    "        img_path = stage_path / img_file\n",
    "        X_test.append(extract_features(img_path))\n",
    "        y_test.append(idx)\n",
    "\n",
    "X_test = np.array(X_test)\n",
    "y_test = np.array(y_test)"
   ]
  },
  {
   "cell_type": "markdown",
   "metadata": {},
   "source": [
    ">- setup model"
   ]
  },
  {
   "cell_type": "code",
   "execution_count": 4,
   "metadata": {},
   "outputs": [
    {
     "name": "stdout",
     "output_type": "stream",
     "text": [
      "Fitting 5 folds for each of 108 candidates, totalling 540 fits\n"
     ]
    },
    {
     "name": "stderr",
     "output_type": "stream",
     "text": [
      "c:\\Users\\hashi\\anaconda3\\envs\\research_env\\lib\\site-packages\\xgboost\\core.py:158: UserWarning: [23:37:08] WARNING: C:\\buildkite-agent\\builds\\buildkite-windows-cpu-autoscaling-group-i-08cbc0333d8d4aae1-1\\xgboost\\xgboost-ci-windows\\src\\learner.cc:740: \n",
      "Parameters: { \"scale_pos_weight\", \"use_label_encoder\" } are not used.\n",
      "\n",
      "  warnings.warn(smsg, UserWarning)\n"
     ]
    },
    {
     "name": "stdout",
     "output_type": "stream",
     "text": [
      "Best Parameters: {'colsample_bytree': 1.0, 'learning_rate': 0.1, 'max_depth': 6, 'n_estimators': 100, 'subsample': 0.8}\n",
      "[0]\tvalidation_0-mlogloss:1.21932\tvalidation_1-mlogloss:1.22215\n",
      "[1]\tvalidation_0-mlogloss:1.08430\tvalidation_1-mlogloss:1.08913\n",
      "[2]\tvalidation_0-mlogloss:0.97166\tvalidation_1-mlogloss:0.97860\n",
      "[3]\tvalidation_0-mlogloss:0.87584\tvalidation_1-mlogloss:0.88459\n",
      "[4]\tvalidation_0-mlogloss:0.79374\tvalidation_1-mlogloss:0.80415\n",
      "[5]\tvalidation_0-mlogloss:0.72234\tvalidation_1-mlogloss:0.73430\n",
      "[6]\tvalidation_0-mlogloss:0.66000\tvalidation_1-mlogloss:0.67336\n",
      "[7]\tvalidation_0-mlogloss:0.60531\tvalidation_1-mlogloss:0.62002\n",
      "[8]\tvalidation_0-mlogloss:0.55707\tvalidation_1-mlogloss:0.57300\n",
      "[9]\tvalidation_0-mlogloss:0.51435\tvalidation_1-mlogloss:0.53107\n",
      "[10]\tvalidation_0-mlogloss:0.47621\tvalidation_1-mlogloss:0.49394\n",
      "[11]\tvalidation_0-mlogloss:0.44217\tvalidation_1-mlogloss:0.46109\n",
      "[12]\tvalidation_0-mlogloss:0.41175\tvalidation_1-mlogloss:0.43147\n",
      "[13]\tvalidation_0-mlogloss:0.38442\tvalidation_1-mlogloss:0.40499\n",
      "[14]\tvalidation_0-mlogloss:0.35978\tvalidation_1-mlogloss:0.38099\n",
      "[15]\tvalidation_0-mlogloss:0.33771\tvalidation_1-mlogloss:0.35959\n",
      "[16]\tvalidation_0-mlogloss:0.31802\tvalidation_1-mlogloss:0.34068\n",
      "[17]\tvalidation_0-mlogloss:0.29986\tvalidation_1-mlogloss:0.32327\n",
      "[18]\tvalidation_0-mlogloss:0.28357\tvalidation_1-mlogloss:0.30764\n",
      "[19]\tvalidation_0-mlogloss:0.26894\tvalidation_1-mlogloss:0.29357\n",
      "[20]\tvalidation_0-mlogloss:0.25589\tvalidation_1-mlogloss:0.28095\n",
      "[21]\tvalidation_0-mlogloss:0.24386\tvalidation_1-mlogloss:0.26982\n",
      "[22]\tvalidation_0-mlogloss:0.23308\tvalidation_1-mlogloss:0.25941\n",
      "[23]\tvalidation_0-mlogloss:0.22338\tvalidation_1-mlogloss:0.25014\n",
      "[24]\tvalidation_0-mlogloss:0.21449\tvalidation_1-mlogloss:0.24163\n",
      "[25]\tvalidation_0-mlogloss:0.20631\tvalidation_1-mlogloss:0.23381\n",
      "[26]\tvalidation_0-mlogloss:0.19882\tvalidation_1-mlogloss:0.22665\n",
      "[27]\tvalidation_0-mlogloss:0.19207\tvalidation_1-mlogloss:0.22033\n",
      "[28]\tvalidation_0-mlogloss:0.18580\tvalidation_1-mlogloss:0.21442\n",
      "[29]\tvalidation_0-mlogloss:0.18017\tvalidation_1-mlogloss:0.20920\n",
      "[30]\tvalidation_0-mlogloss:0.17492\tvalidation_1-mlogloss:0.20440\n",
      "[31]\tvalidation_0-mlogloss:0.17012\tvalidation_1-mlogloss:0.19999\n",
      "[32]\tvalidation_0-mlogloss:0.16574\tvalidation_1-mlogloss:0.19588\n",
      "[33]\tvalidation_0-mlogloss:0.16171\tvalidation_1-mlogloss:0.19228\n",
      "[34]\tvalidation_0-mlogloss:0.15813\tvalidation_1-mlogloss:0.18909\n",
      "[35]\tvalidation_0-mlogloss:0.15486\tvalidation_1-mlogloss:0.18621\n",
      "[36]\tvalidation_0-mlogloss:0.15185\tvalidation_1-mlogloss:0.18337\n",
      "[37]\tvalidation_0-mlogloss:0.14909\tvalidation_1-mlogloss:0.18086\n",
      "[38]\tvalidation_0-mlogloss:0.14650\tvalidation_1-mlogloss:0.17856\n",
      "[39]\tvalidation_0-mlogloss:0.14412\tvalidation_1-mlogloss:0.17645\n",
      "[40]\tvalidation_0-mlogloss:0.14184\tvalidation_1-mlogloss:0.17444\n",
      "[41]\tvalidation_0-mlogloss:0.13965\tvalidation_1-mlogloss:0.17265\n",
      "[42]\tvalidation_0-mlogloss:0.13784\tvalidation_1-mlogloss:0.17114\n",
      "[43]\tvalidation_0-mlogloss:0.13627\tvalidation_1-mlogloss:0.16974\n",
      "[44]\tvalidation_0-mlogloss:0.13458\tvalidation_1-mlogloss:0.16842\n",
      "[45]\tvalidation_0-mlogloss:0.13283\tvalidation_1-mlogloss:0.16690\n",
      "[46]\tvalidation_0-mlogloss:0.13126\tvalidation_1-mlogloss:0.16565\n",
      "[47]\tvalidation_0-mlogloss:0.12971\tvalidation_1-mlogloss:0.16445\n",
      "[48]\tvalidation_0-mlogloss:0.12851\tvalidation_1-mlogloss:0.16347\n",
      "[49]\tvalidation_0-mlogloss:0.12721\tvalidation_1-mlogloss:0.16262\n",
      "[50]\tvalidation_0-mlogloss:0.12598\tvalidation_1-mlogloss:0.16177\n",
      "[51]\tvalidation_0-mlogloss:0.12482\tvalidation_1-mlogloss:0.16093\n",
      "[52]\tvalidation_0-mlogloss:0.12381\tvalidation_1-mlogloss:0.16018\n",
      "[53]\tvalidation_0-mlogloss:0.12281\tvalidation_1-mlogloss:0.15951\n",
      "[54]\tvalidation_0-mlogloss:0.12197\tvalidation_1-mlogloss:0.15887\n",
      "[55]\tvalidation_0-mlogloss:0.12100\tvalidation_1-mlogloss:0.15825\n",
      "[56]\tvalidation_0-mlogloss:0.12014\tvalidation_1-mlogloss:0.15759\n",
      "[57]\tvalidation_0-mlogloss:0.11941\tvalidation_1-mlogloss:0.15707\n",
      "[58]\tvalidation_0-mlogloss:0.11864\tvalidation_1-mlogloss:0.15652\n",
      "[59]\tvalidation_0-mlogloss:0.11782\tvalidation_1-mlogloss:0.15605\n",
      "[60]\tvalidation_0-mlogloss:0.11696\tvalidation_1-mlogloss:0.15542\n",
      "[61]\tvalidation_0-mlogloss:0.11617\tvalidation_1-mlogloss:0.15505\n",
      "[62]\tvalidation_0-mlogloss:0.11533\tvalidation_1-mlogloss:0.15464\n",
      "[63]\tvalidation_0-mlogloss:0.11457\tvalidation_1-mlogloss:0.15418\n",
      "[64]\tvalidation_0-mlogloss:0.11399\tvalidation_1-mlogloss:0.15394\n",
      "[65]\tvalidation_0-mlogloss:0.11355\tvalidation_1-mlogloss:0.15374\n",
      "[66]\tvalidation_0-mlogloss:0.11287\tvalidation_1-mlogloss:0.15343\n",
      "[67]\tvalidation_0-mlogloss:0.11220\tvalidation_1-mlogloss:0.15325\n",
      "[68]\tvalidation_0-mlogloss:0.11157\tvalidation_1-mlogloss:0.15293\n",
      "[69]\tvalidation_0-mlogloss:0.11095\tvalidation_1-mlogloss:0.15257\n",
      "[70]\tvalidation_0-mlogloss:0.11021\tvalidation_1-mlogloss:0.15233\n",
      "[71]\tvalidation_0-mlogloss:0.10942\tvalidation_1-mlogloss:0.15206\n",
      "[72]\tvalidation_0-mlogloss:0.10885\tvalidation_1-mlogloss:0.15197\n",
      "[73]\tvalidation_0-mlogloss:0.10817\tvalidation_1-mlogloss:0.15185\n",
      "[74]\tvalidation_0-mlogloss:0.10751\tvalidation_1-mlogloss:0.15170\n",
      "[75]\tvalidation_0-mlogloss:0.10694\tvalidation_1-mlogloss:0.15166\n",
      "[76]\tvalidation_0-mlogloss:0.10629\tvalidation_1-mlogloss:0.15153\n",
      "[77]\tvalidation_0-mlogloss:0.10579\tvalidation_1-mlogloss:0.15134\n",
      "[78]\tvalidation_0-mlogloss:0.10527\tvalidation_1-mlogloss:0.15126\n",
      "[79]\tvalidation_0-mlogloss:0.10449\tvalidation_1-mlogloss:0.15113\n",
      "[80]\tvalidation_0-mlogloss:0.10385\tvalidation_1-mlogloss:0.15107\n",
      "[81]\tvalidation_0-mlogloss:0.10332\tvalidation_1-mlogloss:0.15080\n",
      "[82]\tvalidation_0-mlogloss:0.10251\tvalidation_1-mlogloss:0.15058\n",
      "[83]\tvalidation_0-mlogloss:0.10199\tvalidation_1-mlogloss:0.15042\n",
      "[84]\tvalidation_0-mlogloss:0.10155\tvalidation_1-mlogloss:0.15038\n",
      "[85]\tvalidation_0-mlogloss:0.10121\tvalidation_1-mlogloss:0.15036\n",
      "[86]\tvalidation_0-mlogloss:0.10062\tvalidation_1-mlogloss:0.15023\n",
      "[87]\tvalidation_0-mlogloss:0.10018\tvalidation_1-mlogloss:0.15024\n",
      "[88]\tvalidation_0-mlogloss:0.09992\tvalidation_1-mlogloss:0.15031\n",
      "[89]\tvalidation_0-mlogloss:0.09939\tvalidation_1-mlogloss:0.15024\n",
      "[90]\tvalidation_0-mlogloss:0.09909\tvalidation_1-mlogloss:0.15002\n",
      "[91]\tvalidation_0-mlogloss:0.09855\tvalidation_1-mlogloss:0.14999\n",
      "[92]\tvalidation_0-mlogloss:0.09824\tvalidation_1-mlogloss:0.14985\n",
      "[93]\tvalidation_0-mlogloss:0.09753\tvalidation_1-mlogloss:0.14963\n",
      "[94]\tvalidation_0-mlogloss:0.09719\tvalidation_1-mlogloss:0.14959\n",
      "[95]\tvalidation_0-mlogloss:0.09686\tvalidation_1-mlogloss:0.14963\n",
      "[96]\tvalidation_0-mlogloss:0.09663\tvalidation_1-mlogloss:0.14957\n",
      "[97]\tvalidation_0-mlogloss:0.09619\tvalidation_1-mlogloss:0.14955\n",
      "[98]\tvalidation_0-mlogloss:0.09558\tvalidation_1-mlogloss:0.14952\n",
      "[99]\tvalidation_0-mlogloss:0.09515\tvalidation_1-mlogloss:0.14951\n"
     ]
    },
    {
     "data": {
      "image/png": "[encoded data removed]",
      "text/plain": [
       "<Figure size 800x600 with 1 Axes>"
      ]
     },
     "metadata": {},
     "output_type": "display_data"
    }
   ],
   "source": [
    "# Define parameter grid for XGBoost\n",
    "param_grid = {\n",
    "    \"n_estimators\": [50, 100, 200],\n",
    "    \"max_depth\": [3, 6, 10],\n",
    "    \"learning_rate\": [0.01, 0.1, 0.2],\n",
    "    \"subsample\": [0.8, 1.0],\n",
    "    \"colsample_bytree\": [0.8, 1.0]\n",
    "}\n",
    "\n",
    "# Initialize XGBoost and GridSearchCV\n",
    "xgb_model = XGBClassifier(\n",
    "    objective='multi:softmax',\n",
    "    num_class=4,\n",
    "    use_label_encoder=False, \n",
    "    eval_metric='mlogloss',\n",
    "    scale_pos_weight=calculate_class_weights(y), \n",
    "    random_state=42\n",
    "    )\n",
    "\n",
    "kf = KFold(n_splits=5, shuffle=True, random_state=42)\n",
    "\n",
    "grid_search = GridSearchCV(xgb_model, param_grid, cv=kf, n_jobs=-1, verbose=2, return_train_score=True)\n",
    "\n",
    "# Train model with cross-validation\n",
    "grid_search.fit(X, y)\n",
    "\n",
    "# Get the best model from Grid Search\n",
    "best_model = grid_search.best_estimator_\n",
    "\n",
    "# Best parameters\n",
    "print(f\"Best Parameters: {grid_search.best_params_}\")\n",
    "\n",
    "# Train the model on the entire training dataset\n",
    "history = best_model.fit(X, y, eval_set=[(X, y), (X_test, y_test)], verbose=True)\n",
    "\n",
    "# Plot training and test accuracy\n",
    "eval_results = best_model.evals_result()\n",
    "train_accuracy = eval_results['validation_0']['mlogloss']\n",
    "test_accuracy = eval_results['validation_1']['mlogloss']\n",
    "\n",
    "plt.figure(figsize=(8, 6))\n",
    "plt.plot(train_accuracy, label='Train Accuracy')\n",
    "plt.plot(test_accuracy, label='Test Accuracy')\n",
    "plt.xlabel('Epochs')\n",
    "plt.ylabel('Log Loss')\n",
    "plt.title('Training vs Test Accuracy')\n",
    "plt.legend()\n",
    "plt.savefig(Path(\"../../../../IMG/XGB_V41_accuracy_plot.png\"))\n",
    "plt.show()"
   ]
  },
  {
   "cell_type": "markdown",
   "metadata": {},
   "source": [
    ">- evaluate model"
   ]
  },
  {
   "cell_type": "code",
   "execution_count": 5,
   "metadata": {},
   "outputs": [
    {
     "name": "stdout",
     "output_type": "stream",
     "text": [
      "Test Accuracy: 0.9329388560157791\n",
      "Test Precision: 0.932526379352765\n",
      "Test Recall: 0.9329388560157791\n",
      "Test F1 Score: 0.9326954170486212\n",
      "Classification Report:\n",
      "              precision    recall  f1-score   support\n",
      "\n",
      "           0       0.93      0.94      0.94      2071\n",
      "           1       0.74      0.73      0.74       499\n",
      "           2       1.00      0.99      0.99       984\n",
      "           3       1.00      0.99      0.99       502\n",
      "\n",
      "    accuracy                           0.93      4056\n",
      "   macro avg       0.92      0.91      0.91      4056\n",
      "weighted avg       0.93      0.93      0.93      4056\n",
      "\n",
      "Saved model to: ..\\..\\..\\..\\models\\Map1\\XGB_model_v41.joblib\n",
      "Best Cross-Validation Accuracy: 93.85%\n"
     ]
    },
    {
     "data": {
      "image/png": "[encoded data removed]",
      "text/plain": [
       "<Figure size 800x600 with 2 Axes>"
      ]
     },
     "metadata": {},
     "output_type": "display_data"
    }
   ],
   "source": [
    "# Evaluate the model on the test set\n",
    "y_test_pred = best_model.predict(X_test)\n",
    "test_accuracy = accuracy_score(y_test, y_test_pred)\n",
    "test_report = classification_report(y_test, y_test_pred)\n",
    "\n",
    "# Calculate additional metrics\n",
    "test_precision = precision_score(y_test, y_test_pred, average='weighted')\n",
    "test_recall = recall_score(y_test, y_test_pred, average='weighted')\n",
    "test_f1 = f1_score(y_test, y_test_pred, average='weighted')\n",
    "confusion = confusion_matrix(y_test, y_test_pred)\n",
    "\n",
    "# Log confusion matrix as an image\n",
    "plt.figure(figsize=(8, 6))\n",
    "sns.heatmap(confusion, annot=True, fmt='d', cmap='Blues')\n",
    "plt.title('Confusion Matrix')\n",
    "plt.xlabel('Predicted Label')\n",
    "plt.ylabel('True Label')\n",
    "plt.savefig(Path(\"../../../../IMG/XGB_V41_confusion_matrix.png\")) # Save confusion matrix\n",
    "\n",
    "# Print results\n",
    "print(f\"Test Accuracy: {test_accuracy}\")\n",
    "print(f\"Test Precision: {test_precision}\")\n",
    "print(f\"Test Recall: {test_recall}\")\n",
    "print(f\"Test F1 Score: {test_f1}\")\n",
    "print(f\"Classification Report:\\n{test_report}\")\n",
    "\n",
    "# Save the best model to disk\n",
    "XGB_model_v41 = Path(\"../../../../models/Map1/XGB_model_v41.joblib\")\n",
    "joblib.dump(best_model, XGB_model_v41)\n",
    "print(f\"Saved model to: {XGB_model_v41}\")\n",
    "\n",
    "# Evaluate using cross-validation accuracy\n",
    "print(f\"Best Cross-Validation Accuracy: {grid_search.best_score_ * 100:.2f}%\")"
   ]
  },
  {
   "cell_type": "markdown",
   "metadata": {},
   "source": [
    ">- predict"
   ]
  },
  {
   "cell_type": "code",
   "execution_count": 6,
   "metadata": {},
   "outputs": [
    {
     "name": "stdout",
     "output_type": "stream",
     "text": [
      "Predicted Growth Stage: ripening\n",
      "\n"
     ]
    }
   ],
   "source": [
    "# Load the best model\n",
    "model = joblib.load(Path(\"../../../../models/Map1/XGB_model_v41.joblib\"))\n",
    "\n",
    "def predict_growth_stage(image_path, model):\n",
    "    features = extract_features(image_path)\n",
    "    predicted_label = model.predict([features])[0]\n",
    "    return growth_stages[predicted_label]\n",
    "\n",
    "new_image = Path('../../../../data/model/Patches/Test/ripening/patch_70.tif')\n",
    "predicted_stage = predict_growth_stage(new_image, model)\n",
    "print(f\"Predicted Growth Stage: {predicted_stage}\")\n",
    "print()"
   ]
  },
  {
   "cell_type": "code",
   "execution_count": null,
   "metadata": {},
   "outputs": [],
   "source": []
  }
 ],
 "metadata": {
  "kernelspec": {
   "display_name": "research_env",
   "language": "python",
   "name": "python3"
  },
  "language_info": {
   "codemirror_mode": {
    "name": "ipython",
    "version": 3
   },
   "file_extension": ".py",
   "mimetype": "text/x-python",
   "name": "python",
   "nbconvert_exporter": "python",
   "pygments_lexer": "ipython3",
   "version": "3.10.16"
  }
 },
 "nbformat": 4,
 "nbformat_minor": 2
}
