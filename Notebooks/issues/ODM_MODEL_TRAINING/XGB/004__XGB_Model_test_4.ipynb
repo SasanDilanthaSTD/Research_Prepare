{
 "cells": [
  {
   "cell_type": "markdown",
   "metadata": {},
   "source": [
    "## XGBoost modifications\n",
    " - V2 : Use class weight"
   ]
  },
  {
   "cell_type": "markdown",
   "metadata": {},
   "source": [
    ">- import packages"
   ]
  },
  {
   "cell_type": "code",
   "execution_count": 1,
   "metadata": {},
   "outputs": [],
   "source": [
    "import os\n",
    "import numpy as np\n",
    "import matplotlib.pyplot as plt\n",
    "import seaborn as sns\n",
    "import rasterio\n",
    "from sklearn.model_selection import KFold, GridSearchCV\n",
    "from xgboost import XGBClassifier\n",
    "from sklearn.metrics import accuracy_score, classification_report, f1_score, precision_score, recall_score, confusion_matrix\n",
    "import joblib \n",
    "from pathlib import Path\n",
    "\n",
    "from sklearn.utils.class_weight import compute_class_weight\n"
   ]
  },
  {
   "cell_type": "markdown",
   "metadata": {},
   "source": [
    ">- Define function & modify"
   ]
  },
  {
   "cell_type": "code",
   "execution_count": 2,
   "metadata": {},
   "outputs": [],
   "source": [
    "# define ouput dir\n",
    "output_dir = Path(\"../output/XGBoost\")\n",
    "output_dir.mkdir(parents=True, exist_ok=True)\n",
    "\n",
    "output_img_dir = output_dir / \"IMG\"\n",
    "output_img_dir.mkdir(parents=True, exist_ok=True)\n",
    "\n",
    "output_model_dir = output_dir / \"model\"\n",
    "output_model_dir.mkdir(parents=True, exist_ok=True)"
   ]
  },
  {
   "cell_type": "code",
   "execution_count": 3,
   "metadata": {},
   "outputs": [],
   "source": [
    "# Define functions to calculate NDVI and NDWI\n",
    "def calculate_ndvi(nir, red):\n",
    "    return (nir - red) / (nir + red + 1e-10)\n",
    "\n",
    "def calculate_ndwi(nir, green):\n",
    "    return (nir - green) / (nir + green + 1e-10)\n",
    "\n",
    "'''\n",
    "    Enhanced Feature Engineering:\n",
    "        -  Current features (mean NDVI/NDWI) might be insufficient. Add:\n",
    "\n",
    "'''\n",
    "def extract_features(image_path):\n",
    "    with rasterio.open(image_path) as src:\n",
    "        bands = src.read()\n",
    "        nir, red, green = bands[3], bands[0], bands[1]\n",
    "        \n",
    "        # Existing features\n",
    "        ndvi = calculate_ndvi(nir, red)\n",
    "        ndwi = calculate_ndwi(nir, green)\n",
    "        \n",
    "        # New features\n",
    "        return [\n",
    "            np.mean(ndvi), np.std(ndvi),  # Add standard deviation\n",
    "            np.mean(ndwi), np.std(ndwi),\n",
    "            np.percentile(nir, 75),  # Texture features\n",
    "            np.mean(green > np.quantile(green, 0.75))  # Threshold features\n",
    "        ]\n",
    "\n",
    "\n",
    "def calculate_class_weights(y):\n",
    "    \"\"\"Calculate class weights for imbalanced datasets\"\"\"\n",
    "    classes = np.unique(y)\n",
    "    weights = compute_class_weight('balanced', classes=classes, y=y)\n",
    "    return {i: w for i, w in enumerate(weights)}"
   ]
  },
  {
   "cell_type": "markdown",
   "metadata": {},
   "source": [
    ">- load dataset"
   ]
  },
  {
   "cell_type": "code",
   "execution_count": 4,
   "metadata": {},
   "outputs": [],
   "source": [
    "# Load dataset efficiently\n",
    "train_dataset_path = Path('../../../../data/odm_dataset/Patches/Train')\n",
    "test_dataset_path = Path('../../../../data/odm_dataset/Patches/Test/')\n",
    "growth_stages = [\"germination\", \"tillering\", \"grand_growth\", \"ripening\"]\n",
    "X, X_test, y, y_test = [], [], [], []\n",
    "\n",
    "for idx, stage in enumerate(growth_stages):\n",
    "    stage_path = train_dataset_path / stage\n",
    "    for img_file in os.listdir(stage_path):\n",
    "        img_path = stage_path / img_file\n",
    "        X.append(extract_features(img_path))\n",
    "        y.append(idx)\n",
    "\n",
    "X = np.array(X)\n",
    "y = np.array(y)\n",
    "\n",
    "for idx, stage in enumerate(growth_stages):\n",
    "    stage_path = test_dataset_path / stage\n",
    "    for img_file in os.listdir(stage_path):\n",
    "        img_path = stage_path / img_file\n",
    "        X_test.append(extract_features(img_path))\n",
    "        y_test.append(idx)\n",
    "\n",
    "X_test = np.array(X_test)\n",
    "y_test = np.array(y_test)"
   ]
  },
  {
   "cell_type": "markdown",
   "metadata": {},
   "source": [
    ">- setup model"
   ]
  },
  {
   "cell_type": "code",
   "execution_count": 5,
   "metadata": {},
   "outputs": [
    {
     "name": "stdout",
     "output_type": "stream",
     "text": [
      "Fitting 5 folds for each of 108 candidates, totalling 540 fits\n"
     ]
    },
    {
     "name": "stderr",
     "output_type": "stream",
     "text": [
      "c:\\Users\\user\\anaconda3\\envs\\research_env\\lib\\site-packages\\xgboost\\core.py:158: UserWarning: [17:16:52] WARNING: C:\\buildkite-agent\\builds\\buildkite-windows-cpu-autoscaling-group-i-08cbc0333d8d4aae1-1\\xgboost\\xgboost-ci-windows\\src\\learner.cc:740: \n",
      "Parameters: { \"scale_pos_weight\", \"use_label_encoder\" } are not used.\n",
      "\n",
      "  warnings.warn(smsg, UserWarning)\n"
     ]
    },
    {
     "name": "stdout",
     "output_type": "stream",
     "text": [
      "Best Parameters: {'colsample_bytree': 1.0, 'learning_rate': 0.2, 'max_depth': 10, 'n_estimators': 50, 'subsample': 0.8}\n",
      "[0]\tvalidation_0-mlogloss:1.16481\tvalidation_1-mlogloss:1.22009\n",
      "[1]\tvalidation_0-mlogloss:0.99707\tvalidation_1-mlogloss:1.10173\n",
      "[2]\tvalidation_0-mlogloss:0.86546\tvalidation_1-mlogloss:1.01190\n",
      "[3]\tvalidation_0-mlogloss:0.76327\tvalidation_1-mlogloss:0.95212\n",
      "[4]\tvalidation_0-mlogloss:0.67514\tvalidation_1-mlogloss:0.89901\n",
      "[5]\tvalidation_0-mlogloss:0.60505\tvalidation_1-mlogloss:0.85697\n",
      "[6]\tvalidation_0-mlogloss:0.54734\tvalidation_1-mlogloss:0.83123\n",
      "[7]\tvalidation_0-mlogloss:0.49756\tvalidation_1-mlogloss:0.80776\n",
      "[8]\tvalidation_0-mlogloss:0.45402\tvalidation_1-mlogloss:0.78717\n",
      "[9]\tvalidation_0-mlogloss:0.41543\tvalidation_1-mlogloss:0.76986\n",
      "[10]\tvalidation_0-mlogloss:0.37772\tvalidation_1-mlogloss:0.75850\n",
      "[11]\tvalidation_0-mlogloss:0.35021\tvalidation_1-mlogloss:0.74792\n",
      "[12]\tvalidation_0-mlogloss:0.32464\tvalidation_1-mlogloss:0.73812\n",
      "[13]\tvalidation_0-mlogloss:0.30429\tvalidation_1-mlogloss:0.73116\n",
      "[14]\tvalidation_0-mlogloss:0.28721\tvalidation_1-mlogloss:0.71899\n",
      "[15]\tvalidation_0-mlogloss:0.27056\tvalidation_1-mlogloss:0.71424\n",
      "[16]\tvalidation_0-mlogloss:0.25297\tvalidation_1-mlogloss:0.71495\n",
      "[17]\tvalidation_0-mlogloss:0.24026\tvalidation_1-mlogloss:0.71379\n",
      "[18]\tvalidation_0-mlogloss:0.22801\tvalidation_1-mlogloss:0.71129\n",
      "[19]\tvalidation_0-mlogloss:0.21596\tvalidation_1-mlogloss:0.70643\n",
      "[20]\tvalidation_0-mlogloss:0.20539\tvalidation_1-mlogloss:0.70526\n",
      "[21]\tvalidation_0-mlogloss:0.19754\tvalidation_1-mlogloss:0.70603\n",
      "[22]\tvalidation_0-mlogloss:0.18784\tvalidation_1-mlogloss:0.70687\n",
      "[23]\tvalidation_0-mlogloss:0.17862\tvalidation_1-mlogloss:0.70898\n",
      "[24]\tvalidation_0-mlogloss:0.16955\tvalidation_1-mlogloss:0.70561\n",
      "[25]\tvalidation_0-mlogloss:0.16150\tvalidation_1-mlogloss:0.70730\n",
      "[26]\tvalidation_0-mlogloss:0.15331\tvalidation_1-mlogloss:0.70800\n",
      "[27]\tvalidation_0-mlogloss:0.14722\tvalidation_1-mlogloss:0.70887\n"
     ]
    },
    {
     "name": "stderr",
     "output_type": "stream",
     "text": [
      "c:\\Users\\user\\anaconda3\\envs\\research_env\\lib\\site-packages\\xgboost\\core.py:158: UserWarning: [17:16:53] WARNING: C:\\buildkite-agent\\builds\\buildkite-windows-cpu-autoscaling-group-i-08cbc0333d8d4aae1-1\\xgboost\\xgboost-ci-windows\\src\\learner.cc:740: \n",
      "Parameters: { \"scale_pos_weight\", \"use_label_encoder\" } are not used.\n",
      "\n",
      "  warnings.warn(smsg, UserWarning)\n"
     ]
    },
    {
     "name": "stdout",
     "output_type": "stream",
     "text": [
      "[28]\tvalidation_0-mlogloss:0.13993\tvalidation_1-mlogloss:0.71205\n",
      "[29]\tvalidation_0-mlogloss:0.13468\tvalidation_1-mlogloss:0.71708\n",
      "[30]\tvalidation_0-mlogloss:0.12931\tvalidation_1-mlogloss:0.72063\n",
      "[31]\tvalidation_0-mlogloss:0.12479\tvalidation_1-mlogloss:0.72266\n",
      "[32]\tvalidation_0-mlogloss:0.12025\tvalidation_1-mlogloss:0.72479\n",
      "[33]\tvalidation_0-mlogloss:0.11632\tvalidation_1-mlogloss:0.72571\n",
      "[34]\tvalidation_0-mlogloss:0.11304\tvalidation_1-mlogloss:0.72745\n",
      "[35]\tvalidation_0-mlogloss:0.10858\tvalidation_1-mlogloss:0.73008\n",
      "[36]\tvalidation_0-mlogloss:0.10399\tvalidation_1-mlogloss:0.73446\n",
      "[37]\tvalidation_0-mlogloss:0.10098\tvalidation_1-mlogloss:0.73647\n",
      "[38]\tvalidation_0-mlogloss:0.09783\tvalidation_1-mlogloss:0.73744\n",
      "[39]\tvalidation_0-mlogloss:0.09424\tvalidation_1-mlogloss:0.74172\n",
      "[40]\tvalidation_0-mlogloss:0.09098\tvalidation_1-mlogloss:0.74246\n",
      "[41]\tvalidation_0-mlogloss:0.08779\tvalidation_1-mlogloss:0.74609\n",
      "[42]\tvalidation_0-mlogloss:0.08531\tvalidation_1-mlogloss:0.74777\n",
      "[43]\tvalidation_0-mlogloss:0.08330\tvalidation_1-mlogloss:0.74900\n",
      "[44]\tvalidation_0-mlogloss:0.08081\tvalidation_1-mlogloss:0.75181\n",
      "[45]\tvalidation_0-mlogloss:0.07815\tvalidation_1-mlogloss:0.75276\n",
      "[46]\tvalidation_0-mlogloss:0.07587\tvalidation_1-mlogloss:0.75697\n",
      "[47]\tvalidation_0-mlogloss:0.07404\tvalidation_1-mlogloss:0.75694\n",
      "[48]\tvalidation_0-mlogloss:0.07174\tvalidation_1-mlogloss:0.75924\n",
      "[49]\tvalidation_0-mlogloss:0.06972\tvalidation_1-mlogloss:0.76090\n"
     ]
    },
    {
     "data": {
      "image/png": "[encoded data removed]",
      "text/plain": [
       "<Figure size 800x600 with 1 Axes>"
      ]
     },
     "metadata": {},
     "output_type": "display_data"
    }
   ],
   "source": [
    "# Define parameter grid for XGBoost\n",
    "param_grid = {\n",
    "    \"n_estimators\": [50, 100, 200],\n",
    "    \"max_depth\": [3, 6, 10],\n",
    "    \"learning_rate\": [0.01, 0.1, 0.2],\n",
    "    \"subsample\": [0.8, 1.0],\n",
    "    \"colsample_bytree\": [0.8, 1.0]\n",
    "}\n",
    "\n",
    "# Initialize XGBoost and GridSearchCV\n",
    "xgb_model = XGBClassifier(\n",
    "    objective='multi:softmax',\n",
    "    num_class=4,\n",
    "    use_label_encoder=False, \n",
    "    eval_metric='mlogloss',\n",
    "    scale_pos_weight=calculate_class_weights(y), \n",
    "    random_state=42\n",
    "    )\n",
    "\n",
    "kf = KFold(n_splits=5, shuffle=True, random_state=42)\n",
    "\n",
    "grid_search = GridSearchCV(xgb_model, param_grid, cv=kf, n_jobs=-1, verbose=2, return_train_score=True)\n",
    "\n",
    "# Train model with cross-validation\n",
    "grid_search.fit(X, y)\n",
    "\n",
    "# Get the best model from Grid Search\n",
    "best_model = grid_search.best_estimator_\n",
    "\n",
    "# Best parameters\n",
    "print(f\"Best Parameters: {grid_search.best_params_}\")\n",
    "\n",
    "# Train the model on the entire training dataset\n",
    "history = best_model.fit(X, y, eval_set=[(X, y), (X_test, y_test)], verbose=True)\n",
    "\n",
    "# Plot training and test accuracy\n",
    "eval_results = best_model.evals_result()\n",
    "train_accuracy = eval_results['validation_0']['mlogloss']\n",
    "test_accuracy = eval_results['validation_1']['mlogloss']\n",
    "\n",
    "plt.figure(figsize=(8, 6))\n",
    "plt.plot(train_accuracy, label='Train Accuracy')\n",
    "plt.plot(test_accuracy, label='Test Accuracy')\n",
    "plt.xlabel('Epochs')\n",
    "plt.ylabel('Log Loss')\n",
    "plt.title('Training vs Test Accuracy')\n",
    "plt.legend()\n",
    "plt.savefig(Path(os.path.join(output_img_dir, \"ODM_XGB_V4_accuracy_plot.png\")))\n",
    "plt.show()"
   ]
  },
  {
   "cell_type": "markdown",
   "metadata": {},
   "source": [
    ">- evaluate model"
   ]
  },
  {
   "cell_type": "code",
   "execution_count": 6,
   "metadata": {},
   "outputs": [
    {
     "name": "stdout",
     "output_type": "stream",
     "text": [
      "Test Accuracy: 0.6986754966887417\n",
      "Test Precision: 0.7015812341238075\n",
      "Test Recall: 0.6986754966887417\n",
      "Test F1 Score: 0.6974310217532315\n",
      "Classification Report:\n",
      "              precision    recall  f1-score   support\n",
      "\n",
      "           0       0.69      0.70      0.70        97\n",
      "           1       0.68      0.57      0.62        77\n",
      "           2       0.62      0.78      0.70        51\n",
      "           3       0.79      0.77      0.78        77\n",
      "\n",
      "    accuracy                           0.70       302\n",
      "   macro avg       0.70      0.71      0.70       302\n",
      "weighted avg       0.70      0.70      0.70       302\n",
      "\n",
      "Saved model to: ..\\output\\XGBoost\\model\\XGB_model_v4.joblib\n",
      "Best Cross-Validation Accuracy: 72.05%\n"
     ]
    },
    {
     "data": {
      "image/png": "[encoded data removed]",
      "text/plain": [
       "<Figure size 800x600 with 2 Axes>"
      ]
     },
     "metadata": {},
     "output_type": "display_data"
    }
   ],
   "source": [
    "# Evaluate the model on the test set\n",
    "y_test_pred = best_model.predict(X_test)\n",
    "test_accuracy = accuracy_score(y_test, y_test_pred)\n",
    "test_report = classification_report(y_test, y_test_pred)\n",
    "\n",
    "# Calculate additional metrics\n",
    "test_precision = precision_score(y_test, y_test_pred, average='weighted')\n",
    "test_recall = recall_score(y_test, y_test_pred, average='weighted')\n",
    "test_f1 = f1_score(y_test, y_test_pred, average='weighted')\n",
    "confusion = confusion_matrix(y_test, y_test_pred)\n",
    "\n",
    "# Log confusion matrix as an image\n",
    "plt.figure(figsize=(8, 6))\n",
    "sns.heatmap(confusion, annot=True, fmt='d', cmap='Blues')\n",
    "plt.title('Confusion Matrix')\n",
    "plt.xlabel('Predicted Label')\n",
    "plt.ylabel('True Label')\n",
    "plt.savefig(Path(os.path.join(output_img_dir, \"ODM_XGB_V4_confusion_matrix.png\"))) # Save confusion matrix\n",
    "\n",
    "# Print results\n",
    "print(f\"Test Accuracy: {test_accuracy}\")\n",
    "print(f\"Test Precision: {test_precision}\")\n",
    "print(f\"Test Recall: {test_recall}\")\n",
    "print(f\"Test F1 Score: {test_f1}\")\n",
    "print(f\"Classification Report:\\n{test_report}\")\n",
    "\n",
    "# Save the best model to disk\n",
    "XGB_model_v4 = Path(os.path.join(output_model_dir, \"XGB_model_v4.joblib\"))\n",
    "joblib.dump(best_model, XGB_model_v4)\n",
    "print(f\"Saved model to: {XGB_model_v4}\")\n",
    "\n",
    "# Evaluate using cross-validation accuracy\n",
    "print(f\"Best Cross-Validation Accuracy: {grid_search.best_score_ * 100:.2f}%\")"
   ]
  },
  {
   "cell_type": "markdown",
   "metadata": {},
   "source": [
    ">- predict"
   ]
  },
  {
   "cell_type": "code",
   "execution_count": 8,
   "metadata": {},
   "outputs": [
    {
     "name": "stdout",
     "output_type": "stream",
     "text": [
      "Predicted Growth Stage: tillering\n",
      "\n"
     ]
    }
   ],
   "source": [
    "# Load the best model\n",
    "model = joblib.load(XGB_model_v4)\n",
    "\n",
    "def predict_growth_stage(image_path, model):\n",
    "    features = extract_features(image_path)\n",
    "    predicted_label = model.predict([features])[0]\n",
    "    return growth_stages[predicted_label]\n",
    "\n",
    "new_image = Path('../../../../data/odm_dataset/Patches/Train/tillering/patch_92.tif')\n",
    "predicted_stage = predict_growth_stage(new_image, model)\n",
    "print(f\"Predicted Growth Stage: {predicted_stage}\")\n",
    "print()"
   ]
  },
  {
   "cell_type": "code",
   "execution_count": null,
   "metadata": {},
   "outputs": [],
   "source": []
  }
 ],
 "metadata": {
  "kernelspec": {
   "display_name": "research_env",
   "language": "python",
   "name": "python3"
  },
  "language_info": {
   "codemirror_mode": {
    "name": "ipython",
    "version": 3
   },
   "file_extension": ".py",
   "mimetype": "text/x-python",
   "name": "python",
   "nbconvert_exporter": "python",
   "pygments_lexer": "ipython3",
   "version": "3.10.16"
  }
 },
 "nbformat": 4,
 "nbformat_minor": 2
}
