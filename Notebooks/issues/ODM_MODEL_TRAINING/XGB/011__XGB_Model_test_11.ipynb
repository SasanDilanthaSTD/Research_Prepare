{
 "cells": [
  {
   "cell_type": "markdown",
   "metadata": {},
   "source": [
    "## XGBoost modifications\n",
    " - V1 : Use SMOTE"
   ]
  },
  {
   "cell_type": "markdown",
   "metadata": {},
   "source": [
    ">- import packages"
   ]
  },
  {
   "cell_type": "code",
   "execution_count": 1,
   "metadata": {},
   "outputs": [],
   "source": [
    "import os\n",
    "import numpy as np\n",
    "import matplotlib.pyplot as plt\n",
    "import seaborn as sns\n",
    "import rasterio\n",
    "from sklearn.model_selection import KFold, GridSearchCV\n",
    "from xgboost import XGBClassifier\n",
    "from sklearn.metrics import accuracy_score, classification_report, f1_score, precision_score, recall_score, confusion_matrix\n",
    "import joblib \n",
    "from pathlib import Path\n",
    "\n",
    "# for data leveling\n",
    "from imblearn.over_sampling import SMOTE\n",
    "from imblearn.pipeline import Pipeline"
   ]
  },
  {
   "cell_type": "markdown",
   "metadata": {},
   "source": [
    ">- Define function & modify"
   ]
  },
  {
   "cell_type": "code",
   "execution_count": 2,
   "metadata": {},
   "outputs": [],
   "source": [
    "# define ouput dir\n",
    "output_dir = Path(\"../output/XGBoost\")\n",
    "output_dir.mkdir(parents=True, exist_ok=True)\n",
    "\n",
    "output_img_dir = output_dir / \"IMG\"\n",
    "output_img_dir.mkdir(parents=True, exist_ok=True)\n",
    "\n",
    "output_model_dir = output_dir / \"model\"\n",
    "output_model_dir.mkdir(parents=True, exist_ok=True)"
   ]
  },
  {
   "cell_type": "code",
   "execution_count": 3,
   "metadata": {},
   "outputs": [],
   "source": [
    "# Define functions to calculate NDVI and NDWI\n",
    "def calculate_ndvi(nir, red):\n",
    "    return (nir - red) / (nir + red + 1e-10)\n",
    "\n",
    "def calculate_ndwi(nir, green):\n",
    "    return (nir - green) / (nir + green + 1e-10)\n",
    "\n",
    "'''\n",
    "    Enhanced Feature Engineering:\n",
    "        -  Current features (mean NDVI/NDWI) might be insufficient. Add:\n",
    "\n",
    "'''\n",
    "def extract_features(image_path):\n",
    "    with rasterio.open(image_path) as src:\n",
    "        bands = src.read()\n",
    "        nir, red, green = bands[3], bands[0], bands[1]\n",
    "        \n",
    "        # Existing features\n",
    "        ndvi = calculate_ndvi(nir, red)\n",
    "        ndwi = calculate_ndwi(nir, green)\n",
    "        \n",
    "        # New features\n",
    "        return [\n",
    "            np.mean(ndvi), np.std(ndvi),  # Add standard deviation\n",
    "            np.mean(ndwi), np.std(ndwi),\n",
    "            np.percentile(nir, 75),  # Texture features\n",
    "            np.mean(green > np.quantile(green, 0.75))  # Threshold features\n",
    "        ]\n"
   ]
  },
  {
   "cell_type": "markdown",
   "metadata": {},
   "source": [
    ">- load dataset with SMOTE"
   ]
  },
  {
   "cell_type": "code",
   "execution_count": 4,
   "metadata": {},
   "outputs": [],
   "source": [
    "# Load dataset efficiently\n",
    "train_dataset_path = Path('../../../../data/odm_dataset/Patches/Train')\n",
    "test_dataset_path = Path('../../../../data/odm_dataset/Patches/Test/')\n",
    "growth_stages = [\"germination\", \"tillering\", \"grand_growth\", \"ripening\"]\n",
    "X, X_test, y, y_test = [], [], [], []\n",
    "\n",
    "for idx, stage in enumerate(growth_stages):\n",
    "    stage_path = train_dataset_path / stage\n",
    "    for img_file in os.listdir(stage_path):\n",
    "        img_path = stage_path / img_file\n",
    "        X.append(extract_features(img_path))\n",
    "        y.append(idx)\n",
    "\n",
    "X = np.array(X)\n",
    "y = np.array(y)\n",
    "\n",
    "# ADD SMOTE\n",
    "smote = SMOTE(random_state=42)\n",
    "X_res, y_res = smote.fit_resample(X, y)\n",
    "\n",
    "for idx, stage in enumerate(growth_stages):\n",
    "    stage_path = test_dataset_path / stage\n",
    "    for img_file in os.listdir(stage_path):\n",
    "        img_path = stage_path / img_file\n",
    "        X_test.append(extract_features(img_path))\n",
    "        y_test.append(idx)\n",
    "\n",
    "X_test = np.array(X_test)\n",
    "y_test = np.array(y_test)"
   ]
  },
  {
   "cell_type": "markdown",
   "metadata": {},
   "source": [
    ">- setup model"
   ]
  },
  {
   "cell_type": "code",
   "execution_count": 9,
   "metadata": {},
   "outputs": [
    {
     "name": "stdout",
     "output_type": "stream",
     "text": [
      "Fitting 5 folds for each of 4 candidates, totalling 20 fits\n"
     ]
    },
    {
     "name": "stderr",
     "output_type": "stream",
     "text": [
      "c:\\Users\\user\\anaconda3\\envs\\research_env\\lib\\site-packages\\xgboost\\core.py:158: UserWarning: [22:04:32] WARNING: C:\\buildkite-agent\\builds\\buildkite-windows-cpu-autoscaling-group-i-08cbc0333d8d4aae1-1\\xgboost\\xgboost-ci-windows\\src\\learner.cc:740: \n",
      "Parameters: { \"use_label_encoder\" } are not used.\n",
      "\n",
      "  warnings.warn(smsg, UserWarning)\n"
     ]
    },
    {
     "name": "stdout",
     "output_type": "stream",
     "text": [
      "Best Parameters: {'colsample_bytree': 0.8, 'learning_rate': 0.1, 'max_depth': 3, 'n_estimators': 100, 'reg_alpha': 5, 'reg_lambda': 5, 'subsample': 0.8}\n"
     ]
    },
    {
     "ename": "TypeError",
     "evalue": "XGBClassifier.fit() got an unexpected keyword argument 'early_stopping_rounds'",
     "output_type": "error",
     "traceback": [
      "\u001b[1;31m---------------------------------------------------------------------------\u001b[0m",
      "\u001b[1;31mTypeError\u001b[0m                                 Traceback (most recent call last)",
      "Cell \u001b[1;32mIn[9], line 49\u001b[0m\n\u001b[0;32m     47\u001b[0m \u001b[38;5;66;03m# Train the model on the entire training dataset\u001b[39;00m\n\u001b[0;32m     48\u001b[0m eval_set \u001b[38;5;241m=\u001b[39m [(X_res, y_res), (X_test, y_test)]\n\u001b[1;32m---> 49\u001b[0m history \u001b[38;5;241m=\u001b[39m \u001b[43mbest_model\u001b[49m\u001b[38;5;241;43m.\u001b[39;49m\u001b[43mfit\u001b[49m\u001b[43m(\u001b[49m\n\u001b[0;32m     50\u001b[0m \u001b[43m    \u001b[49m\u001b[43mX_res\u001b[49m\u001b[43m,\u001b[49m\u001b[43m \u001b[49m\u001b[43my_res\u001b[49m\u001b[43m,\u001b[49m\n\u001b[0;32m     51\u001b[0m \u001b[43m    \u001b[49m\u001b[43meval_set\u001b[49m\u001b[38;5;241;43m=\u001b[39;49m\u001b[43meval_set\u001b[49m\u001b[43m,\u001b[49m\n\u001b[0;32m     52\u001b[0m \u001b[43m    \u001b[49m\u001b[43mearly_stopping_rounds\u001b[49m\u001b[38;5;241;43m=\u001b[39;49m\u001b[38;5;241;43m5\u001b[39;49m\u001b[43m,\u001b[49m\n\u001b[0;32m     53\u001b[0m \u001b[43m    \u001b[49m\u001b[43mverbose\u001b[49m\u001b[38;5;241;43m=\u001b[39;49m\u001b[38;5;28;43;01mTrue\u001b[39;49;00m\n\u001b[0;32m     54\u001b[0m \u001b[43m)\u001b[49m\n\u001b[0;32m     56\u001b[0m \u001b[38;5;66;03m# Plot training and test accuracy\u001b[39;00m\n\u001b[0;32m     57\u001b[0m eval_results \u001b[38;5;241m=\u001b[39m best_model\u001b[38;5;241m.\u001b[39mevals_result()\n",
      "File \u001b[1;32mc:\\Users\\user\\anaconda3\\envs\\research_env\\lib\\site-packages\\xgboost\\core.py:726\u001b[0m, in \u001b[0;36mrequire_keyword_args.<locals>.throw_if.<locals>.inner_f\u001b[1;34m(*args, **kwargs)\u001b[0m\n\u001b[0;32m    724\u001b[0m \u001b[38;5;28;01mfor\u001b[39;00m k, arg \u001b[38;5;129;01min\u001b[39;00m \u001b[38;5;28mzip\u001b[39m(sig\u001b[38;5;241m.\u001b[39mparameters, args):\n\u001b[0;32m    725\u001b[0m     kwargs[k] \u001b[38;5;241m=\u001b[39m arg\n\u001b[1;32m--> 726\u001b[0m \u001b[38;5;28;01mreturn\u001b[39;00m func(\u001b[38;5;241m*\u001b[39m\u001b[38;5;241m*\u001b[39mkwargs)\n",
      "\u001b[1;31mTypeError\u001b[0m: XGBClassifier.fit() got an unexpected keyword argument 'early_stopping_rounds'"
     ]
    }
   ],
   "source": [
    "# Define parameter grid for XGBoost\n",
    "param_grid = {\n",
    "    'learning_rate': [0.1],\n",
    "    'max_depth': [3],\n",
    "    'n_estimators': [100],\n",
    "    'subsample': [0.8],\n",
    "    'colsample_bytree': [0.8],\n",
    "    'reg_alpha': [5, 10],\n",
    "    'reg_lambda': [5, 10]\n",
    "}\n",
    "\n",
    "# Initialize XGBoost and GridSearchCV\n",
    "xgb_model = XGBClassifier(\n",
    "    objective='multi:softmax',\n",
    "    num_class=4,\n",
    "    use_label_encoder=False,\n",
    "    eval_metric='mlogloss',\n",
    "    random_state=42,\n",
    "    tree_method='hist',\n",
    "    enable_categorical=False,\n",
    "    min_child_weight=10\n",
    ")\n",
    "\n",
    "from sklearn.model_selection import StratifiedKFold\n",
    "# Stratified K-Fold with fewer splits\n",
    "skf = StratifiedKFold(n_splits=5, shuffle=True, random_state=42)\n",
    "\n",
    "grid_search = GridSearchCV(\n",
    "    xgb_model,\n",
    "    param_grid,\n",
    "    cv=skf,\n",
    "    n_jobs=-1,\n",
    "    verbose=2,\n",
    "    return_train_score=True,\n",
    "    scoring='accuracy'\n",
    ")\n",
    "# Train model with cross-validation\n",
    "# grid_search.fit(X, y)\n",
    "grid_search.fit(X_res, y_res)\n",
    "\n",
    "# Get the best model from Grid Search\n",
    "best_model = grid_search.best_estimator_\n",
    "\n",
    "# Best parameters\n",
    "print(f\"Best Parameters: {grid_search.best_params_}\")\n",
    "\n",
    "# Train the model on the entire training dataset\n",
    "eval_set = [(X_res, y_res), (X_test, y_test)]\n",
    "history = best_model.fit(\n",
    "    X_res, y_res,\n",
    "    eval_set=eval_set,\n",
    "    early_stopping_rounds=5,\n",
    "    verbose=True\n",
    ")\n",
    "\n",
    "# Plot training and test accuracy\n",
    "eval_results = best_model.evals_result()\n",
    "train_accuracy = eval_results['validation_0']['mlogloss']\n",
    "test_accuracy = eval_results['validation_1']['mlogloss']\n",
    "\n",
    "plt.figure(figsize=(8, 6))\n",
    "plt.plot(train_accuracy, label='Train Accuracy')\n",
    "plt.plot(test_accuracy, label='Test Accuracy')\n",
    "plt.xlabel('Epochs')\n",
    "plt.ylabel('Log Loss')\n",
    "plt.title('Training vs Test Accuracy')\n",
    "plt.legend()\n",
    "# plt.savefig(Path(os.path.join(output_img_dir, \"ODM_XGB_V11_accuracy_plot.png\")))\n",
    "plt.show()"
   ]
  },
  {
   "cell_type": "markdown",
   "metadata": {},
   "source": [
    ">- evaluate model"
   ]
  },
  {
   "cell_type": "code",
   "execution_count": 10,
   "metadata": {},
   "outputs": [
    {
     "name": "stdout",
     "output_type": "stream",
     "text": [
      "Test Accuracy: 0.7246710842216461\n",
      "Test Precision: 0.7228690708814867\n",
      "Test Recall: 0.7246710842216461\n",
      "Test F1 Score: 0.723007767965122\n",
      "Classification Report:\n",
      "              precision    recall  f1-score   support\n",
      "\n",
      "           0       0.63      0.60      0.62      2037\n",
      "           1       0.70      0.65      0.68      2464\n",
      "           2       0.79      0.81      0.80      3448\n",
      "           3       0.72      0.79      0.76      2464\n",
      "\n",
      "    accuracy                           0.72     10413\n",
      "   macro avg       0.71      0.71      0.71     10413\n",
      "weighted avg       0.72      0.72      0.72     10413\n",
      "\n",
      "Best Cross-Validation Accuracy: 84.54%\n"
     ]
    },
    {
     "data": {
      "image/png": "[encoded data removed]",
      "text/plain": [
       "<Figure size 800x600 with 2 Axes>"
      ]
     },
     "metadata": {},
     "output_type": "display_data"
    }
   ],
   "source": [
    "# Evaluate the model on the test set\n",
    "y_test_pred = best_model.predict(X_test)\n",
    "test_accuracy = accuracy_score(y_test, y_test_pred)\n",
    "test_report = classification_report(y_test, y_test_pred)\n",
    "\n",
    "# Calculate additional metrics\n",
    "test_precision = precision_score(y_test, y_test_pred, average='weighted')\n",
    "test_recall = recall_score(y_test, y_test_pred, average='weighted')\n",
    "test_f1 = f1_score(y_test, y_test_pred, average='weighted')\n",
    "confusion = confusion_matrix(y_test, y_test_pred)\n",
    "\n",
    "# Log confusion matrix as an image\n",
    "plt.figure(figsize=(8, 6))\n",
    "sns.heatmap(confusion, annot=True, fmt='d', cmap='Blues')\n",
    "plt.title('Confusion Matrix')\n",
    "plt.xlabel('Predicted Label')\n",
    "plt.ylabel('True Label')\n",
    "# plt.savefig(Path(os.path.join(output_img_dir, \"ODM_XGB_V11_confusion_matrix.png\"))) # Save confusion matrix\n",
    "\n",
    "# Print results\n",
    "print(f\"Test Accuracy: {test_accuracy}\")\n",
    "print(f\"Test Precision: {test_precision}\")\n",
    "print(f\"Test Recall: {test_recall}\")\n",
    "print(f\"Test F1 Score: {test_f1}\")\n",
    "print(f\"Classification Report:\\n{test_report}\")\n",
    "\n",
    "# Save the best model to disk\n",
    "XGB_model_v12 = Path(os.path.join(output_model_dir, \"XGB_model_v12.joblib\"))\n",
    "# joblib.dump(best_model, XGB_model_v12)\n",
    "# print(f\"Saved model to: {XGB_model_v12}\")\n",
    "\n",
    "# Evaluate using cross-validation accuracy\n",
    "print(f\"Best Cross-Validation Accuracy: {grid_search.best_score_ * 100:.2f}%\")"
   ]
  },
  {
   "cell_type": "markdown",
   "metadata": {},
   "source": [
    ">- predict"
   ]
  },
  {
   "cell_type": "code",
   "execution_count": 13,
   "metadata": {},
   "outputs": [
    {
     "name": "stdout",
     "output_type": "stream",
     "text": [
      "Predicted Growth Stage: ripening\n",
      "\n"
     ]
    }
   ],
   "source": [
    "# Load the best model\n",
    "# model = joblib.load(Path(XGB_model_v12))\n",
    "model = best_model\n",
    "\n",
    "def predict_growth_stage(image_path, model):\n",
    "    features = extract_features(image_path)\n",
    "    predicted_label = model.predict([features])[0]\n",
    "    return growth_stages[predicted_label]\n",
    "\n",
    "new_image = Path('../../../../data/odm_dataset/Patches/Test/ripening/patch_268.tif')\n",
    "predicted_stage = predict_growth_stage(new_image, model)\n",
    "print(f\"Predicted Growth Stage: {predicted_stage}\")\n",
    "print()"
   ]
  },
  {
   "cell_type": "code",
   "execution_count": 14,
   "metadata": {},
   "outputs": [
    {
     "name": "stdout",
     "output_type": "stream",
     "text": [
      "Saved model to: ..\\output\\XGBoost\\model\\XGB_model_v12.joblib\n"
     ]
    }
   ],
   "source": [
    "XGB_model_v12 = Path(os.path.join(output_model_dir, \"XGB_model_v12.joblib\"))\n",
    "joblib.dump(best_model, XGB_model_v12)\n",
    "print(f\"Saved model to: {XGB_model_v12}\")"
   ]
  },
  {
   "cell_type": "code",
   "execution_count": null,
   "metadata": {},
   "outputs": [],
   "source": []
  }
 ],
 "metadata": {
  "kernelspec": {
   "display_name": "research_env",
   "language": "python",
   "name": "python3"
  },
  "language_info": {
   "codemirror_mode": {
    "name": "ipython",
    "version": 3
   },
   "file_extension": ".py",
   "mimetype": "text/x-python",
   "name": "python",
   "nbconvert_exporter": "python",
   "pygments_lexer": "ipython3",
   "version": "3.10.16"
  }
 },
 "nbformat": 4,
 "nbformat_minor": 2
}
