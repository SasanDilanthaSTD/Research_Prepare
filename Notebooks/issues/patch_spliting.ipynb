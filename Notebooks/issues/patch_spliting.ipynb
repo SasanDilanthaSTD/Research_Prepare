{
 "cells": [
  {
   "cell_type": "code",
   "execution_count": 1,
   "metadata": {},
   "outputs": [],
   "source": [
    "import os\n",
    "import shutil\n",
    "from sklearn.model_selection import train_test_split\n",
    "from pathlib import Path"
   ]
  },
  {
   "cell_type": "code",
   "execution_count": 2,
   "metadata": {},
   "outputs": [],
   "source": [
    "# Define paths\n",
    "data_dir = Path(\"../../data/odm_patches/\")\n",
    "model_data_dir_base = Path(\"../../data/odm_dataset/\")\n",
    "model_data_dir_base.mkdir(parents=True, exist_ok=True)\n",
    "\n",
    "train_dir = Path(os.path.join(model_data_dir_base, \"Patches/Train\"))\n",
    "test_dir = Path(os.path.join(model_data_dir_base, \"Patches/Test\"))\n",
    "test_size = 0.2  # 20% for testing"
   ]
  },
  {
   "cell_type": "code",
   "execution_count": 3,
   "metadata": {},
   "outputs": [
    {
     "name": "stdout",
     "output_type": "stream",
     "text": [
      "Data split and saved successfully!\n"
     ]
    }
   ],
   "source": [
    "# Ensure output directories exist\n",
    "os.makedirs(train_dir, exist_ok=True)\n",
    "os.makedirs(test_dir, exist_ok=True)\n",
    "\n",
    "# Iterate through each class folder\n",
    "for category in os.listdir(data_dir):\n",
    "    category_path = data_dir / category / \"patches\"\n",
    "    \n",
    "    if category_path.is_dir():\n",
    "        images = os.listdir(category_path)  # List all files inside \"patches\" folder\n",
    "        train_images, test_images = train_test_split(images, test_size=test_size, random_state=42)\n",
    "        \n",
    "        # Create category folders in train and test directories\n",
    "        train_category_path = train_dir / category\n",
    "        test_category_path = test_dir / category\n",
    "        os.makedirs(train_category_path, exist_ok=True)\n",
    "        os.makedirs(test_category_path, exist_ok=True)\n",
    "        \n",
    "        # Move files\n",
    "        for img in train_images:\n",
    "            shutil.copy(category_path / img, train_category_path / img)\n",
    "        for img in test_images:\n",
    "            shutil.copy(category_path / img, test_category_path / img)\n",
    "\n",
    "print(\"Data split and saved successfully!\")"
   ]
  },
  {
   "cell_type": "code",
   "execution_count": null,
   "metadata": {},
   "outputs": [],
   "source": []
  }
 ],
 "metadata": {
  "kernelspec": {
   "display_name": "research_env",
   "language": "python",
   "name": "python3"
  },
  "language_info": {
   "codemirror_mode": {
    "name": "ipython",
    "version": 3
   },
   "file_extension": ".py",
   "mimetype": "text/x-python",
   "name": "python",
   "nbconvert_exporter": "python",
   "pygments_lexer": "ipython3",
   "version": "3.10.16"
  }
 },
 "nbformat": 4,
 "nbformat_minor": 2
}
