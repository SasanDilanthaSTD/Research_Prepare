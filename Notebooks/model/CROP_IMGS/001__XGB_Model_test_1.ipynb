{
 "cells": [
  {
   "cell_type": "markdown",
   "metadata": {},
   "source": [
    "### Import packeges"
   ]
  },
  {
   "cell_type": "code",
   "execution_count": 15,
   "metadata": {},
   "outputs": [],
   "source": [
    "import os\n",
    "import numpy as np\n",
    "import matplotlib.pyplot as plt\n",
    "import seaborn as sns\n",
    "import rasterio\n",
    "import time\n",
    "from sklearn.model_selection import train_test_split, KFold, GridSearchCV\n",
    "from xgboost import XGBClassifier\n",
    "from sklearn.metrics import accuracy_score, classification_report, f1_score, precision_score, recall_score, confusion_matrix\n",
    "import joblib \n",
    "from pathlib import Path\n",
    "import xgboost as xgb\n"
   ]
  },
  {
   "cell_type": "code",
   "execution_count": 6,
   "metadata": {},
   "outputs": [],
   "source": [
    "# Define functions to calculate NDVI and NDWI\n",
    "def calculate_ndvi(nir, red):\n",
    "    return (nir - red) / (nir + red + 1e-10)\n",
    "\n",
    "def calculate_ndwi(nir, swir):\n",
    "    return (nir - swir) / (nir + swir + 1e-10)\n",
    "\n",
    "# Function to extract mean NDVI & NDWI as features\n",
    "def extract_features(image_path):\n",
    "    with rasterio.open(image_path) as src:\n",
    "        bands = src.read()\n",
    "        nir, red, swir = bands[3], bands[2], bands[4]  # Adjust based on band order\n",
    "        \n",
    "        ndvi = calculate_ndvi(nir, red)\n",
    "        ndwi = calculate_ndwi(nir, swir)\n",
    "\n",
    "        return [np.mean(ndvi), np.mean(ndwi)]  # Use mean as feature"
   ]
  },
  {
   "cell_type": "code",
   "execution_count": 7,
   "metadata": {},
   "outputs": [],
   "source": [
    "# Load dataset efficiently\n",
    "train_dataset_path = Path('../../../data/model/Patches/Train/')\n",
    "test_dataset_path = Path('../../../data/model/Patches/Test/')\n",
    "growth_stages = [\"germination\", \"tillering\", \"grand_growth\", \"ripening\"]\n",
    "X, X_test, y, y_test = [], [], [], []\n",
    "\n",
    "for idx, stage in enumerate(growth_stages):\n",
    "    stage_path = train_dataset_path / stage\n",
    "    for img_file in os.listdir(stage_path):\n",
    "        img_path = stage_path / img_file\n",
    "        X.append(extract_features(img_path))\n",
    "        y.append(idx)\n",
    "\n",
    "X = np.array(X)\n",
    "y = np.array(y)\n",
    "\n",
    "for idx, stage in enumerate(growth_stages):\n",
    "    stage_path = test_dataset_path / stage\n",
    "    for img_file in os.listdir(stage_path):\n",
    "        img_path = stage_path / img_file\n",
    "        X_test.append(extract_features(img_path))\n",
    "        y_test.append(idx)\n",
    "\n",
    "X_test = np.array(X_test)\n",
    "y_test = np.array(y_test)"
   ]
  },
  {
   "cell_type": "markdown",
   "metadata": {},
   "source": [
    "#### Apply k-Fold Cross-Validation and GridSearchCV"
   ]
  },
  {
   "cell_type": "code",
   "execution_count": 17,
   "metadata": {},
   "outputs": [
    {
     "name": "stdout",
     "output_type": "stream",
     "text": [
      "Fitting 5 folds for each of 108 candidates, totalling 540 fits\n",
      "Best Parameters: {'colsample_bytree': 1.0, 'learning_rate': 0.01, 'max_depth': 3, 'n_estimators': 50, 'subsample': 1.0}\n",
      "[0]\tvalidation_0-mlogloss:1.38629\tvalidation_1-mlogloss:1.38629\n",
      "[1]\tvalidation_0-mlogloss:1.38629\tvalidation_1-mlogloss:1.38629\n",
      "[2]\tvalidation_0-mlogloss:1.38629\tvalidation_1-mlogloss:1.38629\n",
      "[3]\tvalidation_0-mlogloss:1.38629\tvalidation_1-mlogloss:1.38629\n",
      "[4]\tvalidation_0-mlogloss:1.38629\tvalidation_1-mlogloss:1.38629\n",
      "[5]\tvalidation_0-mlogloss:1.38629\tvalidation_1-mlogloss:1.38629\n",
      "[6]\tvalidation_0-mlogloss:1.38629\tvalidation_1-mlogloss:1.38629\n",
      "[7]\tvalidation_0-mlogloss:1.38629\tvalidation_1-mlogloss:1.38629\n",
      "[8]\tvalidation_0-mlogloss:1.38629\tvalidation_1-mlogloss:1.38629\n"
     ]
    },
    {
     "name": "stderr",
     "output_type": "stream",
     "text": [
      "c:\\Users\\user\\anaconda3\\envs\\research_env\\lib\\site-packages\\xgboost\\core.py:158: UserWarning: [00:01:01] WARNING: C:\\buildkite-agent\\builds\\buildkite-windows-cpu-autoscaling-group-i-08cbc0333d8d4aae1-1\\xgboost\\xgboost-ci-windows\\src\\learner.cc:740: \n",
      "Parameters: { \"use_label_encoder\" } are not used.\n",
      "\n",
      "  warnings.warn(smsg, UserWarning)\n"
     ]
    },
    {
     "name": "stdout",
     "output_type": "stream",
     "text": [
      "[9]\tvalidation_0-mlogloss:1.38629\tvalidation_1-mlogloss:1.38629\n",
      "[10]\tvalidation_0-mlogloss:1.38629\tvalidation_1-mlogloss:1.38629\n",
      "[11]\tvalidation_0-mlogloss:1.38629\tvalidation_1-mlogloss:1.38629\n",
      "[12]\tvalidation_0-mlogloss:1.38629\tvalidation_1-mlogloss:1.38629\n",
      "[13]\tvalidation_0-mlogloss:1.38629\tvalidation_1-mlogloss:1.38629\n",
      "[14]\tvalidation_0-mlogloss:1.38629\tvalidation_1-mlogloss:1.38629\n",
      "[15]\tvalidation_0-mlogloss:1.38629\tvalidation_1-mlogloss:1.38629\n",
      "[16]\tvalidation_0-mlogloss:1.38629\tvalidation_1-mlogloss:1.38629\n",
      "[17]\tvalidation_0-mlogloss:1.38629\tvalidation_1-mlogloss:1.38629\n",
      "[18]\tvalidation_0-mlogloss:1.38629\tvalidation_1-mlogloss:1.38629\n",
      "[19]\tvalidation_0-mlogloss:1.38629\tvalidation_1-mlogloss:1.38629\n",
      "[20]\tvalidation_0-mlogloss:1.38629\tvalidation_1-mlogloss:1.38629\n",
      "[21]\tvalidation_0-mlogloss:1.38629\tvalidation_1-mlogloss:1.38629\n",
      "[22]\tvalidation_0-mlogloss:1.38629\tvalidation_1-mlogloss:1.38629\n",
      "[23]\tvalidation_0-mlogloss:1.38629\tvalidation_1-mlogloss:1.38629\n",
      "[24]\tvalidation_0-mlogloss:1.38629\tvalidation_1-mlogloss:1.38629\n",
      "[25]\tvalidation_0-mlogloss:1.38629\tvalidation_1-mlogloss:1.38629\n",
      "[26]\tvalidation_0-mlogloss:1.38629\tvalidation_1-mlogloss:1.38629\n",
      "[27]\tvalidation_0-mlogloss:1.38629\tvalidation_1-mlogloss:1.38629\n",
      "[28]\tvalidation_0-mlogloss:1.38629\tvalidation_1-mlogloss:1.38629\n",
      "[29]\tvalidation_0-mlogloss:1.38629\tvalidation_1-mlogloss:1.38629\n",
      "[30]\tvalidation_0-mlogloss:1.38629\tvalidation_1-mlogloss:1.38629\n",
      "[31]\tvalidation_0-mlogloss:1.38629\tvalidation_1-mlogloss:1.38629\n",
      "[32]\tvalidation_0-mlogloss:1.38629\tvalidation_1-mlogloss:1.38629\n",
      "[33]\tvalidation_0-mlogloss:1.38629\tvalidation_1-mlogloss:1.38629\n",
      "[34]\tvalidation_0-mlogloss:1.38629\tvalidation_1-mlogloss:1.38629\n",
      "[35]\tvalidation_0-mlogloss:1.38629\tvalidation_1-mlogloss:1.38629\n",
      "[36]\tvalidation_0-mlogloss:1.38629\tvalidation_1-mlogloss:1.38629\n",
      "[37]\tvalidation_0-mlogloss:1.38629\tvalidation_1-mlogloss:1.38629\n",
      "[38]\tvalidation_0-mlogloss:1.38629\tvalidation_1-mlogloss:1.38629\n",
      "[39]\tvalidation_0-mlogloss:1.38629\tvalidation_1-mlogloss:1.38629\n",
      "[40]\tvalidation_0-mlogloss:1.38629\tvalidation_1-mlogloss:1.38629\n",
      "[41]\tvalidation_0-mlogloss:1.38629\tvalidation_1-mlogloss:1.38629\n",
      "[42]\tvalidation_0-mlogloss:1.38629\tvalidation_1-mlogloss:1.38629\n",
      "[43]\tvalidation_0-mlogloss:1.38629\tvalidation_1-mlogloss:1.38629\n",
      "[44]\tvalidation_0-mlogloss:1.38629\tvalidation_1-mlogloss:1.38629\n",
      "[45]\tvalidation_0-mlogloss:1.38629\tvalidation_1-mlogloss:1.38629\n",
      "[46]\tvalidation_0-mlogloss:1.38629\tvalidation_1-mlogloss:1.38629\n",
      "[47]\tvalidation_0-mlogloss:1.38629\tvalidation_1-mlogloss:1.38629\n",
      "[48]\tvalidation_0-mlogloss:1.38629\tvalidation_1-mlogloss:1.38629\n",
      "[49]\tvalidation_0-mlogloss:1.38629\tvalidation_1-mlogloss:1.38629\n"
     ]
    },
    {
     "data": {
      "image/png": "[encoded data removed]",
      "text/plain": [
       "<Figure size 800x600 with 1 Axes>"
      ]
     },
     "metadata": {},
     "output_type": "display_data"
    }
   ],
   "source": [
    "# Define parameter grid for XGBoost\n",
    "param_grid = {\n",
    "    \"n_estimators\": [50, 100, 200],\n",
    "    \"max_depth\": [3, 6, 10],\n",
    "    \"learning_rate\": [0.01, 0.1, 0.2],\n",
    "    \"subsample\": [0.8, 1.0],\n",
    "    \"colsample_bytree\": [0.8, 1.0]\n",
    "}\n",
    "\n",
    "# Initialize XGBoost and GridSearchCV\n",
    "xgb_model = XGBClassifier(use_label_encoder=False, eval_metric='mlogloss', random_state=42)\n",
    "kf = KFold(n_splits=5, shuffle=True, random_state=42)\n",
    "\n",
    "grid_search = GridSearchCV(xgb_model, param_grid, cv=kf, n_jobs=-1, verbose=2, return_train_score=True)\n",
    "\n",
    "# Train model with cross-validation\n",
    "grid_search.fit(X, y)\n",
    "\n",
    "# Get the best model from Grid Search\n",
    "best_model = grid_search.best_estimator_\n",
    "\n",
    "# Best parameters\n",
    "print(f\"Best Parameters: {grid_search.best_params_}\")\n",
    "\n",
    "# Train the model on the entire training dataset\n",
    "history = best_model.fit(X, y, eval_set=[(X, y), (X_test, y_test)], verbose=True)\n",
    "\n",
    "# Plot training and test accuracy\n",
    "eval_results = best_model.evals_result()\n",
    "train_accuracy = eval_results['validation_0']['mlogloss']\n",
    "test_accuracy = eval_results['validation_1']['mlogloss']\n",
    "\n",
    "plt.figure(figsize=(8, 6))\n",
    "plt.plot(train_accuracy, label='Train Accuracy')\n",
    "plt.plot(test_accuracy, label='Test Accuracy')\n",
    "plt.xlabel('Epochs')\n",
    "plt.ylabel('Log Loss')\n",
    "plt.title('Training vs Test Accuracy')\n",
    "plt.legend()\n",
    "plt.savefig(Path(\"../../../logs/IMG/NEW/XGB_V1_accuracy_plot.png\"))\n",
    "plt.show()"
   ]
  },
  {
   "cell_type": "markdown",
   "metadata": {},
   "source": [
    "#### Evaluate Model"
   ]
  },
  {
   "cell_type": "code",
   "execution_count": 19,
   "metadata": {},
   "outputs": [
    {
     "name": "stderr",
     "output_type": "stream",
     "text": [
      "c:\\Users\\user\\anaconda3\\envs\\research_env\\lib\\site-packages\\sklearn\\metrics\\_classification.py:1565: UndefinedMetricWarning: Precision is ill-defined and being set to 0.0 in labels with no predicted samples. Use `zero_division` parameter to control this behavior.\n",
      "  _warn_prf(average, modifier, f\"{metric.capitalize()} is\", len(result))\n",
      "c:\\Users\\user\\anaconda3\\envs\\research_env\\lib\\site-packages\\sklearn\\metrics\\_classification.py:1565: UndefinedMetricWarning: Precision is ill-defined and being set to 0.0 in labels with no predicted samples. Use `zero_division` parameter to control this behavior.\n",
      "  _warn_prf(average, modifier, f\"{metric.capitalize()} is\", len(result))\n",
      "c:\\Users\\user\\anaconda3\\envs\\research_env\\lib\\site-packages\\sklearn\\metrics\\_classification.py:1565: UndefinedMetricWarning: Precision is ill-defined and being set to 0.0 in labels with no predicted samples. Use `zero_division` parameter to control this behavior.\n",
      "  _warn_prf(average, modifier, f\"{metric.capitalize()} is\", len(result))\n",
      "c:\\Users\\user\\anaconda3\\envs\\research_env\\lib\\site-packages\\sklearn\\metrics\\_classification.py:1565: UndefinedMetricWarning: Precision is ill-defined and being set to 0.0 in labels with no predicted samples. Use `zero_division` parameter to control this behavior.\n",
      "  _warn_prf(average, modifier, f\"{metric.capitalize()} is\", len(result))\n"
     ]
    },
    {
     "name": "stdout",
     "output_type": "stream",
     "text": [
      "Test Accuracy: 0.25\n",
      "Test Precision: 0.0625\n",
      "Test Recall: 0.25\n",
      "Test F1 Score: 0.1\n",
      "Classification Report:\n",
      "              precision    recall  f1-score   support\n",
      "\n",
      "           0       0.25      1.00      0.40      2071\n",
      "           1       0.00      0.00      0.00      2071\n",
      "           2       0.00      0.00      0.00      2071\n",
      "           3       0.00      0.00      0.00      2071\n",
      "\n",
      "    accuracy                           0.25      8284\n",
      "   macro avg       0.06      0.25      0.10      8284\n",
      "weighted avg       0.06      0.25      0.10      8284\n",
      "\n",
      "Saved model to: ..\\..\\..\\models\\Map\\xgb_model_v1.joblib\n",
      "Best Cross-Validation Accuracy: 21.71%\n"
     ]
    },
    {
     "data": {
      "image/png": "[encoded data removed]",
      "text/plain": [
       "<Figure size 800x600 with 2 Axes>"
      ]
     },
     "metadata": {},
     "output_type": "display_data"
    }
   ],
   "source": [
    "# Evaluate the model on the test set\n",
    "y_test_pred = best_model.predict(X_test)\n",
    "test_accuracy = accuracy_score(y_test, y_test_pred)\n",
    "test_report = classification_report(y_test, y_test_pred)\n",
    "\n",
    "# Calculate additional metrics\n",
    "test_precision = precision_score(y_test, y_test_pred, average='weighted')\n",
    "test_recall = recall_score(y_test, y_test_pred, average='weighted')\n",
    "test_f1 = f1_score(y_test, y_test_pred, average='weighted')\n",
    "confusion = confusion_matrix(y_test, y_test_pred)\n",
    "\n",
    "# Log confusion matrix as an image\n",
    "plt.figure(figsize=(8, 6))\n",
    "sns.heatmap(confusion, annot=True, fmt='d', cmap='Blues')\n",
    "plt.title('Confusion Matrix')\n",
    "plt.xlabel('Predicted Label')\n",
    "plt.ylabel('True Label')\n",
    "plt.savefig(Path(\"../../../logs/IMG/XGB_V1_confusion_matrix.png\")) # Save confusion matrix\n",
    "\n",
    "# Print results\n",
    "print(f\"Test Accuracy: {test_accuracy}\")\n",
    "print(f\"Test Precision: {test_precision}\")\n",
    "print(f\"Test Recall: {test_recall}\")\n",
    "print(f\"Test F1 Score: {test_f1}\")\n",
    "print(f\"Classification Report:\\n{test_report}\")\n",
    "\n",
    "# Save the best model to disk\n",
    "xgb_model_v1 = Path(\"../../../models/Map/xgb_model_v1.joblib\")\n",
    "joblib.dump(best_model, xgb_model_v1)\n",
    "print(f\"Saved model to: {xgb_model_v1}\")\n",
    "\n",
    "# Evaluate using cross-validation accuracy\n",
    "print(f\"Best Cross-Validation Accuracy: {grid_search.best_score_ * 100:.2f}%\")"
   ]
  },
  {
   "cell_type": "markdown",
   "metadata": {},
   "source": [
    "#### Predict New Images"
   ]
  },
  {
   "cell_type": "code",
   "execution_count": 20,
   "metadata": {},
   "outputs": [
    {
     "name": "stdout",
     "output_type": "stream",
     "text": [
      "Predicted Growth Stage: germination\n"
     ]
    },
    {
     "name": "stderr",
     "output_type": "stream",
     "text": [
      "c:\\Users\\user\\anaconda3\\envs\\research_env\\lib\\site-packages\\rasterio\\__init__.py:368: NotGeoreferencedWarning: Dataset has no geotransform, gcps, or rpcs. The identity matrix will be returned.\n",
      "  dataset = DatasetReader(path, driver=driver, sharing=sharing, **kwargs)\n"
     ]
    }
   ],
   "source": [
    "# Load the best model\n",
    "model = joblib.load(xgb_model_v1)\n",
    "\n",
    "def predict_growth_stage(image_path, model):\n",
    "    features = extract_features(image_path)\n",
    "    predicted_label = model.predict([features])[0]\n",
    "    return growth_stages[predicted_label]\n",
    "\n",
    "new_image = Path('../../../data/model/Test/ripening/ripening_100FPLAN_31.tif')\n",
    "predicted_stage = predict_growth_stage(new_image, model)\n",
    "print(f\"Predicted Growth Stage: {predicted_stage}\")"
   ]
  },
  {
   "cell_type": "code",
   "execution_count": null,
   "metadata": {},
   "outputs": [],
   "source": []
  }
 ],
 "metadata": {
  "kernelspec": {
   "display_name": "research_env",
   "language": "python",
   "name": "python3"
  },
  "language_info": {
   "codemirror_mode": {
    "name": "ipython",
    "version": 3
   },
   "file_extension": ".py",
   "mimetype": "text/x-python",
   "name": "python",
   "nbconvert_exporter": "python",
   "pygments_lexer": "ipython3",
   "version": "3.10.16"
  }
 },
 "nbformat": 4,
 "nbformat_minor": 2
}
