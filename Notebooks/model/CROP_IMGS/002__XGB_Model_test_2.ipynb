{
 "cells": [
  {
   "cell_type": "markdown",
   "metadata": {},
   "source": [
    "### Import packeges"
   ]
  },
  {
   "cell_type": "code",
   "execution_count": 4,
   "metadata": {},
   "outputs": [],
   "source": [
    "import os\n",
    "import numpy as np\n",
    "import matplotlib.pyplot as plt\n",
    "import seaborn as sns\n",
    "import rasterio\n",
    "import time\n",
    "from sklearn.model_selection import train_test_split, KFold, GridSearchCV\n",
    "from xgboost import XGBClassifier\n",
    "from sklearn.metrics import accuracy_score, classification_report, f1_score, precision_score, recall_score, confusion_matrix\n",
    "import joblib \n",
    "from pathlib import Path\n",
    "import xgboost as xgb\n"
   ]
  },
  {
   "cell_type": "code",
   "execution_count": 5,
   "metadata": {},
   "outputs": [],
   "source": [
    "# Define functions to calculate NDVI and NDWI\n",
    "def calculate_ndvi(nir, red):\n",
    "    return (nir - red) / (nir + red + 1e-10)\n",
    "\n",
    "def calculate_ndwi(nir, swir):\n",
    "    return (nir - swir) / (nir + swir + 1e-10)\n",
    "\n",
    "# Function to extract mean NDVI & NDWI as features\n",
    "def extract_features(image_path):\n",
    "    with rasterio.open(image_path) as src:\n",
    "        bands = src.read()\n",
    "        nir, red, swir = bands[3], bands[2], bands[4]  # Adjust based on band order\n",
    "        \n",
    "        ndvi = calculate_ndvi(nir, red)\n",
    "        ndwi = calculate_ndwi(nir, swir)\n",
    "\n",
    "        return [np.mean(ndvi), np.mean(ndwi)]  # Use mean as feature"
   ]
  },
  {
   "cell_type": "code",
   "execution_count": 6,
   "metadata": {},
   "outputs": [],
   "source": [
    "# Load dataset efficiently\n",
    "train_dataset_path = Path('../../../data/model/Patches/Train/')\n",
    "test_dataset_path = Path('../../../data/model/Patches/Test/')\n",
    "growth_stages = [\"germination\", \"tillering\", \"grand_growth\", \"ripening\"]\n",
    "X, X_test, y, y_test = [], [], [], []\n",
    "\n",
    "for idx, stage in enumerate(growth_stages):\n",
    "    stage_path = train_dataset_path / stage\n",
    "    for img_file in os.listdir(stage_path):\n",
    "        img_path = stage_path / img_file\n",
    "        X.append(extract_features(img_path))\n",
    "        y.append(idx)\n",
    "\n",
    "X = np.array(X)\n",
    "y = np.array(y)\n",
    "\n",
    "for idx, stage in enumerate(growth_stages):\n",
    "    stage_path = test_dataset_path / stage\n",
    "    for img_file in os.listdir(stage_path):\n",
    "        img_path = stage_path / img_file\n",
    "        X_test.append(extract_features(img_path))\n",
    "        y_test.append(idx)\n",
    "\n",
    "X_test = np.array(X_test)\n",
    "y_test = np.array(y_test)"
   ]
  },
  {
   "cell_type": "markdown",
   "metadata": {},
   "source": [
    "#### Apply k-Fold Cross-Validation and GridSearchCV"
   ]
  },
  {
   "cell_type": "code",
   "execution_count": 7,
   "metadata": {},
   "outputs": [
    {
     "name": "stdout",
     "output_type": "stream",
     "text": [
      "Fitting 5 folds for each of 108 candidates, totalling 540 fits\n"
     ]
    },
    {
     "name": "stderr",
     "output_type": "stream",
     "text": [
      "c:\\Users\\user\\anaconda3\\envs\\research_env\\lib\\site-packages\\xgboost\\core.py:158: UserWarning: [01:52:31] WARNING: C:\\buildkite-agent\\builds\\buildkite-windows-cpu-autoscaling-group-i-08cbc0333d8d4aae1-1\\xgboost\\xgboost-ci-windows\\src\\learner.cc:740: \n",
      "Parameters: { \"use_label_encoder\" } are not used.\n",
      "\n",
      "  warnings.warn(smsg, UserWarning)\n"
     ]
    },
    {
     "name": "stdout",
     "output_type": "stream",
     "text": [
      "Best Parameters: {'colsample_bytree': 1.0, 'learning_rate': 0.2, 'max_depth': 3, 'n_estimators': 100, 'subsample': 0.8}\n",
      "[0]\tvalidation_0-mlogloss:1.13297\tvalidation_1-mlogloss:1.13374\n",
      "[1]\tvalidation_0-mlogloss:0.96280\tvalidation_1-mlogloss:0.96350\n",
      "[2]\tvalidation_0-mlogloss:0.84034\tvalidation_1-mlogloss:0.84078\n",
      "[3]\tvalidation_0-mlogloss:0.74779\tvalidation_1-mlogloss:0.74862\n",
      "[4]\tvalidation_0-mlogloss:0.67529\tvalidation_1-mlogloss:0.67609\n",
      "[5]\tvalidation_0-mlogloss:0.61951\tvalidation_1-mlogloss:0.62042\n",
      "[6]\tvalidation_0-mlogloss:0.57535\tvalidation_1-mlogloss:0.57583\n",
      "[7]\tvalidation_0-mlogloss:0.53870\tvalidation_1-mlogloss:0.53853\n",
      "[8]\tvalidation_0-mlogloss:0.50870\tvalidation_1-mlogloss:0.50771\n",
      "[9]\tvalidation_0-mlogloss:0.48466\tvalidation_1-mlogloss:0.48329\n",
      "[10]\tvalidation_0-mlogloss:0.46542\tvalidation_1-mlogloss:0.46383\n",
      "[11]\tvalidation_0-mlogloss:0.44950\tvalidation_1-mlogloss:0.44768\n",
      "[12]\tvalidation_0-mlogloss:0.43481\tvalidation_1-mlogloss:0.43261\n",
      "[13]\tvalidation_0-mlogloss:0.42323\tvalidation_1-mlogloss:0.42067\n",
      "[14]\tvalidation_0-mlogloss:0.41337\tvalidation_1-mlogloss:0.41073\n",
      "[15]\tvalidation_0-mlogloss:0.40503\tvalidation_1-mlogloss:0.40231\n",
      "[16]\tvalidation_0-mlogloss:0.39780\tvalidation_1-mlogloss:0.39505\n",
      "[17]\tvalidation_0-mlogloss:0.39169\tvalidation_1-mlogloss:0.38886\n",
      "[18]\tvalidation_0-mlogloss:0.38656\tvalidation_1-mlogloss:0.38357\n",
      "[19]\tvalidation_0-mlogloss:0.38170\tvalidation_1-mlogloss:0.37846\n",
      "[20]\tvalidation_0-mlogloss:0.37761\tvalidation_1-mlogloss:0.37445\n",
      "[21]\tvalidation_0-mlogloss:0.37402\tvalidation_1-mlogloss:0.37101\n",
      "[22]\tvalidation_0-mlogloss:0.37051\tvalidation_1-mlogloss:0.36742\n",
      "[23]\tvalidation_0-mlogloss:0.36776\tvalidation_1-mlogloss:0.36465\n",
      "[24]\tvalidation_0-mlogloss:0.36497\tvalidation_1-mlogloss:0.36182\n",
      "[25]\tvalidation_0-mlogloss:0.36284\tvalidation_1-mlogloss:0.35970\n"
     ]
    },
    {
     "name": "stderr",
     "output_type": "stream",
     "text": [
      "c:\\Users\\user\\anaconda3\\envs\\research_env\\lib\\site-packages\\xgboost\\core.py:158: UserWarning: [01:52:32] WARNING: C:\\buildkite-agent\\builds\\buildkite-windows-cpu-autoscaling-group-i-08cbc0333d8d4aae1-1\\xgboost\\xgboost-ci-windows\\src\\learner.cc:740: \n",
      "Parameters: { \"use_label_encoder\" } are not used.\n",
      "\n",
      "  warnings.warn(smsg, UserWarning)\n"
     ]
    },
    {
     "name": "stdout",
     "output_type": "stream",
     "text": [
      "[26]\tvalidation_0-mlogloss:0.36059\tvalidation_1-mlogloss:0.35750\n",
      "[27]\tvalidation_0-mlogloss:0.35827\tvalidation_1-mlogloss:0.35537\n",
      "[28]\tvalidation_0-mlogloss:0.35688\tvalidation_1-mlogloss:0.35406\n",
      "[29]\tvalidation_0-mlogloss:0.35488\tvalidation_1-mlogloss:0.35190\n",
      "[30]\tvalidation_0-mlogloss:0.35325\tvalidation_1-mlogloss:0.35035\n",
      "[31]\tvalidation_0-mlogloss:0.35165\tvalidation_1-mlogloss:0.34898\n",
      "[32]\tvalidation_0-mlogloss:0.35054\tvalidation_1-mlogloss:0.34804\n",
      "[33]\tvalidation_0-mlogloss:0.34949\tvalidation_1-mlogloss:0.34702\n",
      "[34]\tvalidation_0-mlogloss:0.34856\tvalidation_1-mlogloss:0.34597\n",
      "[35]\tvalidation_0-mlogloss:0.34774\tvalidation_1-mlogloss:0.34514\n",
      "[36]\tvalidation_0-mlogloss:0.34677\tvalidation_1-mlogloss:0.34436\n",
      "[37]\tvalidation_0-mlogloss:0.34598\tvalidation_1-mlogloss:0.34360\n",
      "[38]\tvalidation_0-mlogloss:0.34525\tvalidation_1-mlogloss:0.34285\n",
      "[39]\tvalidation_0-mlogloss:0.34445\tvalidation_1-mlogloss:0.34225\n",
      "[40]\tvalidation_0-mlogloss:0.34391\tvalidation_1-mlogloss:0.34168\n",
      "[41]\tvalidation_0-mlogloss:0.34282\tvalidation_1-mlogloss:0.34060\n",
      "[42]\tvalidation_0-mlogloss:0.34229\tvalidation_1-mlogloss:0.34034\n",
      "[43]\tvalidation_0-mlogloss:0.34179\tvalidation_1-mlogloss:0.33994\n",
      "[44]\tvalidation_0-mlogloss:0.34121\tvalidation_1-mlogloss:0.33948\n",
      "[45]\tvalidation_0-mlogloss:0.34087\tvalidation_1-mlogloss:0.33928\n",
      "[46]\tvalidation_0-mlogloss:0.34039\tvalidation_1-mlogloss:0.33882\n",
      "[47]\tvalidation_0-mlogloss:0.34000\tvalidation_1-mlogloss:0.33859\n",
      "[48]\tvalidation_0-mlogloss:0.33975\tvalidation_1-mlogloss:0.33823\n",
      "[49]\tvalidation_0-mlogloss:0.33918\tvalidation_1-mlogloss:0.33783\n",
      "[50]\tvalidation_0-mlogloss:0.33886\tvalidation_1-mlogloss:0.33774\n",
      "[51]\tvalidation_0-mlogloss:0.33838\tvalidation_1-mlogloss:0.33755\n",
      "[52]\tvalidation_0-mlogloss:0.33812\tvalidation_1-mlogloss:0.33728\n",
      "[53]\tvalidation_0-mlogloss:0.33764\tvalidation_1-mlogloss:0.33704\n",
      "[54]\tvalidation_0-mlogloss:0.33707\tvalidation_1-mlogloss:0.33635\n",
      "[55]\tvalidation_0-mlogloss:0.33677\tvalidation_1-mlogloss:0.33621\n",
      "[56]\tvalidation_0-mlogloss:0.33652\tvalidation_1-mlogloss:0.33597\n",
      "[57]\tvalidation_0-mlogloss:0.33613\tvalidation_1-mlogloss:0.33578\n",
      "[58]\tvalidation_0-mlogloss:0.33584\tvalidation_1-mlogloss:0.33567\n",
      "[59]\tvalidation_0-mlogloss:0.33540\tvalidation_1-mlogloss:0.33534\n",
      "[60]\tvalidation_0-mlogloss:0.33500\tvalidation_1-mlogloss:0.33503\n",
      "[61]\tvalidation_0-mlogloss:0.33480\tvalidation_1-mlogloss:0.33483\n",
      "[62]\tvalidation_0-mlogloss:0.33452\tvalidation_1-mlogloss:0.33484\n",
      "[63]\tvalidation_0-mlogloss:0.33410\tvalidation_1-mlogloss:0.33489\n",
      "[64]\tvalidation_0-mlogloss:0.33376\tvalidation_1-mlogloss:0.33481\n",
      "[65]\tvalidation_0-mlogloss:0.33330\tvalidation_1-mlogloss:0.33450\n",
      "[66]\tvalidation_0-mlogloss:0.33293\tvalidation_1-mlogloss:0.33457\n",
      "[67]\tvalidation_0-mlogloss:0.33266\tvalidation_1-mlogloss:0.33442\n",
      "[68]\tvalidation_0-mlogloss:0.33236\tvalidation_1-mlogloss:0.33439\n",
      "[69]\tvalidation_0-mlogloss:0.33209\tvalidation_1-mlogloss:0.33414\n",
      "[70]\tvalidation_0-mlogloss:0.33184\tvalidation_1-mlogloss:0.33425\n",
      "[71]\tvalidation_0-mlogloss:0.33157\tvalidation_1-mlogloss:0.33405\n",
      "[72]\tvalidation_0-mlogloss:0.33128\tvalidation_1-mlogloss:0.33391\n",
      "[73]\tvalidation_0-mlogloss:0.33105\tvalidation_1-mlogloss:0.33401\n",
      "[74]\tvalidation_0-mlogloss:0.33069\tvalidation_1-mlogloss:0.33382\n",
      "[75]\tvalidation_0-mlogloss:0.33038\tvalidation_1-mlogloss:0.33388\n",
      "[76]\tvalidation_0-mlogloss:0.32999\tvalidation_1-mlogloss:0.33387\n",
      "[77]\tvalidation_0-mlogloss:0.32985\tvalidation_1-mlogloss:0.33405\n",
      "[78]\tvalidation_0-mlogloss:0.32955\tvalidation_1-mlogloss:0.33390\n",
      "[79]\tvalidation_0-mlogloss:0.32932\tvalidation_1-mlogloss:0.33376\n",
      "[80]\tvalidation_0-mlogloss:0.32907\tvalidation_1-mlogloss:0.33346\n",
      "[81]\tvalidation_0-mlogloss:0.32884\tvalidation_1-mlogloss:0.33329\n",
      "[82]\tvalidation_0-mlogloss:0.32853\tvalidation_1-mlogloss:0.33306\n",
      "[83]\tvalidation_0-mlogloss:0.32827\tvalidation_1-mlogloss:0.33302\n",
      "[84]\tvalidation_0-mlogloss:0.32810\tvalidation_1-mlogloss:0.33320\n",
      "[85]\tvalidation_0-mlogloss:0.32787\tvalidation_1-mlogloss:0.33315\n",
      "[86]\tvalidation_0-mlogloss:0.32767\tvalidation_1-mlogloss:0.33322\n",
      "[87]\tvalidation_0-mlogloss:0.32745\tvalidation_1-mlogloss:0.33321\n",
      "[88]\tvalidation_0-mlogloss:0.32721\tvalidation_1-mlogloss:0.33324\n",
      "[89]\tvalidation_0-mlogloss:0.32694\tvalidation_1-mlogloss:0.33338\n",
      "[90]\tvalidation_0-mlogloss:0.32668\tvalidation_1-mlogloss:0.33334\n",
      "[91]\tvalidation_0-mlogloss:0.32634\tvalidation_1-mlogloss:0.33338\n",
      "[92]\tvalidation_0-mlogloss:0.32612\tvalidation_1-mlogloss:0.33354\n",
      "[93]\tvalidation_0-mlogloss:0.32593\tvalidation_1-mlogloss:0.33353\n",
      "[94]\tvalidation_0-mlogloss:0.32577\tvalidation_1-mlogloss:0.33346\n",
      "[95]\tvalidation_0-mlogloss:0.32557\tvalidation_1-mlogloss:0.33336\n",
      "[96]\tvalidation_0-mlogloss:0.32537\tvalidation_1-mlogloss:0.33354\n",
      "[97]\tvalidation_0-mlogloss:0.32511\tvalidation_1-mlogloss:0.33360\n",
      "[98]\tvalidation_0-mlogloss:0.32486\tvalidation_1-mlogloss:0.33361\n",
      "[99]\tvalidation_0-mlogloss:0.32464\tvalidation_1-mlogloss:0.33356\n"
     ]
    },
    {
     "data": {
      "image/png": "[encoded data removed]",
      "text/plain": [
       "<Figure size 800x600 with 1 Axes>"
      ]
     },
     "metadata": {},
     "output_type": "display_data"
    }
   ],
   "source": [
    "# Define parameter grid for XGBoost\n",
    "param_grid = {\n",
    "    \"n_estimators\": [50, 100, 200],\n",
    "    \"max_depth\": [3, 6, 10],\n",
    "    \"learning_rate\": [0.01, 0.1, 0.2],\n",
    "    \"subsample\": [0.8, 1.0],\n",
    "    \"colsample_bytree\": [0.8, 1.0]\n",
    "}\n",
    "\n",
    "# Initialize XGBoost and GridSearchCV\n",
    "xgb_model = XGBClassifier(use_label_encoder=False, eval_metric='mlogloss', random_state=42)\n",
    "kf = KFold(n_splits=5, shuffle=True, random_state=42)\n",
    "\n",
    "grid_search = GridSearchCV(xgb_model, param_grid, cv=kf, n_jobs=-1, verbose=2, return_train_score=True)\n",
    "\n",
    "# Train model with cross-validation\n",
    "grid_search.fit(X, y)\n",
    "\n",
    "# Get the best model from Grid Search\n",
    "best_model = grid_search.best_estimator_\n",
    "\n",
    "# Best parameters\n",
    "print(f\"Best Parameters: {grid_search.best_params_}\")\n",
    "\n",
    "# Train the model on the entire training dataset\n",
    "history = best_model.fit(X, y, eval_set=[(X, y), (X_test, y_test)], verbose=True)\n",
    "\n",
    "# Plot training and test accuracy\n",
    "eval_results = best_model.evals_result()\n",
    "train_accuracy = eval_results['validation_0']['mlogloss']\n",
    "test_accuracy = eval_results['validation_1']['mlogloss']\n",
    "\n",
    "plt.figure(figsize=(8, 6))\n",
    "plt.plot(train_accuracy, label='Train Accuracy')\n",
    "plt.plot(test_accuracy, label='Test Accuracy')\n",
    "plt.xlabel('Epochs')\n",
    "plt.ylabel('Log Loss')\n",
    "plt.title('Training vs Test Accuracy')\n",
    "plt.legend()\n",
    "plt.savefig(Path(\"../../../logs/IMG/NEW/XGB_V2_accuracy_plot.png\"))\n",
    "plt.show()"
   ]
  },
  {
   "cell_type": "markdown",
   "metadata": {},
   "source": [
    "#### Evaluate Model"
   ]
  },
  {
   "cell_type": "code",
   "execution_count": 8,
   "metadata": {},
   "outputs": [
    {
     "name": "stdout",
     "output_type": "stream",
     "text": [
      "Test Accuracy: 0.8685897435897436\n",
      "Test Precision: 0.866196350582259\n",
      "Test Recall: 0.8685897435897436\n",
      "Test F1 Score: 0.8622313950018595\n",
      "Classification Report:\n",
      "              precision    recall  f1-score   support\n",
      "\n",
      "           0       0.88      0.96      0.92      2071\n",
      "           1       0.74      0.48      0.59       499\n",
      "           2       0.95      0.86      0.90       984\n",
      "           3       0.77      0.90      0.83       502\n",
      "\n",
      "    accuracy                           0.87      4056\n",
      "   macro avg       0.84      0.80      0.81      4056\n",
      "weighted avg       0.87      0.87      0.86      4056\n",
      "\n",
      "Saved model to: ..\\..\\..\\models\\Map\\xgb_model_v2.joblib\n",
      "Best Cross-Validation Accuracy: 86.41%\n"
     ]
    },
    {
     "data": {
      "image/png": "[encoded data removed]",
      "text/plain": [
       "<Figure size 800x600 with 2 Axes>"
      ]
     },
     "metadata": {},
     "output_type": "display_data"
    }
   ],
   "source": [
    "# Evaluate the model on the test set\n",
    "y_test_pred = best_model.predict(X_test)\n",
    "test_accuracy = accuracy_score(y_test, y_test_pred)\n",
    "test_report = classification_report(y_test, y_test_pred)\n",
    "\n",
    "# Calculate additional metrics\n",
    "test_precision = precision_score(y_test, y_test_pred, average='weighted')\n",
    "test_recall = recall_score(y_test, y_test_pred, average='weighted')\n",
    "test_f1 = f1_score(y_test, y_test_pred, average='weighted')\n",
    "confusion = confusion_matrix(y_test, y_test_pred)\n",
    "\n",
    "# Log confusion matrix as an image\n",
    "plt.figure(figsize=(8, 6))\n",
    "sns.heatmap(confusion, annot=True, fmt='d', cmap='Blues')\n",
    "plt.title('Confusion Matrix')\n",
    "plt.xlabel('Predicted Label')\n",
    "plt.ylabel('True Label')\n",
    "plt.savefig(Path(\"../../../logs/IMG/XGB_V2_confusion_matrix.png\")) # Save confusion matrix\n",
    "\n",
    "# Print results\n",
    "print(f\"Test Accuracy: {test_accuracy}\")\n",
    "print(f\"Test Precision: {test_precision}\")\n",
    "print(f\"Test Recall: {test_recall}\")\n",
    "print(f\"Test F1 Score: {test_f1}\")\n",
    "print(f\"Classification Report:\\n{test_report}\")\n",
    "\n",
    "# Save the best model to disk\n",
    "xgb_model_v2 = Path(\"../../../models/Map/xgb_model_v2.joblib\")\n",
    "joblib.dump(best_model, xgb_model_v2)\n",
    "print(f\"Saved model to: {xgb_model_v2}\")\n",
    "\n",
    "# Evaluate using cross-validation accuracy\n",
    "print(f\"Best Cross-Validation Accuracy: {grid_search.best_score_ * 100:.2f}%\")"
   ]
  },
  {
   "cell_type": "markdown",
   "metadata": {},
   "source": [
    "#### Predict New Images"
   ]
  },
  {
   "cell_type": "code",
   "execution_count": 12,
   "metadata": {},
   "outputs": [
    {
     "name": "stdout",
     "output_type": "stream",
     "text": [
      "Predicted Growth Stage: grand_growth\n",
      "\n"
     ]
    }
   ],
   "source": [
    "# Load the best model\n",
    "model = joblib.load(xgb_model_v2)\n",
    "\n",
    "def predict_growth_stage(image_path, model):\n",
    "    features = extract_features(image_path)\n",
    "    predicted_label = model.predict([features])[0]\n",
    "    return growth_stages[predicted_label]\n",
    "\n",
    "new_image = Path('../../../data/model/Test/ripening/ripening_100FPLAN_31.tif')\n",
    "predicted_stage = predict_growth_stage(new_image, model)\n",
    "print(f\"Predicted Growth Stage: {predicted_stage}\")\n",
    "print()"
   ]
  },
  {
   "cell_type": "code",
   "execution_count": null,
   "metadata": {},
   "outputs": [],
   "source": []
  }
 ],
 "metadata": {
  "kernelspec": {
   "display_name": "research_env",
   "language": "python",
   "name": "python3"
  },
  "language_info": {
   "codemirror_mode": {
    "name": "ipython",
    "version": 3
   },
   "file_extension": ".py",
   "mimetype": "text/x-python",
   "name": "python",
   "nbconvert_exporter": "python",
   "pygments_lexer": "ipython3",
   "version": "3.10.16"
  }
 },
 "nbformat": 4,
 "nbformat_minor": 2
}
