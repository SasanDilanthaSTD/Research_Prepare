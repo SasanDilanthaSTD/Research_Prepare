{
 "cells": [
  {
   "cell_type": "markdown",
   "metadata": {},
   "source": [
    "## XGBoost modifications\n",
    " - V2 : Use class weight"
   ]
  },
  {
   "cell_type": "markdown",
   "metadata": {},
   "source": [
    ">- import packages"
   ]
  },
  {
   "cell_type": "code",
   "execution_count": 2,
   "metadata": {},
   "outputs": [],
   "source": [
    "import os\n",
    "import numpy as np\n",
    "import matplotlib.pyplot as plt\n",
    "import seaborn as sns\n",
    "import rasterio\n",
    "from sklearn.model_selection import KFold, GridSearchCV\n",
    "from xgboost import XGBClassifier\n",
    "from sklearn.metrics import accuracy_score, classification_report, f1_score, precision_score, recall_score, confusion_matrix\n",
    "import joblib \n",
    "from pathlib import Path\n",
    "\n",
    "from sklearn.utils.class_weight import compute_class_weight\n"
   ]
  },
  {
   "cell_type": "markdown",
   "metadata": {},
   "source": [
    ">- Define function & modify"
   ]
  },
  {
   "cell_type": "code",
   "execution_count": 3,
   "metadata": {},
   "outputs": [],
   "source": [
    "# Define functions to calculate NDVI and NDWI\n",
    "def calculate_ndvi(nir, red):\n",
    "    return (nir - red) / (nir + red + 1e-10)\n",
    "\n",
    "def calculate_ndwi(nir, swir):\n",
    "    return (nir - swir) / (nir + swir + 1e-10)\n",
    "\n",
    "'''\n",
    "    Enhanced Feature Engineering:\n",
    "        -  Current features (mean NDVI/NDWI) might be insufficient. Add:\n",
    "\n",
    "'''\n",
    "def extract_features(image_path):\n",
    "    with rasterio.open(image_path) as src:\n",
    "        bands = src.read()\n",
    "        nir, red, swir = bands[3], bands[2], bands[4]\n",
    "        \n",
    "        # Existing features\n",
    "        ndvi = calculate_ndvi(nir, red)\n",
    "        ndwi = calculate_ndwi(nir, swir)\n",
    "        \n",
    "        # New features\n",
    "        return [\n",
    "            np.mean(ndvi), np.std(ndvi),  # Add standard deviation\n",
    "            np.mean(ndwi), np.std(ndwi),\n",
    "            np.percentile(nir, 75),  # Texture features\n",
    "            np.mean(swir > np.quantile(swir, 0.75))  # Threshold features\n",
    "        ]\n",
    "\n",
    "\n",
    "def calculate_class_weights(y):\n",
    "    \"\"\"Calculate class weights for imbalanced datasets\"\"\"\n",
    "    classes = np.unique(y)\n",
    "    weights = compute_class_weight('balanced', classes=classes, y=y)\n",
    "    return {i: w for i, w in enumerate(weights)}"
   ]
  },
  {
   "cell_type": "markdown",
   "metadata": {},
   "source": [
    ">- load dataset"
   ]
  },
  {
   "cell_type": "code",
   "execution_count": 4,
   "metadata": {},
   "outputs": [],
   "source": [
    "# Load dataset efficiently\n",
    "train_dataset_path = Path('../../../data/model/Patches/Train/')\n",
    "test_dataset_path = Path('../../../data/model/Patches/Test/')\n",
    "growth_stages = [\"germination\", \"tillering\", \"grand_growth\", \"ripening\"]\n",
    "X, X_test, y, y_test = [], [], [], []\n",
    "\n",
    "for idx, stage in enumerate(growth_stages):\n",
    "    stage_path = train_dataset_path / stage\n",
    "    for img_file in os.listdir(stage_path):\n",
    "        img_path = stage_path / img_file\n",
    "        X.append(extract_features(img_path))\n",
    "        y.append(idx)\n",
    "\n",
    "X = np.array(X)\n",
    "y = np.array(y)\n",
    "\n",
    "for idx, stage in enumerate(growth_stages):\n",
    "    stage_path = test_dataset_path / stage\n",
    "    for img_file in os.listdir(stage_path):\n",
    "        img_path = stage_path / img_file\n",
    "        X_test.append(extract_features(img_path))\n",
    "        y_test.append(idx)\n",
    "\n",
    "X_test = np.array(X_test)\n",
    "y_test = np.array(y_test)"
   ]
  },
  {
   "cell_type": "markdown",
   "metadata": {},
   "source": [
    ">- setup model"
   ]
  },
  {
   "cell_type": "code",
   "execution_count": 6,
   "metadata": {},
   "outputs": [
    {
     "name": "stdout",
     "output_type": "stream",
     "text": [
      "Fitting 5 folds for each of 108 candidates, totalling 540 fits\n"
     ]
    },
    {
     "name": "stderr",
     "output_type": "stream",
     "text": [
      "c:\\Users\\user\\anaconda3\\envs\\research_env\\lib\\site-packages\\xgboost\\core.py:158: UserWarning: [19:43:25] WARNING: C:\\buildkite-agent\\builds\\buildkite-windows-cpu-autoscaling-group-i-08cbc0333d8d4aae1-1\\xgboost\\xgboost-ci-windows\\src\\learner.cc:740: \n",
      "Parameters: { \"scale_pos_weight\", \"use_label_encoder\" } are not used.\n",
      "\n",
      "  warnings.warn(smsg, UserWarning)\n"
     ]
    },
    {
     "name": "stdout",
     "output_type": "stream",
     "text": [
      "Best Parameters: {'colsample_bytree': 0.8, 'learning_rate': 0.1, 'max_depth': 6, 'n_estimators': 100, 'subsample': 0.8}\n",
      "[0]\tvalidation_0-mlogloss:1.22218\tvalidation_1-mlogloss:1.22483\n",
      "[1]\tvalidation_0-mlogloss:1.08435\tvalidation_1-mlogloss:1.08881\n",
      "[2]\tvalidation_0-mlogloss:0.96962\tvalidation_1-mlogloss:0.97608\n",
      "[3]\tvalidation_0-mlogloss:0.87563\tvalidation_1-mlogloss:0.88385\n",
      "[4]\tvalidation_0-mlogloss:0.79071\tvalidation_1-mlogloss:0.80031\n",
      "[5]\tvalidation_0-mlogloss:0.71917\tvalidation_1-mlogloss:0.72970\n",
      "[6]\tvalidation_0-mlogloss:0.65807\tvalidation_1-mlogloss:0.66976\n",
      "[7]\tvalidation_0-mlogloss:0.60106\tvalidation_1-mlogloss:0.61377\n",
      "[8]\tvalidation_0-mlogloss:0.55823\tvalidation_1-mlogloss:0.57181\n",
      "[9]\tvalidation_0-mlogloss:0.51513\tvalidation_1-mlogloss:0.52942\n",
      "[10]\tvalidation_0-mlogloss:0.47789\tvalidation_1-mlogloss:0.49285\n",
      "[11]\tvalidation_0-mlogloss:0.44345\tvalidation_1-mlogloss:0.45918\n",
      "[12]\tvalidation_0-mlogloss:0.41049\tvalidation_1-mlogloss:0.42743\n",
      "[13]\tvalidation_0-mlogloss:0.38211\tvalidation_1-mlogloss:0.40006\n",
      "[14]\tvalidation_0-mlogloss:0.35888\tvalidation_1-mlogloss:0.37727\n",
      "[15]\tvalidation_0-mlogloss:0.33692\tvalidation_1-mlogloss:0.35589\n",
      "[16]\tvalidation_0-mlogloss:0.31555\tvalidation_1-mlogloss:0.33523\n",
      "[17]\tvalidation_0-mlogloss:0.29544\tvalidation_1-mlogloss:0.31568\n"
     ]
    },
    {
     "name": "stderr",
     "output_type": "stream",
     "text": [
      "c:\\Users\\user\\anaconda3\\envs\\research_env\\lib\\site-packages\\xgboost\\core.py:158: UserWarning: [19:43:26] WARNING: C:\\buildkite-agent\\builds\\buildkite-windows-cpu-autoscaling-group-i-08cbc0333d8d4aae1-1\\xgboost\\xgboost-ci-windows\\src\\learner.cc:740: \n",
      "Parameters: { \"scale_pos_weight\", \"use_label_encoder\" } are not used.\n",
      "\n",
      "  warnings.warn(smsg, UserWarning)\n"
     ]
    },
    {
     "name": "stdout",
     "output_type": "stream",
     "text": [
      "[18]\tvalidation_0-mlogloss:0.27830\tvalidation_1-mlogloss:0.29913\n",
      "[19]\tvalidation_0-mlogloss:0.26268\tvalidation_1-mlogloss:0.28411\n",
      "[20]\tvalidation_0-mlogloss:0.24793\tvalidation_1-mlogloss:0.26969\n",
      "[21]\tvalidation_0-mlogloss:0.23639\tvalidation_1-mlogloss:0.25836\n",
      "[22]\tvalidation_0-mlogloss:0.22408\tvalidation_1-mlogloss:0.24668\n",
      "[23]\tvalidation_0-mlogloss:0.21492\tvalidation_1-mlogloss:0.23779\n",
      "[24]\tvalidation_0-mlogloss:0.20508\tvalidation_1-mlogloss:0.22875\n",
      "[25]\tvalidation_0-mlogloss:0.19559\tvalidation_1-mlogloss:0.21986\n",
      "[26]\tvalidation_0-mlogloss:0.18809\tvalidation_1-mlogloss:0.21284\n",
      "[27]\tvalidation_0-mlogloss:0.18052\tvalidation_1-mlogloss:0.20543\n",
      "[28]\tvalidation_0-mlogloss:0.17354\tvalidation_1-mlogloss:0.19894\n",
      "[29]\tvalidation_0-mlogloss:0.16758\tvalidation_1-mlogloss:0.19305\n",
      "[30]\tvalidation_0-mlogloss:0.16233\tvalidation_1-mlogloss:0.18811\n",
      "[31]\tvalidation_0-mlogloss:0.15722\tvalidation_1-mlogloss:0.18331\n",
      "[32]\tvalidation_0-mlogloss:0.15211\tvalidation_1-mlogloss:0.17841\n",
      "[33]\tvalidation_0-mlogloss:0.14724\tvalidation_1-mlogloss:0.17378\n",
      "[34]\tvalidation_0-mlogloss:0.14288\tvalidation_1-mlogloss:0.16987\n",
      "[35]\tvalidation_0-mlogloss:0.13902\tvalidation_1-mlogloss:0.16633\n",
      "[36]\tvalidation_0-mlogloss:0.13529\tvalidation_1-mlogloss:0.16293\n",
      "[37]\tvalidation_0-mlogloss:0.13211\tvalidation_1-mlogloss:0.16000\n",
      "[38]\tvalidation_0-mlogloss:0.12913\tvalidation_1-mlogloss:0.15736\n",
      "[39]\tvalidation_0-mlogloss:0.12635\tvalidation_1-mlogloss:0.15472\n",
      "[40]\tvalidation_0-mlogloss:0.12377\tvalidation_1-mlogloss:0.15229\n",
      "[41]\tvalidation_0-mlogloss:0.12165\tvalidation_1-mlogloss:0.15032\n",
      "[42]\tvalidation_0-mlogloss:0.11967\tvalidation_1-mlogloss:0.14841\n",
      "[43]\tvalidation_0-mlogloss:0.11717\tvalidation_1-mlogloss:0.14637\n",
      "[44]\tvalidation_0-mlogloss:0.11533\tvalidation_1-mlogloss:0.14462\n",
      "[45]\tvalidation_0-mlogloss:0.11348\tvalidation_1-mlogloss:0.14301\n",
      "[46]\tvalidation_0-mlogloss:0.11174\tvalidation_1-mlogloss:0.14146\n",
      "[47]\tvalidation_0-mlogloss:0.11005\tvalidation_1-mlogloss:0.14006\n",
      "[48]\tvalidation_0-mlogloss:0.10859\tvalidation_1-mlogloss:0.13893\n",
      "[49]\tvalidation_0-mlogloss:0.10720\tvalidation_1-mlogloss:0.13780\n",
      "[50]\tvalidation_0-mlogloss:0.10614\tvalidation_1-mlogloss:0.13683\n",
      "[51]\tvalidation_0-mlogloss:0.10494\tvalidation_1-mlogloss:0.13581\n",
      "[52]\tvalidation_0-mlogloss:0.10382\tvalidation_1-mlogloss:0.13488\n",
      "[53]\tvalidation_0-mlogloss:0.10275\tvalidation_1-mlogloss:0.13410\n",
      "[54]\tvalidation_0-mlogloss:0.10148\tvalidation_1-mlogloss:0.13322\n",
      "[55]\tvalidation_0-mlogloss:0.10048\tvalidation_1-mlogloss:0.13251\n",
      "[56]\tvalidation_0-mlogloss:0.09959\tvalidation_1-mlogloss:0.13184\n",
      "[57]\tvalidation_0-mlogloss:0.09876\tvalidation_1-mlogloss:0.13133\n",
      "[58]\tvalidation_0-mlogloss:0.09785\tvalidation_1-mlogloss:0.13067\n",
      "[59]\tvalidation_0-mlogloss:0.09696\tvalidation_1-mlogloss:0.12996\n",
      "[60]\tvalidation_0-mlogloss:0.09623\tvalidation_1-mlogloss:0.12946\n",
      "[61]\tvalidation_0-mlogloss:0.09530\tvalidation_1-mlogloss:0.12899\n",
      "[62]\tvalidation_0-mlogloss:0.09465\tvalidation_1-mlogloss:0.12855\n",
      "[63]\tvalidation_0-mlogloss:0.09403\tvalidation_1-mlogloss:0.12824\n",
      "[64]\tvalidation_0-mlogloss:0.09336\tvalidation_1-mlogloss:0.12772\n",
      "[65]\tvalidation_0-mlogloss:0.09260\tvalidation_1-mlogloss:0.12730\n",
      "[66]\tvalidation_0-mlogloss:0.09185\tvalidation_1-mlogloss:0.12694\n",
      "[67]\tvalidation_0-mlogloss:0.09120\tvalidation_1-mlogloss:0.12659\n",
      "[68]\tvalidation_0-mlogloss:0.09060\tvalidation_1-mlogloss:0.12625\n",
      "[69]\tvalidation_0-mlogloss:0.09007\tvalidation_1-mlogloss:0.12582\n",
      "[70]\tvalidation_0-mlogloss:0.08967\tvalidation_1-mlogloss:0.12568\n",
      "[71]\tvalidation_0-mlogloss:0.08930\tvalidation_1-mlogloss:0.12544\n",
      "[72]\tvalidation_0-mlogloss:0.08869\tvalidation_1-mlogloss:0.12527\n",
      "[73]\tvalidation_0-mlogloss:0.08813\tvalidation_1-mlogloss:0.12505\n",
      "[74]\tvalidation_0-mlogloss:0.08738\tvalidation_1-mlogloss:0.12489\n",
      "[75]\tvalidation_0-mlogloss:0.08686\tvalidation_1-mlogloss:0.12467\n",
      "[76]\tvalidation_0-mlogloss:0.08630\tvalidation_1-mlogloss:0.12448\n",
      "[77]\tvalidation_0-mlogloss:0.08579\tvalidation_1-mlogloss:0.12433\n",
      "[78]\tvalidation_0-mlogloss:0.08504\tvalidation_1-mlogloss:0.12417\n",
      "[79]\tvalidation_0-mlogloss:0.08427\tvalidation_1-mlogloss:0.12387\n",
      "[80]\tvalidation_0-mlogloss:0.08364\tvalidation_1-mlogloss:0.12376\n",
      "[81]\tvalidation_0-mlogloss:0.08321\tvalidation_1-mlogloss:0.12353\n",
      "[82]\tvalidation_0-mlogloss:0.08270\tvalidation_1-mlogloss:0.12339\n",
      "[83]\tvalidation_0-mlogloss:0.08235\tvalidation_1-mlogloss:0.12337\n",
      "[84]\tvalidation_0-mlogloss:0.08187\tvalidation_1-mlogloss:0.12342\n",
      "[85]\tvalidation_0-mlogloss:0.08133\tvalidation_1-mlogloss:0.12338\n",
      "[86]\tvalidation_0-mlogloss:0.08090\tvalidation_1-mlogloss:0.12334\n",
      "[87]\tvalidation_0-mlogloss:0.08065\tvalidation_1-mlogloss:0.12334\n",
      "[88]\tvalidation_0-mlogloss:0.08021\tvalidation_1-mlogloss:0.12336\n",
      "[89]\tvalidation_0-mlogloss:0.07974\tvalidation_1-mlogloss:0.12322\n",
      "[90]\tvalidation_0-mlogloss:0.07916\tvalidation_1-mlogloss:0.12331\n",
      "[91]\tvalidation_0-mlogloss:0.07885\tvalidation_1-mlogloss:0.12327\n",
      "[92]\tvalidation_0-mlogloss:0.07856\tvalidation_1-mlogloss:0.12311\n",
      "[93]\tvalidation_0-mlogloss:0.07817\tvalidation_1-mlogloss:0.12292\n",
      "[94]\tvalidation_0-mlogloss:0.07771\tvalidation_1-mlogloss:0.12278\n",
      "[95]\tvalidation_0-mlogloss:0.07721\tvalidation_1-mlogloss:0.12274\n",
      "[96]\tvalidation_0-mlogloss:0.07679\tvalidation_1-mlogloss:0.12258\n",
      "[97]\tvalidation_0-mlogloss:0.07640\tvalidation_1-mlogloss:0.12251\n",
      "[98]\tvalidation_0-mlogloss:0.07586\tvalidation_1-mlogloss:0.12240\n",
      "[99]\tvalidation_0-mlogloss:0.07553\tvalidation_1-mlogloss:0.12229\n"
     ]
    },
    {
     "data": {
      "image/png": "[encoded data removed]",
      "text/plain": [
       "<Figure size 800x600 with 1 Axes>"
      ]
     },
     "metadata": {},
     "output_type": "display_data"
    }
   ],
   "source": [
    "# Define parameter grid for XGBoost\n",
    "param_grid = {\n",
    "    \"n_estimators\": [50, 100, 200],\n",
    "    \"max_depth\": [3, 6, 10],\n",
    "    \"learning_rate\": [0.01, 0.1, 0.2],\n",
    "    \"subsample\": [0.8, 1.0],\n",
    "    \"colsample_bytree\": [0.8, 1.0]\n",
    "}\n",
    "\n",
    "# Initialize XGBoost and GridSearchCV\n",
    "xgb_model = XGBClassifier(\n",
    "    objective='multi:softmax',\n",
    "    num_class=4,\n",
    "    use_label_encoder=False, \n",
    "    eval_metric='mlogloss',\n",
    "    scale_pos_weight=calculate_class_weights(y), \n",
    "    random_state=42\n",
    "    )\n",
    "\n",
    "kf = KFold(n_splits=5, shuffle=True, random_state=42)\n",
    "\n",
    "grid_search = GridSearchCV(xgb_model, param_grid, cv=kf, n_jobs=-1, verbose=2, return_train_score=True)\n",
    "\n",
    "# Train model with cross-validation\n",
    "grid_search.fit(X, y)\n",
    "\n",
    "# Get the best model from Grid Search\n",
    "best_model = grid_search.best_estimator_\n",
    "\n",
    "# Best parameters\n",
    "print(f\"Best Parameters: {grid_search.best_params_}\")\n",
    "\n",
    "# Train the model on the entire training dataset\n",
    "history = best_model.fit(X, y, eval_set=[(X, y), (X_test, y_test)], verbose=True)\n",
    "\n",
    "# Plot training and test accuracy\n",
    "eval_results = best_model.evals_result()\n",
    "train_accuracy = eval_results['validation_0']['mlogloss']\n",
    "test_accuracy = eval_results['validation_1']['mlogloss']\n",
    "\n",
    "plt.figure(figsize=(8, 6))\n",
    "plt.plot(train_accuracy, label='Train Accuracy')\n",
    "plt.plot(test_accuracy, label='Test Accuracy')\n",
    "plt.xlabel('Epochs')\n",
    "plt.ylabel('Log Loss')\n",
    "plt.title('Training vs Test Accuracy')\n",
    "plt.legend()\n",
    "plt.savefig(Path(\"../../../IMG/NEW/XGB_V4_accuracy_plot.png\"))\n",
    "plt.show()"
   ]
  },
  {
   "cell_type": "markdown",
   "metadata": {},
   "source": [
    ">- evaluate model"
   ]
  },
  {
   "cell_type": "code",
   "execution_count": 8,
   "metadata": {},
   "outputs": [
    {
     "name": "stdout",
     "output_type": "stream",
     "text": [
      "Test Accuracy: 0.9455128205128205\n",
      "Test Precision: 0.9462354756445437\n",
      "Test Recall: 0.9455128205128205\n",
      "Test F1 Score: 0.9458461273732695\n",
      "Classification Report:\n",
      "              precision    recall  f1-score   support\n",
      "\n",
      "           0       0.95      0.95      0.95      2071\n",
      "           1       0.78      0.81      0.79       499\n",
      "           2       1.00      0.99      1.00       984\n",
      "           3       0.99      0.99      0.99       502\n",
      "\n",
      "    accuracy                           0.95      4056\n",
      "   macro avg       0.93      0.93      0.93      4056\n",
      "weighted avg       0.95      0.95      0.95      4056\n",
      "\n",
      "Saved model to: ..\\..\\..\\models\\Map\\xgb_model_v4.joblib\n",
      "Best Cross-Validation Accuracy: 95.17%\n"
     ]
    },
    {
     "data": {
      "image/png": "[encoded data removed]",
      "text/plain": [
       "<Figure size 800x600 with 2 Axes>"
      ]
     },
     "metadata": {},
     "output_type": "display_data"
    }
   ],
   "source": [
    "# Evaluate the model on the test set\n",
    "y_test_pred = best_model.predict(X_test)\n",
    "test_accuracy = accuracy_score(y_test, y_test_pred)\n",
    "test_report = classification_report(y_test, y_test_pred)\n",
    "\n",
    "# Calculate additional metrics\n",
    "test_precision = precision_score(y_test, y_test_pred, average='weighted')\n",
    "test_recall = recall_score(y_test, y_test_pred, average='weighted')\n",
    "test_f1 = f1_score(y_test, y_test_pred, average='weighted')\n",
    "confusion = confusion_matrix(y_test, y_test_pred)\n",
    "\n",
    "# Log confusion matrix as an image\n",
    "plt.figure(figsize=(8, 6))\n",
    "sns.heatmap(confusion, annot=True, fmt='d', cmap='Blues')\n",
    "plt.title('Confusion Matrix')\n",
    "plt.xlabel('Predicted Label')\n",
    "plt.ylabel('True Label')\n",
    "plt.savefig(Path(\"../../../IMG/NEW/XGB_V4_confusion_matrix.png\")) # Save confusion matrix\n",
    "\n",
    "# Print results\n",
    "print(f\"Test Accuracy: {test_accuracy}\")\n",
    "print(f\"Test Precision: {test_precision}\")\n",
    "print(f\"Test Recall: {test_recall}\")\n",
    "print(f\"Test F1 Score: {test_f1}\")\n",
    "print(f\"Classification Report:\\n{test_report}\")\n",
    "\n",
    "# Save the best model to disk\n",
    "xgb_model_v4 = Path(\"../../../models/Map/xgb_model_v4.joblib\")\n",
    "joblib.dump(best_model, xgb_model_v4)\n",
    "print(f\"Saved model to: {xgb_model_v4}\")\n",
    "\n",
    "# Evaluate using cross-validation accuracy\n",
    "print(f\"Best Cross-Validation Accuracy: {grid_search.best_score_ * 100:.2f}%\")"
   ]
  },
  {
   "cell_type": "markdown",
   "metadata": {},
   "source": [
    ">- predict"
   ]
  },
  {
   "cell_type": "code",
   "execution_count": 9,
   "metadata": {},
   "outputs": [
    {
     "name": "stderr",
     "output_type": "stream",
     "text": [
      "c:\\Users\\user\\anaconda3\\envs\\research_env\\lib\\site-packages\\rasterio\\__init__.py:368: NotGeoreferencedWarning: Dataset has no geotransform, gcps, or rpcs. The identity matrix will be returned.\n",
      "  dataset = DatasetReader(path, driver=driver, sharing=sharing, **kwargs)\n"
     ]
    },
    {
     "name": "stdout",
     "output_type": "stream",
     "text": [
      "Predicted Growth Stage: grand_growth\n",
      "\n"
     ]
    }
   ],
   "source": [
    "# Load the best model\n",
    "model = joblib.load(Path(\"../../../models/Map/xgb_model_v4.joblib\"))\n",
    "\n",
    "def predict_growth_stage(image_path, model):\n",
    "    features = extract_features(image_path)\n",
    "    predicted_label = model.predict([features])[0]\n",
    "    return growth_stages[predicted_label]\n",
    "\n",
    "new_image = Path('../../../data/model/Test/grand_growth/grand_growth_118FPLAN_76.tif')\n",
    "predicted_stage = predict_growth_stage(new_image, model)\n",
    "print(f\"Predicted Growth Stage: {predicted_stage}\")\n",
    "print()"
   ]
  },
  {
   "cell_type": "code",
   "execution_count": null,
   "metadata": {},
   "outputs": [],
   "source": []
  }
 ],
 "metadata": {
  "kernelspec": {
   "display_name": "research_env",
   "language": "python",
   "name": "python3"
  },
  "language_info": {
   "codemirror_mode": {
    "name": "ipython",
    "version": 3
   },
   "file_extension": ".py",
   "mimetype": "text/x-python",
   "name": "python",
   "nbconvert_exporter": "python",
   "pygments_lexer": "ipython3",
   "version": "3.10.16"
  }
 },
 "nbformat": 4,
 "nbformat_minor": 2
}
