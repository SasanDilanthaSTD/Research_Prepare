{
 "cells": [
  {
   "cell_type": "markdown",
   "metadata": {},
   "source": [
    "#### Import packeges"
   ]
  },
  {
   "cell_type": "code",
   "execution_count": 7,
   "metadata": {},
   "outputs": [],
   "source": [
    "import os\n",
    "import glob\n",
    "import rasterio\n",
    "import numpy as np\n",
    "from sklearn.model_selection import train_test_split, KFold, cross_val_score\n",
    "from sklearn.preprocessing import StandardScaler\n",
    "from sklearn.svm import SVC\n",
    "from sklearn.metrics import accuracy_score, classification_report, f1_score, precision_score, recall_score, confusion_matrix\n",
    "import joblib\n",
    "import mlflow\n",
    "import mlflow.sklearn\n",
    "import matplotlib.pyplot as plt # For Confusion Matrix visualization\n",
    "import seaborn as sns\n",
    "from pathlib import Path"
   ]
  },
  {
   "cell_type": "markdown",
   "metadata": {},
   "source": [
    "#### Build SVM Model"
   ]
  },
  {
   "cell_type": "code",
   "execution_count": 4,
   "metadata": {},
   "outputs": [],
   "source": [
    "def train_and_evaluate_svm(X, y, X_test, y_test, joblib_file, k_folds=5, kernel='rbf', C=1.0, gamma='scale', class_weight='balanced'):\n",
    "    \"\"\"Trains and evaluates an SVM model with k-fold cross-validation, logging metrics and artifacts to MLflow.\"\"\"\n",
    "    with mlflow.start_run():\n",
    "        # Log parameters\n",
    "        mlflow.log_param(\"kernel\", kernel)\n",
    "        mlflow.log_param(\"C\", C)\n",
    "        mlflow.log_param(\"gamma\", gamma)\n",
    "        mlflow.log_param(\"k_folds\", k_folds)\n",
    "        mlflow.log_param(\"class_weight\", class_weight)\n",
    "\n",
    "        # Create the SVM model\n",
    "        model = SVC(kernel=kernel, C=C, gamma=gamma, random_state=42, class_weight=class_weight) #class_weight='balanced'\n",
    "\n",
    "        # Perform k-fold cross-validation (optional, but recommended)\n",
    "        kf = KFold(n_splits=k_folds, shuffle=True, random_state=42)\n",
    "        cv_scores = cross_val_score(model, X, y, cv=kf, scoring='f1_weighted') # Use 'f1_weighted' for imbalanced data\n",
    "        mlflow.log_metric(\"mean_cv_f1\", np.mean(cv_scores))\n",
    "        mlflow.log_metric(\"std_cv_f1\", np.std(cv_scores))\n",
    "        print(f\"Cross-validation F1 scores: {cv_scores}\")\n",
    "        print(f\"Mean cross-validation F1 accuracy: {np.mean(cv_scores)}\")\n",
    "        print(f\"Standard deviation of cross-validation F1 accuracy: {np.std(cv_scores)}\")\n",
    "\n",
    "        # Train the model on the entire training + validation dataset\n",
    "        model.fit(X, y)\n",
    "\n",
    "        # Evaluate the model on the test set\n",
    "        y_test_pred = model.predict(X_test)\n",
    "        test_accuracy = accuracy_score(y_test, y_test_pred)\n",
    "        test_report = classification_report(y_test, y_test_pred)\n",
    "\n",
    "        # Calculate additional metrics\n",
    "        test_precision = precision_score(y_test, y_test_pred, average='weighted')\n",
    "        test_recall = recall_score(y_test, y_test_pred, average='weighted')\n",
    "        test_f1 = f1_score(y_test, y_test_pred, average='weighted')\n",
    "        confusion = confusion_matrix(y_test, y_test_pred)\n",
    "\n",
    "        # Log metrics\n",
    "        mlflow.log_metric(\"test_accuracy\", test_accuracy)\n",
    "        mlflow.log_metric(\"test_precision\", test_precision)\n",
    "        mlflow.log_metric(\"test_recall\", test_recall)\n",
    "        mlflow.log_metric(\"test_f1\", test_f1)\n",
    "\n",
    "        # Log the classification report and confusion matrix\n",
    "        mlflow.log_text(test_report, \"test_classification_report.txt\")\n",
    "\n",
    "        # Log confusion matrix as an image\n",
    "        plt.figure(figsize=(8, 6))\n",
    "        sns.heatmap(confusion, annot=True, fmt='d', cmap='Blues')\n",
    "        plt.title('Confusion Matrix')\n",
    "        plt.xlabel('Predicted Label')\n",
    "        plt.ylabel('True Label')\n",
    "        plt.savefig(\"confusion_matrix.png\") # Save confusion matrix\n",
    "        mlflow.log_artifact(\"confusion_matrix.png\") #Log it\n",
    "\n",
    "        # Save the model\n",
    "        joblib.dump(model, joblib_file)\n",
    "        mlflow.log_artifact(joblib_file)\n",
    "        print(f\"Saved model to: {joblib_file}\")\n",
    "\n",
    "        return model\n"
   ]
  },
  {
   "cell_type": "markdown",
   "metadata": {},
   "source": [
    "####  RUN"
   ]
  },
  {
   "cell_type": "code",
   "execution_count": null,
   "metadata": {},
   "outputs": [
    {
     "ename": "",
     "evalue": "",
     "output_type": "error",
     "traceback": [
      "\u001b[1;31mThe Kernel crashed while executing code in the current cell or a previous cell. \n",
      "\u001b[1;31mPlease review the code in the cell(s) to identify a possible cause of the failure. \n",
      "\u001b[1;31mClick <a href='https://aka.ms/vscodeJupyterKernelCrash'>here</a> for more info. \n",
      "\u001b[1;31mView Jupyter <a href='command:jupyter.viewOutput'>log</a> for further details."
     ]
    }
   ],
   "source": [
    "\n",
    "# Load preprocessed data (using existing .npy files)\n",
    "X_train = np.load(Path(\"../../../data/ML/X_train_ml.npy\"))\n",
    "y_train = np.load(Path(\"../../../data/ML/y_train_ml.npy\"))\n",
    "X_val = np.load(Path(\"../../../data/ML/X_val_ml.npy\"))\n",
    "y_val = np.load(Path(\"../../../data/ML/y_val_ml.npy\"))\n",
    "X_test = np.load(Path(\"../../../data/ML/X_test_ml.npy\"))\n",
    "y_test = np.load(Path(\"../../../data/ML/y_test_ml.npy\"))\n",
    "\n",
    "# Combine training and validation data for cross-validation\n",
    "X = np.concatenate((X_train, X_val), axis=0)\n",
    "y = np.concatenate((y_train, y_val), axis=0)\n",
    "\n",
    "# Train and evaluate the SVM model\n",
    "joblib_file = \"svm_model.joblib\"\n",
    "trained_model = train_and_evaluate_svm(X, y, X_test, y_test, joblib_file, k_folds=5)"
   ]
  }
 ],
 "metadata": {
  "kernelspec": {
   "display_name": "research_env",
   "language": "python",
   "name": "python3"
  },
  "language_info": {
   "codemirror_mode": {
    "name": "ipython",
    "version": 3
   },
   "file_extension": ".py",
   "mimetype": "text/x-python",
   "name": "python",
   "nbconvert_exporter": "python",
   "pygments_lexer": "ipython3",
   "version": "3.10.16"
  }
 },
 "nbformat": 4,
 "nbformat_minor": 2
}
