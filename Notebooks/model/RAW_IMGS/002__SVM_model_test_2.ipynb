{
 "cells": [
  {
   "cell_type": "code",
   "execution_count": 3,
   "metadata": {},
   "outputs": [],
   "source": [
    "import os\n",
    "import glob\n",
    "import rasterio\n",
    "import numpy as np\n",
    "import pandas as pd\n",
    "import matplotlib.pyplot as plt\n",
    "import seaborn as sns\n",
    "from sklearn.model_selection import train_test_split, KFold, cross_val_score, RandomizedSearchCV\n",
    "from sklearn.preprocessing import StandardScaler\n",
    "from sklearn.svm import SVC\n",
    "from sklearn.metrics import accuracy_score, classification_report, f1_score, precision_score, recall_score, confusion_matrix\n",
    "import joblib\n",
    "import matplotlib.pyplot as plt # For Confusion Matrix visualization\n",
    "import seaborn as sns\n",
    "import gc  # Garbage collection\n",
    "from sklearn.feature_selection import SelectKBest, f_classif #For image size selection\n",
    "from pathlib import Path"
   ]
  },
  {
   "cell_type": "code",
   "execution_count": null,
   "metadata": {},
   "outputs": [
    {
     "name": "stdout",
     "output_type": "stream",
     "text": [
      "Selected 100 best features\n"
     ]
    },
    {
     "data": {
      "text/plain": [
       "0"
      ]
     },
     "execution_count": 5,
     "metadata": {},
     "output_type": "execute_result"
    }
   ],
   "source": [
    "# Combine training and validation data (assuming you have separate validation data)\n",
    "X = np.concatenate((np.load(Path(\"../../../data/ML/X_train_ml.npy\")), np.load(Path(\"../../../data/Ml/X_val_ml.npy\"))), axis=0)\n",
    "y = np.concatenate((np.load(Path(\"../../../data/ML/y_train_ml.npy\")), np.load(Path(\"../../../data/Ml/y_val_ml.npy\"))), axis=0)\n",
    "\n",
    "X_test = np.load(Path(\"../../../data/ML/X_test_ml.npy\"))\n",
    "y_test = np.load(Path(\"../../../data/ML/y_test_ml.npy\"))\n",
    "\n",
    "# Clear unnecessary variables to free up memory\n",
    "# del X_train, X_val, y_train, y_val\n",
    "gc.collect()\n",
    "\n",
    "#Feature Selection\n",
    "num_features_to_select = 100  # Adjust this value\n",
    "selector = SelectKBest(score_func=f_classif, k=num_features_to_select)\n",
    "X_new = selector.fit_transform(X, y)\n",
    "X_test = selector.transform(X_test)\n",
    "\n",
    "print(f\"Selected {num_features_to_select} best features\")\n",
    "\n",
    "# Clear unnessary variables to save the memory\n",
    "gc.collect()"
   ]
  },
  {
   "cell_type": "markdown",
   "metadata": {},
   "source": [
    "#### Model function defination"
   ]
  },
  {
   "cell_type": "code",
   "execution_count": 7,
   "metadata": {},
   "outputs": [],
   "source": [
    "def train_and_evaluate_svm(X, y, X_test, y_test, joblib_file, k_folds=5):\n",
    "    \"\"\"Trains and evaluates an SVM model with k-fold cross-validation, logging metrics and artifacts to MLflow.\"\"\"\n",
    "\n",
    "    # Define the parameter grid\n",
    "    param_grid = {'C': [0.1, 1, 10],\n",
    "                  'gamma': [0.001, 0.1, 'scale'],\n",
    "                  'kernel': ['rbf', 'linear', 'poly']}\n",
    "\n",
    "    #Create the SVM model\n",
    "    model = SVC(random_state=42, class_weight='balanced')\n",
    "\n",
    "    #Perform Randomized Search with cross-validation\n",
    "    random_search = RandomizedSearchCV(model, param_distributions=param_grid, n_iter=10, cv=k_folds, scoring='f1_weighted', verbose=2, n_jobs=-1, random_state=42) #Reduce n_iter value if running out of memory again\n",
    "    random_search.fit(X, y)\n",
    "\n",
    "    # Get the best model from Grid Search\n",
    "    best_model = random_search.best_estimator_\n",
    "\n",
    "    # Print the best parameters\n",
    "    print(\"Best Parameters:\", random_search.best_params_)\n",
    "\n",
    "    # Train the model on the entire training + validation dataset\n",
    "    best_model.fit(X, y)\n",
    "\n",
    "    # Evaluate the model on the test set\n",
    "    y_test_pred = best_model.predict(X_test)\n",
    "    test_accuracy = accuracy_score(y_test, y_test_pred)\n",
    "    test_report = classification_report(y_test, y_test_pred)\n",
    "\n",
    "    # Calculate additional metrics\n",
    "    test_precision = precision_score(y_test, y_test_pred, average='weighted')\n",
    "    test_recall = recall_score(y_test, y_test_pred, average='weighted')\n",
    "    test_f1 = f1_score(y_test, y_test_pred, average='weighted')\n",
    "    confusion = confusion_matrix(y_test, y_test_pred)\n",
    "\n",
    "    # Log confusion matrix as an image\n",
    "    plt.figure(figsize=(8, 6))\n",
    "    sns.heatmap(confusion, annot=True, fmt='d', cmap='Blues')\n",
    "    plt.title('Confusion Matrix')\n",
    "    plt.xlabel('Predicted Label')\n",
    "    plt.ylabel('True Label')\n",
    "    plt.savefig(\"confusion_matrix.png\") # Save confusion matrix\n",
    "\n",
    "    # Save the model\n",
    "    joblib.dump(best_model, joblib_file)\n",
    "    print(f\"Saved model to: {joblib_file}\")\n",
    "\n",
    "    # Print results\n",
    "    print(f\"Test Accuracy: {test_accuracy}\")\n",
    "    print(f\"Test Precision: {test_precision}\")\n",
    "    print(f\"Test Recall: {test_recall}\")\n",
    "    print(f\"Test F1 Score: {test_f1}\")\n",
    "    print(f\"Classification Report:\\n{test_report}\")\n",
    "\n",
    "    return best_model"
   ]
  },
  {
   "cell_type": "markdown",
   "metadata": {},
   "source": [
    "### Train and evaluate the SVM model"
   ]
  },
  {
   "cell_type": "code",
   "execution_count": 8,
   "metadata": {},
   "outputs": [
    {
     "name": "stdout",
     "output_type": "stream",
     "text": [
      "Fitting 5 folds for each of 10 candidates, totalling 50 fits\n",
      "Best Parameters: {'kernel': 'rbf', 'gamma': 'scale', 'C': 10}\n",
      "Saved model to: svm_model.joblib\n",
      "Test Accuracy: 0.5770731707317073\n",
      "Test Precision: 0.5978952663583306\n",
      "Test Recall: 0.5770731707317073\n",
      "Test F1 Score: 0.564697059733611\n",
      "Classification Report:\n",
      "              precision    recall  f1-score   support\n",
      "\n",
      "           0       0.76      0.54      0.63      4422\n",
      "           1       0.42      0.32      0.36      1776\n",
      "           2       0.53      0.87      0.66      3138\n",
      "           3       0.39      0.27      0.32       914\n",
      "\n",
      "    accuracy                           0.58     10250\n",
      "   macro avg       0.52      0.50      0.49     10250\n",
      "weighted avg       0.60      0.58      0.56     10250\n",
      "\n"
     ]
    },
    {
     "data": {
      "image/png": "[encoded data removed]",
      "text/plain": [
       "<Figure size 800x600 with 2 Axes>"
      ]
     },
     "metadata": {},
     "output_type": "display_data"
    }
   ],
   "source": [
    "joblib_file = \"svm_model.joblib\"\n",
    "trained_model = train_and_evaluate_svm(X_new, y, X_test, y_test, joblib_file, k_folds=5)"
   ]
  }
 ],
 "metadata": {
  "kernelspec": {
   "display_name": "research_env",
   "language": "python",
   "name": "python3"
  },
  "language_info": {
   "codemirror_mode": {
    "name": "ipython",
    "version": 3
   },
   "file_extension": ".py",
   "mimetype": "text/x-python",
   "name": "python",
   "nbconvert_exporter": "python",
   "pygments_lexer": "ipython3",
   "version": "3.10.16"
  }
 },
 "nbformat": 4,
 "nbformat_minor": 2
}
