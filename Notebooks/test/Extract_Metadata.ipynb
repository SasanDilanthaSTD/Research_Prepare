{
 "cells": [
  {
   "cell_type": "code",
   "execution_count": null,
   "id": "5412b42c",
   "metadata": {},
   "outputs": [],
   "source": [
    "import exifread\n",
    "import rasterio\n",
    "from rasterio.transform import Affine, from_origin\n",
    "from rasterio.crs import CRS\n",
    "from pathlib import Path\n",
    "import os"
   ]
  },
  {
   "cell_type": "code",
   "execution_count": 4,
   "id": "b3898f6d",
   "metadata": {},
   "outputs": [],
   "source": [
    "def fix_georeference(tiff_path, output_path, epsg_code=5234):\n",
    "    \"\"\"Add EPSG:5234 CRS and update transform if missing.\"\"\"\n",
    "    # Check if the input file exists\n",
    "    if not os.path.exists(tiff_path):\n",
    "        raise FileNotFoundError(f\"Input file {tiff_path} does not exist.\")\n",
    "    # Check if the output directory exists, create if not\n",
    "    output_dir = Path(output_path).parent\n",
    "    if not output_dir.exists():\n",
    "        os.makedirs(output_dir, exist_ok=True)\n",
    "\n",
    "    \n",
    "    with rasterio.open(tiff_path) as src:\n",
    "        # Read the image data and metadata\n",
    "        img_data = src.read()\n",
    "        profile = src.profile\n",
    "        \n",
    "        # Force CRS to EPSG:5234 (Sri Lanka)\n",
    "        profile.update(crs=CRS.from_epsg(epsg_code))\n",
    "        \n",
    "        # If transform is identity (1,0,0,0,1,0), set a dummy transform\n",
    "        if src.transform.is_identity:\n",
    "            profile.update(transform=Affine(1.0, 0.0, 0.0, 0.0, -1.0, 0.0))  # Flip Y-axis for GIS\n",
    "        \n",
    "        # Write the updated GeoTIFF\n",
    "        with rasterio.open(output_path, 'w', **profile) as dst:\n",
    "            dst.write(img_data)\n",
    "\n",
    "# Example usage\n",
    "# fix_georeference(\"DJI_0001_R.TIFF\", \"DJI_0001_R_GEOREF.TIFF\")"
   ]
  },
  {
   "cell_type": "code",
   "execution_count": 5,
   "id": "43259dc5",
   "metadata": {},
   "outputs": [
    {
     "name": "stdout",
     "output_type": "stream",
     "text": [
      "File exists: ..\\..\\temp\\images\\image_0009.tif\n",
      "File name image_0009.tif  related metadata\n",
      "Lat: [7, 16, 36407/1250], Lon: [81, 41, 41997/2500], Focal: 287/50\n",
      "CRS: None, Transform: | 1.00, 0.00, 0.00|\n",
      "| 0.00, 1.00, 0.00|\n",
      "| 0.00, 0.00, 1.00|\n",
      "++++++++++++++++++++++++++++++++++++++++++++++\n",
      "Georeference fixed and saved to test/fix_crs/image_0009.tif\n",
      "New file metadata:\n",
      "New CRS: EPSG:5234, New Transform: | 1.00, 0.00, 0.00|\n",
      "| 0.00,-1.00, 0.00|\n",
      "| 0.00, 0.00, 1.00|\n"
     ]
    },
    {
     "name": "stderr",
     "output_type": "stream",
     "text": [
      "c:\\Users\\user\\anaconda3\\envs\\research_env\\lib\\site-packages\\rasterio\\__init__.py:378: NotGeoreferencedWarning: The given matrix is equal to Affine.identity or its flipped counterpart. GDAL may ignore this matrix and save no geotransform without raising an error. This behavior is somewhat driver-specific.\n",
      "  dataset = writer(\n"
     ]
    }
   ],
   "source": [
    "def extract_metadata(tiff_path):\n",
    "    # Extract GPS and camera info using exifread\n",
    "    with open(tiff_path, 'rb') as f:\n",
    "        tags = exifread.process_file(f)\n",
    "        lat = tags.get('GPS GPSLatitude')\n",
    "        lon = tags.get('GPS GPSLongitude')\n",
    "        focal_length = tags.get('EXIF FocalLength')\n",
    "        print(f\"Lat: {lat}, Lon: {lon}, Focal: {focal_length}\")\n",
    "\n",
    "    # Extract geospatial info using rasterio\n",
    "    with rasterio.open(tiff_path) as src:\n",
    "        crs = src.crs  # Coordinate Reference System\n",
    "        transform = src.transform  # Affine transform\n",
    "        print(f\"CRS: {crs}, Transform: {transform}\")\n",
    "        print(\"++++++++++++++++++++++++++++++++++++++++++++++\")\n",
    "        # Check if the CRS is None (missing)\n",
    "        if (crs is None):\n",
    "            output_path =  os.path.join(\"test/fix_crs/\", tiff_path.name)\n",
    "            fix_georeference(tiff_path, output_path)\n",
    "            print(f\"Georeference fixed and saved to {output_path}\")\n",
    "            print(\"New file metadata:\")\n",
    "            with rasterio.open(output_path) as new_src:\n",
    "                new_crs = new_src.crs\n",
    "                new_transform = new_src.transform\n",
    "                print(f\"New CRS: {new_crs}, New Transform: {new_transform}\")\n",
    "        else:\n",
    "            print(\"No need to fix georeference.\")\n",
    "\n",
    "\n",
    "\n",
    "# Example usage\n",
    "# E:\\Research_topic\\Gal_Oya\\118FPLAN\\odm_orthophoto\n",
    "# imger_path = Path(\"../../../../Gal_Oya/108FPLAN/DJI_0025.TIF\")\n",
    "# imger_path = Path(\"../../../../Gal_Oya/118FPLAN/odm_orthophoto/odm_orthophoto.original.tif\")\n",
    "# imger_path = Path(\"../../data/FOM_PIX4D/germination/main/germination_main.tif\")\n",
    "imger_path = Path(\"../../temp/images/image_0009.tif\")\n",
    "if imger_path.exists():\n",
    "    print(f\"File exists: {imger_path}\")\n",
    "else:\n",
    "    print(f\"File does not exist: {imger_path}\")\n",
    "\n",
    "print(f\"File name {imger_path.name}  related metadata\")\n",
    "extract_metadata(imger_path)"
   ]
  },
  {
   "cell_type": "code",
   "execution_count": 33,
   "id": "0c99cb99",
   "metadata": {},
   "outputs": [
    {
     "name": "stdout",
     "output_type": "stream",
     "text": [
      "Number of bands: 6\n",
      "Image dimensions: 1409 x 2114\n",
      "Image CRS: EPSG:32644\n",
      "Image transform: | 0.05, 0.00, 575873.07|\n",
      "| 0.00,-0.05, 804192.13|\n",
      "| 0.00, 0.00, 1.00|\n",
      "Band 1 description: Red\n",
      "++++++++++++++++++++++++++++++++++++++++++++++\n",
      "Band 2 description: Green\n",
      "++++++++++++++++++++++++++++++++++++++++++++++\n",
      "Band 3 description: Blue\n",
      "++++++++++++++++++++++++++++++++++++++++++++++\n",
      "Band 4 description: NIR\n",
      "++++++++++++++++++++++++++++++++++++++++++++++\n",
      "Band 5 description: RedEdge\n",
      "++++++++++++++++++++++++++++++++++++++++++++++\n",
      "Band 6 description: None\n",
      "++++++++++++++++++++++++++++++++++++++++++++++\n"
     ]
    }
   ],
   "source": [
    "#check bands\n",
    "with rasterio.open(imger_path) as src:\n",
    "    print(f\"Number of bands: {src.count}\")\n",
    "    print(f\"Image dimensions: {src.width} x {src.height}\")\n",
    "    print(f\"Image CRS: {src.crs}\")\n",
    "    print(f\"Image transform: {src.transform}\")\n",
    "    for i in range(1, src.count + 1):\n",
    "        band = src.read(i)\n",
    "        desc = src.descriptions[i - 1]  # descriptions is a tuple, zero-indexed\n",
    "        print(f\"Band {i} description: {desc}\")\n",
    "        # print(f\"Band {i} shape: {band.shape}\")\n",
    "        # print(f\"Band {i} data type: {band.dtype}\")\n",
    "        # print(f\"Band {i} min value: {band.min()}\")\n",
    "        # print(f\"Band {i} max value: {band.max()}\")\n",
    "        print(\"++++++++++++++++++++++++++++++++++++++++++++++\")\n"
   ]
  },
  {
   "cell_type": "code",
   "execution_count": null,
   "id": "2e1eaed0",
   "metadata": {},
   "outputs": [],
   "source": []
  }
 ],
 "metadata": {
  "kernelspec": {
   "display_name": "research_env",
   "language": "python",
   "name": "python3"
  },
  "language_info": {
   "codemirror_mode": {
    "name": "ipython",
    "version": 3
   },
   "file_extension": ".py",
   "mimetype": "text/x-python",
   "name": "python",
   "nbconvert_exporter": "python",
   "pygments_lexer": "ipython3",
   "version": "3.10.16"
  }
 },
 "nbformat": 4,
 "nbformat_minor": 5
}
