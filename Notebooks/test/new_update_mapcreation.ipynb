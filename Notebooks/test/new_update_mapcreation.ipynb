{
 "cells": [
  {
   "cell_type": "markdown",
   "id": "024d7829",
   "metadata": {},
   "source": [
    "### Geo-json logic"
   ]
  },
  {
   "cell_type": "code",
   "execution_count": 1,
   "id": "8d379ca2",
   "metadata": {},
   "outputs": [],
   "source": [
    "import joblib\n",
    "import rasterio\n",
    "from rasterio.features import shapes\n",
    "import numpy as np\n",
    "import json\n",
    "from pathlib import Path\n",
    "from shapely.geometry import Polygon, mapping\n",
    "import geopandas as gpd\n",
    "from folium import Map, GeoJson, GeoJsonTooltip\n",
    "\n",
    "# import geopandas as gpd\n",
    "# import folium"
   ]
  },
  {
   "cell_type": "markdown",
   "id": "6a3c56bf",
   "metadata": {},
   "source": [
    ">- Utility functions"
   ]
  },
  {
   "cell_type": "code",
   "execution_count": 2,
   "id": "0669b8fe",
   "metadata": {},
   "outputs": [],
   "source": [
    "# Band mapping for your UAV image\n",
    "BAND_MAPPING = {\n",
    "    \"RED\": 0,\n",
    "    \"NIR\": 3,\n",
    "    \"GREEN\": 1\n",
    "}\n",
    "\n",
    "\n",
    "# Correct band mapping\n",
    "BAND_MAPPING_CORRECT_Fix4D = {\n",
    "    \"BLUE\": 0,\n",
    "    \"GREEN\": 1,\n",
    "    \"RED\": 2,\n",
    "    \"RED_EDGE\": 3,\n",
    "    \"NIR\": 4,\n",
    "}\n",
    "\n",
    "BAND_MAPPING_CORRECT_ODM = {\n",
    "    \"RED\": 0,\n",
    "    \"GREEN\": 1,\n",
    "    \"BLUE\": 2,\n",
    "    \"NIR\": 3,\n",
    "    \"RED_EDGE\": 4,\n",
    "}"
   ]
  },
  {
   "cell_type": "code",
   "execution_count": 3,
   "id": "84fb8cdf",
   "metadata": {},
   "outputs": [],
   "source": [
    "def calculate_ndvi(nir_band, red_band):\n",
    "    \"\"\"Calculates Normalized Difference Vegetation Index (NDVI).\"\"\"\n",
    "    return (nir_band - red_band) / (nir_band + red_band + 1e-10)\n",
    "\n",
    "def calculate_ndwi(nir_band, green_band):\n",
    "    \"\"\"Calculates Normalized Difference Water Index (NDWI).\"\"\"\n",
    "    # nwir_band ---> geen_band \n",
    "    # NDWI = (green_band - nir_band) / (green_band + nir_band + 1e-10 )\n",
    "    # return (nir_band - swir_band) / (nir_band + swir_band + 1e-10)\n",
    "    return(green_band - nir_band) / (green_band + nir_band + 1e-10 )\n",
    "\n",
    "\n",
    "def extract_features_from_patch_array(patch_array):\n",
    "    \"\"\"\n",
    "    Extracts features from a single multispectral patch NumPy array.\n",
    "    Expects patch_array shape: (num_bands, height, width)\n",
    "    \"\"\"\n",
    "    features = []\n",
    "    # Safely get band data using BAND_MAPPING\n",
    "    try:\n",
    "        red_band = patch_array[BAND_MAPPING[\"RED\"]]\n",
    "        nir_band = patch_array[BAND_MAPPING[\"NIR\"]]\n",
    "        green_band = patch_array[BAND_MAPPING[\"GREEN\"]]\n",
    "        \n",
    "        # Calculate NDVI and NDWI\n",
    "        ndvi = calculate_ndvi(nir_band, red_band)\n",
    "        ndwi = calculate_ndwi(nir_band, green_band)\n",
    "        \n",
    "        features = [\n",
    "            np.mean(ndvi), np.std(ndvi),\n",
    "            np.mean(ndwi), np.std(ndwi),\n",
    "            np.percentile(nir_band, 75),\n",
    "            np.mean(green_band > np.quantile(green_band, 0.75))\n",
    "        ]\n",
    "        \n",
    "        return np.array(features)\n",
    "    except KeyError as e:\n",
    "        raise ValueError(f\"Missing required band in patch: {e}\")\n",
    "    \n",
    "    "
   ]
  },
  {
   "cell_type": "markdown",
   "id": "541963da",
   "metadata": {},
   "source": [
    ">- Main logic"
   ]
  },
  {
   "cell_type": "code",
   "execution_count": 4,
   "id": "14f760e4",
   "metadata": {},
   "outputs": [],
   "source": [
    "# Assume these are defined elsewhere in your code\n",
    "# from my_utils import extract_features_from_patch_array\n",
    "# from my_constants import BAND_MAPPING\n",
    "# OUTPUT_GEOJSON_PATH = \"path/to/your/output.geojson\"\n",
    "# GROWTH_STAGES = [\"stage_a\", \"stage_b\", \"stage_c\"]\n",
    "\n",
    "\n",
    "def process_field_for_mapping(image_path: Path, ml_model, growth_stages: list,\n",
    "                              patch_size: int = 64, min_pixel_sum_threshold: int = 1000) -> Path:\n",
    "    \"\"\"\n",
    "    Processes a multispectral GeoTIFF, extracts valid patches,\n",
    "    predicts growth stages, generates a classified raster,\n",
    "    and then vectorizes it into a GeoJSON file with correctly shaped polygons.\n",
    "    \"\"\"\n",
    "    print(f\">>>>>>>>>>--------- Starting processing for: {image_path.name} ---------<<<<<<<<<<\", flush=True)\n",
    "\n",
    "    with rasterio.open(image_path) as src:\n",
    "        image_data = src.read()\n",
    "        profile = src.profile\n",
    "        transform = src.transform\n",
    "        nodata_val = src.nodata\n",
    "\n",
    "        bands, h, w = image_data.shape\n",
    "        print(f\":--->:) Image dimensions: {h}x{w} pixels, {bands} bands.\", flush=True)\n",
    "\n",
    "        # Create an output array for classified pixels\n",
    "        # Use a data type that can hold your class labels (e.g., int8, int16)\n",
    "        classified_raster = np.full((h, w), fill_value=-1, dtype=np.int16)\n",
    "        \n",
    "        num_patches_skipped = 0\n",
    "        total_possible_patches = 0\n",
    "        \n",
    "        print(\":--->:) Start the feeding patches to model\", flush=True)\n",
    "        # --- Patch-wise Prediction and Raster Filling ---\n",
    "        for r_start in range(0, h, patch_size):\n",
    "            for c_start in range(0, w, patch_size):\n",
    "                total_possible_patches += 1\n",
    "                r_end = r_start + patch_size\n",
    "                c_end = c_start + patch_size\n",
    "                \n",
    "                # Handle partial patches at the edges\n",
    "                current_h = min(patch_size, h - r_start)\n",
    "                current_w = min(patch_size, w - c_start)\n",
    "                \n",
    "                # Skip if the patch is too small to be meaningful (optional)\n",
    "                if current_h < patch_size or current_w < patch_size:\n",
    "                    num_patches_skipped += 1\n",
    "                    continue\n",
    "                \n",
    "                patch_data = image_data[:, r_start:r_end, c_start:c_end]\n",
    "\n",
    "                # --- Filtering for \"informationless\" patches ---\n",
    "                if nodata_val is not None and np.all(patch_data == nodata_val):\n",
    "                    num_patches_skipped += 1\n",
    "                    continue\n",
    "\n",
    "                if np.sum(patch_data) < min_pixel_sum_threshold:\n",
    "                    num_patches_skipped += 1\n",
    "                    continue\n",
    "                \n",
    "                if patch_data.shape[0] < bands: # Basic check for sufficient bands\n",
    "                    num_patches_skipped += 1\n",
    "                    continue\n",
    "                \n",
    "                # Reshape patch for feature extraction\n",
    "                try:\n",
    "                    features = extract_features_from_patch_array(patch_data)\n",
    "                    # Check for NaNs\n",
    "                    if any(np.isnan(f) for f in features):\n",
    "                        num_patches_skipped += 1\n",
    "                        continue\n",
    "                        \n",
    "                    # Perform prediction\n",
    "                    prediction_label = int(ml_model.predict([features])[0])\n",
    "                    \n",
    "                    # Fill the classified raster with the predicted label\n",
    "                    classified_raster[r_start:r_end, c_start:c_end] = prediction_label\n",
    "                except Exception as e:\n",
    "                    print(f\"Error processing patch at {r_start},{c_start}: {e}\", flush=True)\n",
    "                    num_patches_skipped += 1\n",
    "                    continue\n",
    "\n",
    "    print(f\"===> Finished patch processing. Skipped {num_patches_skipped} patches.\", flush=True)\n",
    "    print(\"===> Now vectorizing the classified raster...\", flush=True)\n",
    "\n",
    "    # --- Vectorize the Classified Raster ---\n",
    "    geojson_features = []\n",
    "    \n",
    "    # Set nodata value for the classified raster\n",
    "    classified_raster_nodata = -1\n",
    "    \n",
    "    # The `shapes` function is the key to solving your problem.\n",
    "    # It converts a raster with discrete values (our class labels) into polygons.\n",
    "    # It automatically handles the irregular shapes by grouping adjacent pixels with the same value.\n",
    "    for geom, value in shapes(\n",
    "        classified_raster.astype(np.int16), \n",
    "        mask=(classified_raster != classified_raster_nodata), # Create a mask to ignore 'no-data' values\n",
    "        transform=transform\n",
    "    ):\n",
    "        if value != -1:  # Only process the valid predicted classes\n",
    "            growth_stage_name = growth_stages[int(value)]\n",
    "            geojson_features.append({\n",
    "                \"type\": \"Feature\",\n",
    "                \"geometry\": geom,  # `shapes` already returns GeoJSON-compatible geometry\n",
    "                \"properties\": {\n",
    "                    \"growth_stage\": growth_stage_name\n",
    "                }\n",
    "            })\n",
    "            \n",
    "    if not geojson_features:\n",
    "        print(\":--->:( No features were vectorized. Exiting.\", flush=True)\n",
    "        return None\n",
    "    \n",
    "    # --- GeoJSON Output ---\n",
    "    output_geojson_data = {\n",
    "        \"type\": \"FeatureCollection\",\n",
    "        \"crs\": {\n",
    "            \"type\": \"name\",\n",
    "            \"properties\": {\"name\": f\"EPSG:{src.crs.to_epsg()}\"}\n",
    "        },\n",
    "        \"features\": geojson_features\n",
    "    }\n",
    "    \n",
    "    # Define the output path for the GeoJSON file\n",
    "    output_dir = Path(\"test_new_update_mapcreation\")\n",
    "    output_dir.mkdir(parents=True, exist_ok=True)\n",
    "    output_geojson_path = Path(f\"{output_dir}/classified_output.geojson\") # Or your defined path\n",
    "    with open(output_geojson_path, \"w\") as f:\n",
    "        json.dump(output_geojson_data, f, indent=2)\n",
    "\n",
    "    print(f\":---->:) GeoJSON data saved to {output_geojson_path}\", flush=True)\n",
    "    print(\"===> Processing complete. GeoJSON file with correctly shaped polygons generated.\", flush=True)\n",
    "    return output_geojson_path"
   ]
  },
  {
   "cell_type": "markdown",
   "id": "cedc41c3",
   "metadata": {},
   "source": [
    ">- call thr function"
   ]
  },
  {
   "cell_type": "markdown",
   "id": "14fa6931",
   "metadata": {},
   "source": [
    ">- >- path define"
   ]
  },
  {
   "cell_type": "code",
   "execution_count": 5,
   "id": "a4dcea39",
   "metadata": {},
   "outputs": [
    {
     "name": "stdout",
     "output_type": "stream",
     "text": [
      ":--->:) UAV Image Path: ..\\..\\temp\\odm_orthophoto\\odm_orthophoto.tif\n",
      ":--->:) ML Model Path: ..\\..\\src\\App\\model\\XGB_model_v5.joblib\n"
     ]
    }
   ],
   "source": [
    "root_dir = Path(\"../../\")   # Adjust this path to your project root\n",
    "src_dir = root_dir / \"src\"  # Path to your source directory\n",
    "# Path to your multispectral UAV image\n",
    "UAV_IMAGE_PATH = root_dir / \"temp\" / \"odm_orthophoto\" / \"odm_orthophoto.tif\"\n",
    "if not UAV_IMAGE_PATH.exists():\n",
    "    raise FileNotFoundError(f\":--->:( UAV image not found at {UAV_IMAGE_PATH}\")\n",
    "# Path to your trained ML model\n",
    "ML_MODEL_PATH = src_dir /\"App\" / \"model\" / \"XGB_model_v5.joblib\" \n",
    "if not ML_MODEL_PATH.exists():\n",
    "    raise FileNotFoundError(f\":--->:( ML model not found at {ML_MODEL_PATH}\")\n",
    "\n",
    "print(f\":--->:) UAV Image Path: {UAV_IMAGE_PATH}\", flush=True)\n",
    "print(f\":--->:) ML Model Path: {ML_MODEL_PATH}\", flush=True)"
   ]
  },
  {
   "cell_type": "markdown",
   "id": "d8b20f16",
   "metadata": {},
   "source": [
    ">- >- load model"
   ]
  },
  {
   "cell_type": "code",
   "execution_count": 6,
   "id": "b8b50c3a",
   "metadata": {},
   "outputs": [
    {
     "name": "stdout",
     "output_type": "stream",
     "text": [
      ":--->:) Model loaded successfully from ..\\..\\src\\App\\model\\XGB_model_v5.joblib\n"
     ]
    }
   ],
   "source": [
    "try:\n",
    "    loaded_model = joblib.load(ML_MODEL_PATH)\n",
    "except Exception as e:\n",
    "    raise ValueError(f\"Failed to load the model from {ML_MODEL_PATH}: {e}\")\n",
    "\n",
    "print(f\":--->:) Model loaded successfully from {ML_MODEL_PATH}\", flush=True)"
   ]
  },
  {
   "cell_type": "code",
   "execution_count": 7,
   "id": "afea2e09",
   "metadata": {},
   "outputs": [
    {
     "name": "stdout",
     "output_type": "stream",
     "text": [
      ">>>>>>>>>>--------- Starting processing for: odm_orthophoto.tif ---------<<<<<<<<<<\n",
      ":--->:) Image dimensions: 2301x1180 pixels, 6 bands.\n",
      ":--->:) Start the feeding patches to model\n",
      "===> Finished patch processing. Skipped 207 patches.\n",
      "===> Now vectorizing the classified raster...\n",
      ":---->:) GeoJSON data saved to test_new_update_mapcreation\\classified_output.geojson\n",
      "===> Processing complete. GeoJSON file with correctly shaped polygons generated.\n"
     ]
    }
   ],
   "source": [
    "GROWTH_STAGES = [\"germination\", \"tillering\", \"grand_growth\", \"ripening\"]\n",
    "MIN_PIXEL_SUM_THRESHOLD = 5000\n",
    "# Call the function to process the field and generate the GeoJSON\n",
    "geojson_path = process_field_for_mapping(\n",
    "    image_path=Path(UAV_IMAGE_PATH), \n",
    "    ml_model=loaded_model, \n",
    "    growth_stages=GROWTH_STAGES,\n",
    "    min_pixel_sum_threshold=MIN_PIXEL_SUM_THRESHOLD\n",
    ")\n",
    "\n",
    "OUTPUT_GEOJSON_PATH = geojson_path"
   ]
  },
  {
   "cell_type": "markdown",
   "id": "0a574bd8",
   "metadata": {},
   "source": [
    "### Map logic"
   ]
  },
  {
   "cell_type": "code",
   "execution_count": 8,
   "id": "92b0b521",
   "metadata": {},
   "outputs": [
    {
     "name": "stdout",
     "output_type": "stream",
     "text": [
      "Interactive map saved as test_new_update_mapcreation\\map_output\\sugarcane_growth_map.html\n"
     ]
    },
    {
     "name": "stderr",
     "output_type": "stream",
     "text": [
      "C:\\Users\\user\\AppData\\Local\\Temp\\ipykernel_8008\\672086571.py:30: UserWarning: Geometry is in a geographic CRS. Results from 'centroid' are likely incorrect. Use 'GeoSeries.to_crs()' to re-project geometries to a projected CRS before this operation.\n",
      "\n",
      "  centroid = geo_json_obj.to_crs(\"EPSG:4326\").geometry.centroid\n"
     ]
    }
   ],
   "source": [
    "# Assume `output_geojson_path` is the path returned by the function above\n",
    "output_geojson_path = Path(OUTPUT_GEOJSON_PATH)\n",
    "\n",
    "# Define a color map for the different growth stages\n",
    "# You can choose your own colors here\n",
    "color_map = {\n",
    "    \"germination\": \"#B3E5FC\",   # Light Blue\n",
    "    \"tillering\": \"#8BC34A\",     # Light Green\n",
    "    \"grand_growth\": \"#4CAF50\",  # Green\n",
    "    \"ripening\": \"#FFEB3B\",      # Yellow\n",
    "    None: \"#808080\"             # Gray for skipped/unclassified patches\n",
    "}\n",
    "\n",
    "# The new style_function will use this dictionary\n",
    "def style_function(feature):\n",
    "    growth_stage = feature['properties'].get('growth_stage')\n",
    "    return {\n",
    "        'fillColor': color_map.get(growth_stage, '#808080'), # Use a fallback color for safety\n",
    "        'color': 'black',\n",
    "        'weight': 0.2,\n",
    "        'fillOpacity': 0.7\n",
    "    }\n",
    "\n",
    "if output_geojson_path.exists():\n",
    "    # Load the new GeoJSON file\n",
    "    geo_json_obj = gpd.read_file(output_geojson_path)\n",
    "    \n",
    "    # Create a Folium map centered on the centroid of the patches\n",
    "    # The to_crs is important if your GeoTIFF is not in WGS84 (EPSG:4326)\n",
    "    centroid = geo_json_obj.to_crs(\"EPSG:4326\").geometry.centroid\n",
    "    \n",
    "    # Handle empty GeoDataFrame\n",
    "    if centroid.empty:\n",
    "        print(\"GeoJSON file is empty. Cannot create map.\")\n",
    "        # Create a default map or handle the error\n",
    "        m = Map(location=[0, 0], zoom_start=2) \n",
    "    else:\n",
    "        m = Map(location=[centroid.y.mean(), centroid.x.mean()], zoom_start=16, tiles=\"OpenStreetMap\")\n",
    "    \n",
    "    # Add GeoJSON to the map with style based on growth_stage\n",
    "    GeoJson(\n",
    "        geo_json_obj.to_crs(\"EPSG:4326\"),\n",
    "        style_function=style_function,\n",
    "        tooltip=GeoJsonTooltip(fields=['growth_stage'])\n",
    "    ).add_to(m)\n",
    "    \n",
    "    \n",
    "    output_dir = Path(\"test_new_update_mapcreation/map_output\")\n",
    "    output_dir.mkdir(parents=True, exist_ok=True)\n",
    "    # define save file path\n",
    "    save_path = output_dir / \"sugarcane_growth_map.html\"\n",
    "    \n",
    "    # Save and display\n",
    "    m.save(save_path)\n",
    "    print(f\"Interactive map saved as {save_path}\")"
   ]
  },
  {
   "cell_type": "code",
   "execution_count": null,
   "id": "3ed0946a",
   "metadata": {},
   "outputs": [],
   "source": []
  }
 ],
 "metadata": {
  "kernelspec": {
   "display_name": "research_env",
   "language": "python",
   "name": "python3"
  },
  "language_info": {
   "codemirror_mode": {
    "name": "ipython",
    "version": 3
   },
   "file_extension": ".py",
   "mimetype": "text/x-python",
   "name": "python",
   "nbconvert_exporter": "python",
   "pygments_lexer": "ipython3",
   "version": "3.10.16"
  }
 },
 "nbformat": 4,
 "nbformat_minor": 5
}
