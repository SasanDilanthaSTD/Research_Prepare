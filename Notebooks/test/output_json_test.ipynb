{
 "cells": [
  {
   "cell_type": "code",
   "execution_count": null,
   "id": "8be83677",
   "metadata": {},
   "outputs": [],
   "source": [
    "import exifread\n",
    "import rasterio\n",
    "from rasterio.transform import Affine, from_origin\n",
    "from rasterio.crs import CRS\n",
    "from pathlib import Path\n",
    "import os"
   ]
  },
  {
   "cell_type": "code",
   "execution_count": null,
   "id": "d894265d",
   "metadata": {},
   "outputs": [],
   "source": [
    "root_dir = Path(\"../../\") \n",
    "ODM_OUTPUT_GEOREF_GEOJSON = root_dir / \"temp\" / \"odm_georeferencing\"/\"odm_georeferenced_model.bounds.geojson\"\n",
    "\n",
    "# check file is exists\n",
    "if not ODM_OUTPUT_GEOREF_GEOJSON.exists():\n",
    "    raise FileNotFoundError(f\"File {ODM_OUTPUT_GEOREF_GEOJSON} does not exist.\")\n",
    "else:\n",
    "    print(f\"File {ODM_OUTPUT_GEOREF_GEOJSON} exists.\")\n",
    "    \n",
    "ODM_OUTPUT_REPORT_GEOJSON = root_dir / \"temp\" / \"odm_report\"/\"shots.geojson\"\n",
    "\n",
    "# check file is exists\n",
    "if not ODM_OUTPUT_REPORT_GEOJSON.exists():\n",
    "    raise FileNotFoundError(f\"File {ODM_OUTPUT_REPORT_GEOJSON} does not exist.\")\n",
    "else:\n",
    "    print(f\"File {ODM_OUTPUT_REPORT_GEOJSON} exists.\")"
   ]
  },
  {
   "cell_type": "code",
   "execution_count": null,
   "id": "f02c1bd7",
   "metadata": {},
   "outputs": [],
   "source": [
    "from shapely.geometry import Polygon, mapping\n",
    "import json\n",
    "import geopandas as gpd\n",
    "import matplotlib.pyplot as plt\n",
    "import contextily as cx # For adding basemaps"
   ]
  },
  {
   "cell_type": "code",
   "execution_count": 18,
   "id": "882467ea",
   "metadata": {},
   "outputs": [
    {
     "name": "stderr",
     "output_type": "stream",
     "text": [
      "Skipping field translation: unsupported OGR type: 3\n",
      "Skipping field rotation: unsupported OGR type: 3\n"
     ]
    },
    {
     "name": "stdout",
     "output_type": "stream",
     "text": [
      "CRS of ODM georeferenced model: EPSG:4326\n",
      "CRS of ODM report: EPSG:4979\n",
      "ODM Georeferenced Model GeoDataFrame:\n",
      "                                            geometry\n",
      "0  POLYGON ((575929.39484 804095.38087, 575929.23...\n",
      "ODM Report GeoDataFrame:\n",
      "         filename                                      camera     focal  \\\n",
      "0  image_0121.TIF  v2 dji fc6360 1600 1300 perspective 1.1111  1.025298   \n",
      "1  image_0126.TIF  v2 dji fc6360 1600 1300 perspective 1.1111  1.025298   \n",
      "2  image_0231.TIF  v2 dji fc6360 1600 1300 perspective 1.1111  1.025298   \n",
      "3  image_0261.TIF  v2 dji fc6360 1600 1300 perspective 1.1111  1.025298   \n",
      "4  image_0316.TIF  v2 dji fc6360 1600 1300 perspective 1.1111  1.025298   \n",
      "\n",
      "   width  height  capture_time                              geometry  \n",
      "0   1600    1300  1.735055e+09  POINT Z (81.68764 7.27448 -56.72149)  \n",
      "1   1600    1300  1.735055e+09  POINT Z (81.68762 7.27451 -56.72001)  \n",
      "2   1600    1300  1.735055e+09  POINT Z (81.68754 7.27454 -56.74494)  \n",
      "3   1600    1300  1.735055e+09  POINT Z (81.68764 7.27437 -56.75791)  \n",
      "4   1600    1300  1.735055e+09  POINT Z (81.68783 7.27407 -56.71852)  \n"
     ]
    }
   ],
   "source": [
    "# read the ODM output georeferenced geojson\n",
    "odm_georef_gdf = gpd.read_file(ODM_OUTPUT_GEOREF_GEOJSON)\n",
    "# read the ODM output report geojson\n",
    "odm_report_gdf = gpd.read_file(ODM_OUTPUT_REPORT_GEOJSON)\n",
    "\n",
    "# Ensure both GeoDataFrames use the same CRS\n",
    "print(\"CRS of ODM georeferenced model:\", odm_georef_gdf.crs)\n",
    "print(\"CRS of ODM report:\", odm_report_gdf.crs)\n",
    "\n",
    "# print the first few rows of each GeoDataFrame\n",
    "print(\"ODM Georeferenced Model GeoDataFrame:\")\n",
    "print(odm_georef_gdf.head())\n",
    "print(\"ODM Report GeoDataFrame:\")\n",
    "print(odm_report_gdf.head())"
   ]
  },
  {
   "cell_type": "code",
   "execution_count": null,
   "id": "3684a7cf",
   "metadata": {},
   "outputs": [],
   "source": [
    "#odm_georef_gdf.plot(column='id', figsize=(10, 10), color='blue', edgecolor='black', alpha=0.5)"
   ]
  },
  {
   "cell_type": "code",
   "execution_count": 16,
   "id": "110e405b",
   "metadata": {},
   "outputs": [],
   "source": [
    "# using folium to visualize the georeferenced model and report\n",
    "# import folium\n",
    "\n",
    "# # Create a folium map centered around the georeferenced model\n",
    "# center = odm_georef_gdf.geometry.union_all().centroid\n",
    "# m = folium.Map(location=[center.y, center.x], zoom_start=15)\n",
    "# # Add the georeferenced model to the map\n",
    "# folium.GeoJson(odm_georef_gdf).add_to(m)\n",
    "# # Add the report points to the map\n",
    "# #folium.GeoJson(odm_report_gdf).add_to(m)\n",
    "# # Save the map to an HTML file\n",
    "# # dfine save path\n",
    "# save_path = Path(\"test/html\")\n",
    "# save_path.mkdir(parents=True, exist_ok=True)\n",
    "# save_path = save_path / \"test__1.html\"\n",
    "# # save the map\n",
    "# m.save(save_path)\n",
    "\n",
    "# # Display the map in Jupyter Notebook\n",
    "# from IPython.display import IFrame\n",
    "\n",
    "# # Display the saved HTML map\n",
    "# # IFrame(src=str(save_path), width='100%', height=600)"
   ]
  },
  {
   "cell_type": "code",
   "execution_count": 20,
   "id": "822f1de9",
   "metadata": {},
   "outputs": [
    {
     "name": "stderr",
     "output_type": "stream",
     "text": [
      "C:\\Users\\user\\AppData\\Local\\Temp\\ipykernel_3968\\4242125600.py:4: UserWarning: Geometry is in a geographic CRS. Results from 'centroid' are likely incorrect. Use 'GeoSeries.to_crs()' to re-project geometries to a projected CRS before this operation.\n",
      "\n",
      "  centroid = odm_georef_gdf.to_crs(\"EPSG:4326\").geometry.centroid\n"
     ]
    }
   ],
   "source": [
    "import folium\n",
    "\n",
    "# Create a Folium map centered on the centroid\n",
    "centroid = odm_georef_gdf.to_crs(\"EPSG:4326\").geometry.centroid\n",
    "\n",
    "map_1 = folium.Map(location=[centroid.y.mean(), centroid.x.mean()], zoom_start=16)\n",
    "\n",
    "# Add GeoJSON to the map with style based on growth_stage\n",
    "folium.GeoJson(\n",
    "    odm_georef_gdf.to_crs(\"EPSG:4326\"),\n",
    "    style_function=lambda x: {\n",
    "        'weight': 0.2,\n",
    "        'fillOpacity': 0.7\n",
    "    },\n",
    ").add_to(m)\n",
    "\n",
    "m.save(\"test/odm_georef_map.html\")"
   ]
  },
  {
   "cell_type": "code",
   "execution_count": null,
   "id": "08d87367",
   "metadata": {},
   "outputs": [],
   "source": []
  }
 ],
 "metadata": {
  "kernelspec": {
   "display_name": "research_env",
   "language": "python",
   "name": "python3"
  },
  "language_info": {
   "codemirror_mode": {
    "name": "ipython",
    "version": 3
   },
   "file_extension": ".py",
   "mimetype": "text/x-python",
   "name": "python",
   "nbconvert_exporter": "python",
   "pygments_lexer": "ipython3",
   "version": "3.10.16"
  }
 },
 "nbformat": 4,
 "nbformat_minor": 5
}
